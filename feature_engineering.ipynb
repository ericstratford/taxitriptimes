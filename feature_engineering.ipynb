{
 "cells": [
  {
   "cell_type": "code",
   "execution_count": 1,
   "id": "acf48a10",
   "metadata": {},
   "outputs": [],
   "source": [
    "import pandas as pd\n",
    "import numpy as np\n",
    "import sklearn \n",
    "import matplotlib.pyplot as plt\n",
    "from sklearn.preprocessing import OneHotEncoder\n",
    "from sklearn.compose import ColumnTransformer\n",
    "import math\n",
    "import os\n",
    "from sklearn.cluster import KMeans\n",
    "from sklearn.metrics import silhouette_score\n",
    "import pickle"
   ]
  },
  {
   "cell_type": "markdown",
   "id": "d900bce7",
   "metadata": {},
   "source": [
    "# Prepocessing\n",
    "- Adding trip duration and datetime to datasets"
   ]
  },
  {
   "cell_type": "code",
   "execution_count": 2,
   "id": "08252f97",
   "metadata": {},
   "outputs": [],
   "source": [
    "# trn_fp = os.path.dirname(\"cse151B_project/data/train.csv\")\n",
    "train_raw = pd.read_csv(\"data/train.csv\")\n",
    "# tt_fp = os.path.dirname(\"cse151B_project/data/test_public.csv\")\n",
    "test_raw = pd.read_csv(\"data/test_public.csv\")"
   ]
  },
  {
   "cell_type": "code",
   "execution_count": 3,
   "id": "bb1d6e38",
   "metadata": {},
   "outputs": [],
   "source": [
    "def transform_raw(df, train):\n",
    "    \"\"\"\n",
    "    adds polyline and datetime info to dataset\n",
    "    \n",
    "    df: raw df\n",
    "    train: boolean on whether or not passed in df is train or test\n",
    "    \"\"\"\n",
    "    def polyline_to_trip_duration(polyline):\n",
    "        return max(polyline.count(\"[\") - 2, 0) * 15\n",
    "    \n",
    "    df = df.copy()\n",
    "    # Convert Unix timestamp to datetime\n",
    "    df['DT'] = pd.to_datetime(df['TIMESTAMP'], unit='s')\n",
    "\n",
    "    # Extract year, month, day of the week, and hour of the day\n",
    "    df['YEAR'] = df['DT'].dt.year\n",
    "    df['MONTH'] = df['DT'].dt.month\n",
    "    df['WEEK'] = df['DT'].dt.dayofweek\n",
    "    df['HOUR'] = df['DT'].dt.hour\n",
    "    \n",
    "    # extract ride duration for training set\n",
    "    if (train):\n",
    "        df[\"DURATION\"] = df[\"POLYLINE\"].apply(polyline_to_trip_duration)\n",
    "    return df"
   ]
  },
  {
   "cell_type": "code",
   "execution_count": 4,
   "id": "00bc6747",
   "metadata": {},
   "outputs": [],
   "source": [
    "train_set = transform_raw(train_raw, True)\n",
    "duration_col = np.array(train_set['DURATION']).reshape(-1,1)"
   ]
  },
  {
   "cell_type": "code",
   "execution_count": 5,
   "id": "cc500c52",
   "metadata": {},
   "outputs": [
    {
     "data": {
      "text/plain": [
       "(1710990, 9)"
      ]
     },
     "execution_count": 5,
     "metadata": {},
     "output_type": "execute_result"
    }
   ],
   "source": [
    "full_set = pd.concat((train_raw, test_raw))\n",
    "full_set.shape"
   ]
  },
  {
   "cell_type": "code",
   "execution_count": 6,
   "id": "04ddb069",
   "metadata": {},
   "outputs": [],
   "source": [
    "full_set_proc = transform_raw(full_set, False)"
   ]
  },
  {
   "cell_type": "code",
   "execution_count": 7,
   "id": "8a1ec256",
   "metadata": {},
   "outputs": [
    {
     "data": {
      "text/html": [
       "<div>\n",
       "<style scoped>\n",
       "    .dataframe tbody tr th:only-of-type {\n",
       "        vertical-align: middle;\n",
       "    }\n",
       "\n",
       "    .dataframe tbody tr th {\n",
       "        vertical-align: top;\n",
       "    }\n",
       "\n",
       "    .dataframe thead th {\n",
       "        text-align: right;\n",
       "    }\n",
       "</style>\n",
       "<table border=\"1\" class=\"dataframe\">\n",
       "  <thead>\n",
       "    <tr style=\"text-align: right;\">\n",
       "      <th></th>\n",
       "      <th>TRIP_ID</th>\n",
       "      <th>CALL_TYPE</th>\n",
       "      <th>ORIGIN_CALL</th>\n",
       "      <th>ORIGIN_STAND</th>\n",
       "      <th>TAXI_ID</th>\n",
       "      <th>TIMESTAMP</th>\n",
       "      <th>DAY_TYPE</th>\n",
       "      <th>MISSING_DATA</th>\n",
       "      <th>POLYLINE</th>\n",
       "      <th>DT</th>\n",
       "      <th>YEAR</th>\n",
       "      <th>MONTH</th>\n",
       "      <th>WEEK</th>\n",
       "      <th>HOUR</th>\n",
       "    </tr>\n",
       "  </thead>\n",
       "  <tbody>\n",
       "    <tr>\n",
       "      <th>0</th>\n",
       "      <td>1372636858620000589</td>\n",
       "      <td>C</td>\n",
       "      <td>NaN</td>\n",
       "      <td>NaN</td>\n",
       "      <td>20000589</td>\n",
       "      <td>1372636858</td>\n",
       "      <td>A</td>\n",
       "      <td>False</td>\n",
       "      <td>[[-8.618643,41.141412],[-8.618499,41.141376],[...</td>\n",
       "      <td>2013-07-01 00:00:58</td>\n",
       "      <td>2013</td>\n",
       "      <td>7</td>\n",
       "      <td>0</td>\n",
       "      <td>0</td>\n",
       "    </tr>\n",
       "    <tr>\n",
       "      <th>1</th>\n",
       "      <td>1372637303620000596</td>\n",
       "      <td>B</td>\n",
       "      <td>NaN</td>\n",
       "      <td>7.0</td>\n",
       "      <td>20000596</td>\n",
       "      <td>1372637303</td>\n",
       "      <td>A</td>\n",
       "      <td>False</td>\n",
       "      <td>[[-8.639847,41.159826],[-8.640351,41.159871],[...</td>\n",
       "      <td>2013-07-01 00:08:23</td>\n",
       "      <td>2013</td>\n",
       "      <td>7</td>\n",
       "      <td>0</td>\n",
       "      <td>0</td>\n",
       "    </tr>\n",
       "    <tr>\n",
       "      <th>2</th>\n",
       "      <td>1372636951620000320</td>\n",
       "      <td>C</td>\n",
       "      <td>NaN</td>\n",
       "      <td>NaN</td>\n",
       "      <td>20000320</td>\n",
       "      <td>1372636951</td>\n",
       "      <td>A</td>\n",
       "      <td>False</td>\n",
       "      <td>[[-8.612964,41.140359],[-8.613378,41.14035],[-...</td>\n",
       "      <td>2013-07-01 00:02:31</td>\n",
       "      <td>2013</td>\n",
       "      <td>7</td>\n",
       "      <td>0</td>\n",
       "      <td>0</td>\n",
       "    </tr>\n",
       "    <tr>\n",
       "      <th>3</th>\n",
       "      <td>1372636854620000520</td>\n",
       "      <td>C</td>\n",
       "      <td>NaN</td>\n",
       "      <td>NaN</td>\n",
       "      <td>20000520</td>\n",
       "      <td>1372636854</td>\n",
       "      <td>A</td>\n",
       "      <td>False</td>\n",
       "      <td>[[-8.574678,41.151951],[-8.574705,41.151942],[...</td>\n",
       "      <td>2013-07-01 00:00:54</td>\n",
       "      <td>2013</td>\n",
       "      <td>7</td>\n",
       "      <td>0</td>\n",
       "      <td>0</td>\n",
       "    </tr>\n",
       "    <tr>\n",
       "      <th>4</th>\n",
       "      <td>1372637091620000337</td>\n",
       "      <td>C</td>\n",
       "      <td>NaN</td>\n",
       "      <td>NaN</td>\n",
       "      <td>20000337</td>\n",
       "      <td>1372637091</td>\n",
       "      <td>A</td>\n",
       "      <td>False</td>\n",
       "      <td>[[-8.645994,41.18049],[-8.645949,41.180517],[-...</td>\n",
       "      <td>2013-07-01 00:04:51</td>\n",
       "      <td>2013</td>\n",
       "      <td>7</td>\n",
       "      <td>0</td>\n",
       "      <td>0</td>\n",
       "    </tr>\n",
       "    <tr>\n",
       "      <th>...</th>\n",
       "      <td>...</td>\n",
       "      <td>...</td>\n",
       "      <td>...</td>\n",
       "      <td>...</td>\n",
       "      <td>...</td>\n",
       "      <td>...</td>\n",
       "      <td>...</td>\n",
       "      <td>...</td>\n",
       "      <td>...</td>\n",
       "      <td>...</td>\n",
       "      <td>...</td>\n",
       "      <td>...</td>\n",
       "      <td>...</td>\n",
       "      <td>...</td>\n",
       "    </tr>\n",
       "    <tr>\n",
       "      <th>315</th>\n",
       "      <td>T323</td>\n",
       "      <td>A</td>\n",
       "      <td>70885.0</td>\n",
       "      <td>NaN</td>\n",
       "      <td>20000430</td>\n",
       "      <td>1419171485</td>\n",
       "      <td>A</td>\n",
       "      <td>False</td>\n",
       "      <td>NaN</td>\n",
       "      <td>2014-12-21 14:18:05</td>\n",
       "      <td>2014</td>\n",
       "      <td>12</td>\n",
       "      <td>6</td>\n",
       "      <td>14</td>\n",
       "    </tr>\n",
       "    <tr>\n",
       "      <th>316</th>\n",
       "      <td>T324</td>\n",
       "      <td>B</td>\n",
       "      <td>NaN</td>\n",
       "      <td>53.0</td>\n",
       "      <td>20000020</td>\n",
       "      <td>1419170802</td>\n",
       "      <td>A</td>\n",
       "      <td>False</td>\n",
       "      <td>NaN</td>\n",
       "      <td>2014-12-21 14:06:42</td>\n",
       "      <td>2014</td>\n",
       "      <td>12</td>\n",
       "      <td>6</td>\n",
       "      <td>14</td>\n",
       "    </tr>\n",
       "    <tr>\n",
       "      <th>317</th>\n",
       "      <td>T325</td>\n",
       "      <td>C</td>\n",
       "      <td>NaN</td>\n",
       "      <td>NaN</td>\n",
       "      <td>20000207</td>\n",
       "      <td>1419172121</td>\n",
       "      <td>A</td>\n",
       "      <td>False</td>\n",
       "      <td>NaN</td>\n",
       "      <td>2014-12-21 14:28:41</td>\n",
       "      <td>2014</td>\n",
       "      <td>12</td>\n",
       "      <td>6</td>\n",
       "      <td>14</td>\n",
       "    </tr>\n",
       "    <tr>\n",
       "      <th>318</th>\n",
       "      <td>T326</td>\n",
       "      <td>A</td>\n",
       "      <td>76232.0</td>\n",
       "      <td>NaN</td>\n",
       "      <td>20000667</td>\n",
       "      <td>1419171980</td>\n",
       "      <td>A</td>\n",
       "      <td>False</td>\n",
       "      <td>NaN</td>\n",
       "      <td>2014-12-21 14:26:20</td>\n",
       "      <td>2014</td>\n",
       "      <td>12</td>\n",
       "      <td>6</td>\n",
       "      <td>14</td>\n",
       "    </tr>\n",
       "    <tr>\n",
       "      <th>319</th>\n",
       "      <td>T327</td>\n",
       "      <td>A</td>\n",
       "      <td>31208.0</td>\n",
       "      <td>NaN</td>\n",
       "      <td>20000255</td>\n",
       "      <td>1419171420</td>\n",
       "      <td>A</td>\n",
       "      <td>False</td>\n",
       "      <td>NaN</td>\n",
       "      <td>2014-12-21 14:17:00</td>\n",
       "      <td>2014</td>\n",
       "      <td>12</td>\n",
       "      <td>6</td>\n",
       "      <td>14</td>\n",
       "    </tr>\n",
       "  </tbody>\n",
       "</table>\n",
       "<p>1710990 rows × 14 columns</p>\n",
       "</div>"
      ],
      "text/plain": [
       "                 TRIP_ID CALL_TYPE  ORIGIN_CALL  ORIGIN_STAND   TAXI_ID  \\\n",
       "0    1372636858620000589         C          NaN           NaN  20000589   \n",
       "1    1372637303620000596         B          NaN           7.0  20000596   \n",
       "2    1372636951620000320         C          NaN           NaN  20000320   \n",
       "3    1372636854620000520         C          NaN           NaN  20000520   \n",
       "4    1372637091620000337         C          NaN           NaN  20000337   \n",
       "..                   ...       ...          ...           ...       ...   \n",
       "315                 T323         A      70885.0           NaN  20000430   \n",
       "316                 T324         B          NaN          53.0  20000020   \n",
       "317                 T325         C          NaN           NaN  20000207   \n",
       "318                 T326         A      76232.0           NaN  20000667   \n",
       "319                 T327         A      31208.0           NaN  20000255   \n",
       "\n",
       "      TIMESTAMP DAY_TYPE  MISSING_DATA  \\\n",
       "0    1372636858        A         False   \n",
       "1    1372637303        A         False   \n",
       "2    1372636951        A         False   \n",
       "3    1372636854        A         False   \n",
       "4    1372637091        A         False   \n",
       "..          ...      ...           ...   \n",
       "315  1419171485        A         False   \n",
       "316  1419170802        A         False   \n",
       "317  1419172121        A         False   \n",
       "318  1419171980        A         False   \n",
       "319  1419171420        A         False   \n",
       "\n",
       "                                              POLYLINE                  DT  \\\n",
       "0    [[-8.618643,41.141412],[-8.618499,41.141376],[... 2013-07-01 00:00:58   \n",
       "1    [[-8.639847,41.159826],[-8.640351,41.159871],[... 2013-07-01 00:08:23   \n",
       "2    [[-8.612964,41.140359],[-8.613378,41.14035],[-... 2013-07-01 00:02:31   \n",
       "3    [[-8.574678,41.151951],[-8.574705,41.151942],[... 2013-07-01 00:00:54   \n",
       "4    [[-8.645994,41.18049],[-8.645949,41.180517],[-... 2013-07-01 00:04:51   \n",
       "..                                                 ...                 ...   \n",
       "315                                                NaN 2014-12-21 14:18:05   \n",
       "316                                                NaN 2014-12-21 14:06:42   \n",
       "317                                                NaN 2014-12-21 14:28:41   \n",
       "318                                                NaN 2014-12-21 14:26:20   \n",
       "319                                                NaN 2014-12-21 14:17:00   \n",
       "\n",
       "     YEAR  MONTH  WEEK  HOUR  \n",
       "0    2013      7     0     0  \n",
       "1    2013      7     0     0  \n",
       "2    2013      7     0     0  \n",
       "3    2013      7     0     0  \n",
       "4    2013      7     0     0  \n",
       "..    ...    ...   ...   ...  \n",
       "315  2014     12     6    14  \n",
       "316  2014     12     6    14  \n",
       "317  2014     12     6    14  \n",
       "318  2014     12     6    14  \n",
       "319  2014     12     6    14  \n",
       "\n",
       "[1710990 rows x 14 columns]"
      ]
     },
     "execution_count": 7,
     "metadata": {},
     "output_type": "execute_result"
    }
   ],
   "source": [
    "full_set_proc"
   ]
  },
  {
   "cell_type": "code",
   "execution_count": 30,
   "id": "ef1a9de0",
   "metadata": {},
   "outputs": [
    {
     "data": {
      "text/plain": [
       "array([    1,     1,     1,     2,     2,     5,    10,    16,    19,\n",
       "          61,   103,   298,   381,   587,   587,   677,   682,   766,\n",
       "         981,  1068,  1219,  1257,  1290,  1344,  1345,  1363,  1378,\n",
       "        1441,  1460,  1509,  1541,  1565,  1608,  1695,  1699,  1707,\n",
       "        1721,  1734,  1757,  1767,  1776,  1802,  1809,  1898,  1922,\n",
       "        1932,  1936,  1969,  1971,  1971,  2038,  2053,  2054,  2065,\n",
       "        2066,  2077,  2113,  2118,  2122,  2132,  2168,  2193,  2194,\n",
       "        2210,  2220,  2250,  2251,  2260,  2263,  2300,  2324,  2347,\n",
       "        2347,  2348,  2352,  2354,  2358,  2372,  2382,  2393,  2397,\n",
       "        2415,  2420,  2434,  2440,  2458,  2461,  2477,  2477,  2479,\n",
       "        2491,  2506,  2509,  2534,  2536,  2539,  2554,  2566,  2584,\n",
       "        2585,  2589,  2590,  2592,  2605,  2619,  2626,  2659,  2663,\n",
       "        2667,  2672,  2680,  2691,  2696,  2708,  2729,  2734,  2736,\n",
       "        2742,  2755,  2773,  2780,  2785,  2795,  2802,  2815,  2821,\n",
       "        2821,  2825,  2838,  2845,  2858,  2858,  2863,  2867,  2880,\n",
       "        2892,  2894,  2914,  2927,  2947,  2951,  2961,  2985,  2995,\n",
       "        2998,  3026,  3033,  3041,  3043,  3049,  3056,  3060,  3062,\n",
       "        3074,  3085,  3094,  3095,  3104,  3107,  3107,  3108,  3111,\n",
       "        3116,  3116,  3124,  3130,  3134,  3142,  3167,  3170,  3177,\n",
       "        3180,  3223,  3236,  3236,  3237,  3237,  3239,  3256,  3259,\n",
       "        3262,  3275,  3314,  3331,  3339,  3340,  3346,  3352,  3353,\n",
       "        3363,  3365,  3376,  3381,  3382,  3390,  3423,  3439,  3447,\n",
       "        3462,  3471,  3484,  3484,  3493,  3508,  3512,  3516,  3516,\n",
       "        3517,  3518,  3537,  3541,  3552,  3589,  3594,  3616,  3620,\n",
       "        3622,  3625,  3637,  3676,  3695,  3714,  3724,  3727,  3737,\n",
       "        3754,  3761,  3772,  3792,  3798,  3822,  3824,  3844,  3851,\n",
       "        3858,  3859,  3867,  3869,  3870,  3876,  3883,  3902,  3904,\n",
       "        3930,  3942,  3967,  3980,  3983,  3988,  3993,  3993,  3993,\n",
       "        3996,  4010,  4015,  4024,  4032,  4078,  4090,  4095,  4098,\n",
       "        4100,  4106,  4108,  4109,  4123,  4125,  4141,  4146,  4148,\n",
       "        4153,  4178,  4190,  4201,  4235,  4239,  4241,  4245,  4246,\n",
       "        4249,  4252,  4261,  4291,  4305,  4378,  4388,  4404,  4406,\n",
       "        4429,  4429,  4449,  4452,  4474,  4487,  4487,  4499,  4517,\n",
       "        4528,  4532,  4550,  4551,  4563,  4570,  4576,  4590,  4621,\n",
       "        4629,  4637,  4641,  4645,  4663,  4669,  4676,  4681,  4685,\n",
       "        4702,  4709,  4715,  4721,  4745,  4776,  4784,  4819,  4849,\n",
       "        4865,  4866,  4876,  4880,  4922,  4930,  4936,  4960,  4964,\n",
       "        4967,  5006,  5023,  5024,  5028,  5030,  5034,  5038,  5084,\n",
       "        5093,  5093,  5109,  5126,  5126,  5130,  5137,  5147,  5147,\n",
       "        5218,  5250,  5259,  5279,  5280,  5301,  5333,  5333,  5365,\n",
       "        5370,  5373,  5400,  5435,  5452,  5468,  5480,  5481,  5498,\n",
       "        5504,  5507,  5515,  5520,  5547,  5550,  5564,  5565,  5579,\n",
       "        5581,  5602,  5621,  5628,  5656,  5668,  5672,  5685,  5693,\n",
       "        5696,  5703,  5708,  5731,  5737,  5754,  5777,  5783,  5792,\n",
       "        5806,  5836,  5847,  5870,  5871,  5889,  5898,  5899,  5909,\n",
       "        5931,  5938,  5940,  5963,  5976,  6000,  6011,  6028,  6051,\n",
       "        6055,  6072,  6095,  6104,  6147,  6191,  6194,  6217,  6217,\n",
       "        6266,  6286,  6313,  6314,  6407,  6411,  6430,  6461,  6467,\n",
       "        6506,  6536,  6539,  6924,  6938,  7173,  7177,  7267,  7277,\n",
       "        7499,  7612,  7730,  7821,  8449,  9239, 10746])"
      ]
     },
     "execution_count": 30,
     "metadata": {},
     "output_type": "execute_result"
    }
   ],
   "source": [
    "np.sort(full_set[\"TAXI_ID\"].value_counts().values)"
   ]
  },
  {
   "cell_type": "markdown",
   "id": "8eb4c118",
   "metadata": {},
   "source": [
    "# Finding Optimal Clusters\n",
    "- ORIGIN_CALL, ORIGIN_STAND used in clustering to create meaningful features"
   ]
  },
  {
   "cell_type": "code",
   "execution_count": 14,
   "id": "009ed2d5",
   "metadata": {},
   "outputs": [],
   "source": [
    "# sample for finding clusters\n",
    "sample_size = int(full_set_proc.shape[0] * 0.1)\n",
    "sample = full_set_proc.sample(sample_size)"
   ]
  },
  {
   "cell_type": "code",
   "execution_count": 10,
   "id": "0fe0bcf0",
   "metadata": {},
   "outputs": [],
   "source": [
    "# feature engineering for clustering\n",
    "def cluster_features(df, call_thresh, stand_thresh):\n",
    "    \"\"\"\n",
    "    feature engineering for clustering\n",
    "    \n",
    "    df: output of transform raw\n",
    "    call_thresh: min_frequency for ORIGIN_CALL\n",
    "    stand_thresh: min_frequency for ORIGIN_STAND\n",
    "    \"\"\"\n",
    "    call_transformer = OneHotEncoder(handle_unknown='ignore', min_frequency=call_thresh)\n",
    "    stand_transformer = OneHotEncoder(handle_unknown='ignore', min_frequency=stand_thresh)\n",
    "    id_transformer = OneHotEncoder(handle_unknown='ignore', min_frequency=200)\n",
    "    \n",
    "    prepoc = ColumnTransformer(\n",
    "        transformers = [\n",
    "            (\"ohe_call\", call_transformer, [\"ORIGIN_CALL\"]),\n",
    "            (\"ohe_stand\", stand_transformer, [\"ORIGIN_STAND\"]),\n",
    "            (\"ohe_id\", id_transformer, [\"TAXI_ID\"])\n",
    "        ],\n",
    "        remainder=\"drop\"\n",
    "    )\n",
    "    \n",
    "    return prepoc.fit_transform(df)"
   ]
  },
  {
   "cell_type": "code",
   "execution_count": 15,
   "id": "af114018",
   "metadata": {},
   "outputs": [],
   "source": [
    "call_thresh = 0.0001\n",
    "stand_thresh = 0.01\n",
    "sample_proc = cluster_features(sample, call_thresh, stand_thresh)"
   ]
  },
  {
   "cell_type": "code",
   "execution_count": 33,
   "id": "94948fe0",
   "metadata": {},
   "outputs": [
    {
     "data": {
      "text/plain": [
       "<171099x509 sparse matrix of type '<class 'numpy.float64'>'\n",
       "\twith 513297 stored elements in Compressed Sparse Row format>"
      ]
     },
     "execution_count": 33,
     "metadata": {},
     "output_type": "execute_result"
    }
   ],
   "source": [
    "sample_proc"
   ]
  },
  {
   "cell_type": "markdown",
   "id": "9dd08e4f",
   "metadata": {},
   "source": [
    "### Elbow Method "
   ]
  },
  {
   "cell_type": "code",
   "execution_count": 11,
   "id": "fb02fbf0",
   "metadata": {},
   "outputs": [],
   "source": [
    "def kmeans(data, k):\n",
    "    \"\"\"\n",
    "    data: output of cluster_features\n",
    "    \"\"\"\n",
    "    # Create the KMeans object and fit the data\n",
    "    kmeans = KMeans(n_clusters=k, random_state=42)\n",
    "    kmeans.fit(data)\n",
    "\n",
    "    # Get the cluster labels and centroids\n",
    "    labels = kmeans.labels_\n",
    "    centroids = kmeans.cluster_centers_\n",
    "    wcss = kmeans.inertia_\n",
    "    \n",
    "    return centroids, wcss"
   ]
  },
  {
   "cell_type": "code",
   "execution_count": 37,
   "id": "54226a72",
   "metadata": {},
   "outputs": [],
   "source": [
    "centroids = []\n",
    "wcss_list = []\n",
    "for i in np.arange(5,50,5):\n",
    "    cen, wc = kmeans(sample_proc, i)\n",
    "    centroids.append(cen)\n",
    "    wcss_list.append(wc)"
   ]
  },
  {
   "cell_type": "markdown",
   "id": "2e886fc7",
   "metadata": {},
   "source": [
    "### 25 Clusters Optimal"
   ]
  },
  {
   "cell_type": "code",
   "execution_count": 39,
   "id": "90312526",
   "metadata": {},
   "outputs": [
    {
     "data": {
      "image/png": "[encoded data removed]",
      "text/plain": [
       "<Figure size 432x288 with 1 Axes>"
      ]
     },
     "metadata": {
      "needs_background": "light"
     },
     "output_type": "display_data"
    }
   ],
   "source": [
    "plt.scatter(np.arange(5,50,5), wcss_list)\n",
    "plt.show()"
   ]
  },
  {
   "cell_type": "markdown",
   "id": "0e4a8b3b",
   "metadata": {},
   "source": [
    "### Adding Cluster to all data"
   ]
  },
  {
   "cell_type": "code",
   "execution_count": 16,
   "id": "bc0daf6a",
   "metadata": {},
   "outputs": [],
   "source": [
    "proc = cluster_features(full_set, call_thresh, stand_thresh)"
   ]
  },
  {
   "cell_type": "code",
   "execution_count": 17,
   "id": "6f96fced",
   "metadata": {},
   "outputs": [
    {
     "data": {
      "text/plain": [
       "<1710990x554 sparse matrix of type '<class 'numpy.float64'>'\n",
       "\twith 5132970 stored elements in Compressed Sparse Row format>"
      ]
     },
     "execution_count": 17,
     "metadata": {},
     "output_type": "execute_result"
    }
   ],
   "source": [
    "proc"
   ]
  },
  {
   "cell_type": "code",
   "execution_count": 18,
   "id": "2944d3e8",
   "metadata": {},
   "outputs": [
    {
     "name": "stderr",
     "output_type": "stream",
     "text": [
      "/home/ncheung/.local/lib/python3.9/site-packages/sklearn/cluster/_kmeans.py:870: FutureWarning: The default value of `n_init` will change from 10 to 'auto' in 1.4. Set the value of `n_init` explicitly to suppress the warning\n",
      "  warnings.warn(\n"
     ]
    }
   ],
   "source": [
    "# Create the KMeans object and fit the data\n",
    "kmeans = KMeans(n_clusters=25)\n",
    "kmeans.fit(proc)\n",
    "\n",
    "# Get the cluster labels and centroids\n",
    "labels = kmeans.labels_"
   ]
  },
  {
   "cell_type": "code",
   "execution_count": 19,
   "id": "7a408989",
   "metadata": {},
   "outputs": [],
   "source": [
    "full_set_labeled = full_set_proc.assign(\n",
    "    CLUSTER=labels\n",
    ")"
   ]
  },
  {
   "cell_type": "code",
   "execution_count": 20,
   "id": "c3098755",
   "metadata": {},
   "outputs": [
    {
     "data": {
      "text/html": [
       "<div>\n",
       "<style scoped>\n",
       "    .dataframe tbody tr th:only-of-type {\n",
       "        vertical-align: middle;\n",
       "    }\n",
       "\n",
       "    .dataframe tbody tr th {\n",
       "        vertical-align: top;\n",
       "    }\n",
       "\n",
       "    .dataframe thead th {\n",
       "        text-align: right;\n",
       "    }\n",
       "</style>\n",
       "<table border=\"1\" class=\"dataframe\">\n",
       "  <thead>\n",
       "    <tr style=\"text-align: right;\">\n",
       "      <th></th>\n",
       "      <th>TRIP_ID</th>\n",
       "      <th>CALL_TYPE</th>\n",
       "      <th>ORIGIN_CALL</th>\n",
       "      <th>ORIGIN_STAND</th>\n",
       "      <th>TAXI_ID</th>\n",
       "      <th>TIMESTAMP</th>\n",
       "      <th>DAY_TYPE</th>\n",
       "      <th>MISSING_DATA</th>\n",
       "      <th>POLYLINE</th>\n",
       "      <th>DT</th>\n",
       "      <th>YEAR</th>\n",
       "      <th>MONTH</th>\n",
       "      <th>WEEK</th>\n",
       "      <th>HOUR</th>\n",
       "      <th>CLUSTER</th>\n",
       "    </tr>\n",
       "  </thead>\n",
       "  <tbody>\n",
       "    <tr>\n",
       "      <th>0</th>\n",
       "      <td>1372636858620000589</td>\n",
       "      <td>C</td>\n",
       "      <td>NaN</td>\n",
       "      <td>NaN</td>\n",
       "      <td>20000589</td>\n",
       "      <td>1372636858</td>\n",
       "      <td>A</td>\n",
       "      <td>False</td>\n",
       "      <td>[[-8.618643,41.141412],[-8.618499,41.141376],[...</td>\n",
       "      <td>2013-07-01 00:00:58</td>\n",
       "      <td>2013</td>\n",
       "      <td>7</td>\n",
       "      <td>0</td>\n",
       "      <td>0</td>\n",
       "      <td>1</td>\n",
       "    </tr>\n",
       "    <tr>\n",
       "      <th>1</th>\n",
       "      <td>1372637303620000596</td>\n",
       "      <td>B</td>\n",
       "      <td>NaN</td>\n",
       "      <td>7.0</td>\n",
       "      <td>20000596</td>\n",
       "      <td>1372637303</td>\n",
       "      <td>A</td>\n",
       "      <td>False</td>\n",
       "      <td>[[-8.639847,41.159826],[-8.640351,41.159871],[...</td>\n",
       "      <td>2013-07-01 00:08:23</td>\n",
       "      <td>2013</td>\n",
       "      <td>7</td>\n",
       "      <td>0</td>\n",
       "      <td>0</td>\n",
       "      <td>15</td>\n",
       "    </tr>\n",
       "    <tr>\n",
       "      <th>2</th>\n",
       "      <td>1372636951620000320</td>\n",
       "      <td>C</td>\n",
       "      <td>NaN</td>\n",
       "      <td>NaN</td>\n",
       "      <td>20000320</td>\n",
       "      <td>1372636951</td>\n",
       "      <td>A</td>\n",
       "      <td>False</td>\n",
       "      <td>[[-8.612964,41.140359],[-8.613378,41.14035],[-...</td>\n",
       "      <td>2013-07-01 00:02:31</td>\n",
       "      <td>2013</td>\n",
       "      <td>7</td>\n",
       "      <td>0</td>\n",
       "      <td>0</td>\n",
       "      <td>1</td>\n",
       "    </tr>\n",
       "    <tr>\n",
       "      <th>3</th>\n",
       "      <td>1372636854620000520</td>\n",
       "      <td>C</td>\n",
       "      <td>NaN</td>\n",
       "      <td>NaN</td>\n",
       "      <td>20000520</td>\n",
       "      <td>1372636854</td>\n",
       "      <td>A</td>\n",
       "      <td>False</td>\n",
       "      <td>[[-8.574678,41.151951],[-8.574705,41.151942],[...</td>\n",
       "      <td>2013-07-01 00:00:54</td>\n",
       "      <td>2013</td>\n",
       "      <td>7</td>\n",
       "      <td>0</td>\n",
       "      <td>0</td>\n",
       "      <td>1</td>\n",
       "    </tr>\n",
       "    <tr>\n",
       "      <th>4</th>\n",
       "      <td>1372637091620000337</td>\n",
       "      <td>C</td>\n",
       "      <td>NaN</td>\n",
       "      <td>NaN</td>\n",
       "      <td>20000337</td>\n",
       "      <td>1372637091</td>\n",
       "      <td>A</td>\n",
       "      <td>False</td>\n",
       "      <td>[[-8.645994,41.18049],[-8.645949,41.180517],[-...</td>\n",
       "      <td>2013-07-01 00:04:51</td>\n",
       "      <td>2013</td>\n",
       "      <td>7</td>\n",
       "      <td>0</td>\n",
       "      <td>0</td>\n",
       "      <td>1</td>\n",
       "    </tr>\n",
       "    <tr>\n",
       "      <th>...</th>\n",
       "      <td>...</td>\n",
       "      <td>...</td>\n",
       "      <td>...</td>\n",
       "      <td>...</td>\n",
       "      <td>...</td>\n",
       "      <td>...</td>\n",
       "      <td>...</td>\n",
       "      <td>...</td>\n",
       "      <td>...</td>\n",
       "      <td>...</td>\n",
       "      <td>...</td>\n",
       "      <td>...</td>\n",
       "      <td>...</td>\n",
       "      <td>...</td>\n",
       "      <td>...</td>\n",
       "    </tr>\n",
       "    <tr>\n",
       "      <th>315</th>\n",
       "      <td>T323</td>\n",
       "      <td>A</td>\n",
       "      <td>70885.0</td>\n",
       "      <td>NaN</td>\n",
       "      <td>20000430</td>\n",
       "      <td>1419171485</td>\n",
       "      <td>A</td>\n",
       "      <td>False</td>\n",
       "      <td>NaN</td>\n",
       "      <td>2014-12-21 14:18:05</td>\n",
       "      <td>2014</td>\n",
       "      <td>12</td>\n",
       "      <td>6</td>\n",
       "      <td>14</td>\n",
       "      <td>2</td>\n",
       "    </tr>\n",
       "    <tr>\n",
       "      <th>316</th>\n",
       "      <td>T324</td>\n",
       "      <td>B</td>\n",
       "      <td>NaN</td>\n",
       "      <td>53.0</td>\n",
       "      <td>20000020</td>\n",
       "      <td>1419170802</td>\n",
       "      <td>A</td>\n",
       "      <td>False</td>\n",
       "      <td>NaN</td>\n",
       "      <td>2014-12-21 14:06:42</td>\n",
       "      <td>2014</td>\n",
       "      <td>12</td>\n",
       "      <td>6</td>\n",
       "      <td>14</td>\n",
       "      <td>12</td>\n",
       "    </tr>\n",
       "    <tr>\n",
       "      <th>317</th>\n",
       "      <td>T325</td>\n",
       "      <td>C</td>\n",
       "      <td>NaN</td>\n",
       "      <td>NaN</td>\n",
       "      <td>20000207</td>\n",
       "      <td>1419172121</td>\n",
       "      <td>A</td>\n",
       "      <td>False</td>\n",
       "      <td>NaN</td>\n",
       "      <td>2014-12-21 14:28:41</td>\n",
       "      <td>2014</td>\n",
       "      <td>12</td>\n",
       "      <td>6</td>\n",
       "      <td>14</td>\n",
       "      <td>1</td>\n",
       "    </tr>\n",
       "    <tr>\n",
       "      <th>318</th>\n",
       "      <td>T326</td>\n",
       "      <td>A</td>\n",
       "      <td>76232.0</td>\n",
       "      <td>NaN</td>\n",
       "      <td>20000667</td>\n",
       "      <td>1419171980</td>\n",
       "      <td>A</td>\n",
       "      <td>False</td>\n",
       "      <td>NaN</td>\n",
       "      <td>2014-12-21 14:26:20</td>\n",
       "      <td>2014</td>\n",
       "      <td>12</td>\n",
       "      <td>6</td>\n",
       "      <td>14</td>\n",
       "      <td>2</td>\n",
       "    </tr>\n",
       "    <tr>\n",
       "      <th>319</th>\n",
       "      <td>T327</td>\n",
       "      <td>A</td>\n",
       "      <td>31208.0</td>\n",
       "      <td>NaN</td>\n",
       "      <td>20000255</td>\n",
       "      <td>1419171420</td>\n",
       "      <td>A</td>\n",
       "      <td>False</td>\n",
       "      <td>NaN</td>\n",
       "      <td>2014-12-21 14:17:00</td>\n",
       "      <td>2014</td>\n",
       "      <td>12</td>\n",
       "      <td>6</td>\n",
       "      <td>14</td>\n",
       "      <td>2</td>\n",
       "    </tr>\n",
       "  </tbody>\n",
       "</table>\n",
       "<p>1710990 rows × 15 columns</p>\n",
       "</div>"
      ],
      "text/plain": [
       "                 TRIP_ID CALL_TYPE  ORIGIN_CALL  ORIGIN_STAND   TAXI_ID  \\\n",
       "0    1372636858620000589         C          NaN           NaN  20000589   \n",
       "1    1372637303620000596         B          NaN           7.0  20000596   \n",
       "2    1372636951620000320         C          NaN           NaN  20000320   \n",
       "3    1372636854620000520         C          NaN           NaN  20000520   \n",
       "4    1372637091620000337         C          NaN           NaN  20000337   \n",
       "..                   ...       ...          ...           ...       ...   \n",
       "315                 T323         A      70885.0           NaN  20000430   \n",
       "316                 T324         B          NaN          53.0  20000020   \n",
       "317                 T325         C          NaN           NaN  20000207   \n",
       "318                 T326         A      76232.0           NaN  20000667   \n",
       "319                 T327         A      31208.0           NaN  20000255   \n",
       "\n",
       "      TIMESTAMP DAY_TYPE  MISSING_DATA  \\\n",
       "0    1372636858        A         False   \n",
       "1    1372637303        A         False   \n",
       "2    1372636951        A         False   \n",
       "3    1372636854        A         False   \n",
       "4    1372637091        A         False   \n",
       "..          ...      ...           ...   \n",
       "315  1419171485        A         False   \n",
       "316  1419170802        A         False   \n",
       "317  1419172121        A         False   \n",
       "318  1419171980        A         False   \n",
       "319  1419171420        A         False   \n",
       "\n",
       "                                              POLYLINE                  DT  \\\n",
       "0    [[-8.618643,41.141412],[-8.618499,41.141376],[... 2013-07-01 00:00:58   \n",
       "1    [[-8.639847,41.159826],[-8.640351,41.159871],[... 2013-07-01 00:08:23   \n",
       "2    [[-8.612964,41.140359],[-8.613378,41.14035],[-... 2013-07-01 00:02:31   \n",
       "3    [[-8.574678,41.151951],[-8.574705,41.151942],[... 2013-07-01 00:00:54   \n",
       "4    [[-8.645994,41.18049],[-8.645949,41.180517],[-... 2013-07-01 00:04:51   \n",
       "..                                                 ...                 ...   \n",
       "315                                                NaN 2014-12-21 14:18:05   \n",
       "316                                                NaN 2014-12-21 14:06:42   \n",
       "317                                                NaN 2014-12-21 14:28:41   \n",
       "318                                                NaN 2014-12-21 14:26:20   \n",
       "319                                                NaN 2014-12-21 14:17:00   \n",
       "\n",
       "     YEAR  MONTH  WEEK  HOUR  CLUSTER  \n",
       "0    2013      7     0     0        1  \n",
       "1    2013      7     0     0       15  \n",
       "2    2013      7     0     0        1  \n",
       "3    2013      7     0     0        1  \n",
       "4    2013      7     0     0        1  \n",
       "..    ...    ...   ...   ...      ...  \n",
       "315  2014     12     6    14        2  \n",
       "316  2014     12     6    14       12  \n",
       "317  2014     12     6    14        1  \n",
       "318  2014     12     6    14        2  \n",
       "319  2014     12     6    14        2  \n",
       "\n",
       "[1710990 rows x 15 columns]"
      ]
     },
     "execution_count": 20,
     "metadata": {},
     "output_type": "execute_result"
    }
   ],
   "source": [
    "full_set_labeled"
   ]
  },
  {
   "cell_type": "markdown",
   "id": "29461226",
   "metadata": {},
   "source": [
    "# One Hot Encoding Full set"
   ]
  },
  {
   "cell_type": "code",
   "execution_count": 21,
   "id": "98f8f061",
   "metadata": {},
   "outputs": [],
   "source": [
    "# OHE origin stand directly\n",
    "stand_thresh2 = 0.005\n",
    "stand_transformer = OneHotEncoder(handle_unknown='ignore', min_frequency=stand_thresh2)\n",
    "\n",
    "stand = ColumnTransformer(\n",
    "    transformers = [\n",
    "        (\"ohe_stand\", stand_transformer, [\"ORIGIN_STAND\"])\n",
    "    ],\n",
    "    remainder=\"drop\"\n",
    ")\n",
    "\n",
    "stand_OHE = stand.fit_transform(full_set_labeled)"
   ]
  },
  {
   "cell_type": "code",
   "execution_count": 22,
   "id": "1f75cffd",
   "metadata": {},
   "outputs": [
    {
     "data": {
      "text/plain": [
       "(1710990, 31)"
      ]
     },
     "execution_count": 22,
     "metadata": {},
     "output_type": "execute_result"
    }
   ],
   "source": [
    "stand_OHE.shape"
   ]
  },
  {
   "cell_type": "code",
   "execution_count": 23,
   "id": "1d89a4d2",
   "metadata": {},
   "outputs": [],
   "source": [
    "OHE = OneHotEncoder(handle_unknown='ignore')    \n",
    "prepoc = ColumnTransformer(\n",
    "    transformers = [\n",
    "        (\"OHE\", OHE, [\"CALL_TYPE\", \"YEAR\", \"MONTH\", \"WEEK\", \"HOUR\", \"CLUSTER\"]),\n",
    "    ],\n",
    "    remainder=\"drop\"\n",
    ")"
   ]
  },
  {
   "cell_type": "code",
   "execution_count": 24,
   "id": "54461b0d",
   "metadata": {},
   "outputs": [],
   "source": [
    "OHE_df = prepoc.fit_transform(full_set_labeled)"
   ]
  },
  {
   "cell_type": "code",
   "execution_count": 25,
   "id": "705ff81b",
   "metadata": {},
   "outputs": [
    {
     "data": {
      "text/plain": [
       "(1710990, 73)"
      ]
     },
     "execution_count": 25,
     "metadata": {},
     "output_type": "execute_result"
    }
   ],
   "source": [
    "OHE_df.shape"
   ]
  },
  {
   "cell_type": "code",
   "execution_count": 26,
   "id": "24915e4c",
   "metadata": {},
   "outputs": [
    {
     "data": {
      "text/plain": [
       "(1710990, 104)"
      ]
     },
     "execution_count": 26,
     "metadata": {},
     "output_type": "execute_result"
    }
   ],
   "source": [
    "full_ohe = np.concatenate((stand_OHE.todense(), OHE_df.todense()), axis = 1)\n",
    "full_ohe.shape"
   ]
  },
  {
   "cell_type": "code",
   "execution_count": 27,
   "id": "15b9a196",
   "metadata": {},
   "outputs": [
    {
     "name": "stdout",
     "output_type": "stream",
     "text": [
      "(1710670, 105) (320, 104)\n"
     ]
    }
   ],
   "source": [
    "train = np.hstack((full_ohe[:train_raw.shape[0]], duration_col)) \n",
    "test = full_ohe[train_raw.shape[0]:]\n",
    "print(train.shape, test.shape)"
   ]
  },
  {
   "cell_type": "code",
   "execution_count": 29,
   "id": "8d999db9",
   "metadata": {},
   "outputs": [],
   "source": [
    "np.save(\"data/processed_train_set\", train)\n",
    "np.save(\"data/processed_test_set\", test)"
   ]
  },
  {
   "cell_type": "code",
   "execution_count": null,
   "id": "50942156",
   "metadata": {},
   "outputs": [],
   "source": []
  }
 ],
 "metadata": {
  "kernelspec": {
   "display_name": "Python 3 (ipykernel)",
   "language": "python",
   "name": "python3"
  },
  "language_info": {
   "codemirror_mode": {
    "name": "ipython",
    "version": 3
   },
   "file_extension": ".py",
   "mimetype": "text/x-python",
   "name": "python",
   "nbconvert_exporter": "python",
   "pygments_lexer": "ipython3",
   "version": "3.9.5"
  }
 },
 "nbformat": 4,
 "nbformat_minor": 5
}
