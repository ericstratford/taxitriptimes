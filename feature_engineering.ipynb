{
 "cells": [
  {
   "cell_type": "code",
   "execution_count": 1,
   "id": "acf48a10",
   "metadata": {},
   "outputs": [],
   "source": [
    "import pandas as pd\n",
    "import numpy as np\n",
    "import sklearn \n",
    "import matplotlib.pyplot as plt\n",
    "from sklearn.preprocessing import OneHotEncoder\n",
    "from sklearn.compose import ColumnTransformer\n",
    "import math\n",
    "import os\n",
    "from sklearn.cluster import KMeans\n",
    "from sklearn.metrics import silhouette_score\n",
    "import pickle"
   ]
  },
  {
   "cell_type": "markdown",
   "id": "d900bce7",
   "metadata": {},
   "source": [
    "# Prepocessing\n",
    "- Adding trip duration and datetime to datasets"
   ]
  },
  {
   "cell_type": "code",
   "execution_count": 2,
   "id": "08252f97",
   "metadata": {},
   "outputs": [],
   "source": [
    "# trn_fp = os.path.dirname(\"cse151B_project/data/train.csv\")\n",
    "train_raw = pd.read_csv(\"train.csv\")\n",
    "# tt_fp = os.path.dirname(\"cse151B_project/data/test_public.csv\")\n",
    "test_raw = pd.read_csv(\"test_public.csv\")"
   ]
  },
  {
   "cell_type": "code",
   "execution_count": 3,
   "id": "bb1d6e38",
   "metadata": {},
   "outputs": [],
   "source": [
    "def transform_raw(df, train):\n",
    "    \"\"\"\n",
    "    adds polyline and datetime info to dataset\n",
    "    \n",
    "    df: raw df\n",
    "    train: boolean on whether or not passed in df is train or test\n",
    "    \"\"\"\n",
    "    def polyline_to_trip_duration(polyline):\n",
    "        return max(polyline.count(\"[\") - 2, 0) * 15\n",
    "    \n",
    "    df = df.copy()\n",
    "    # Convert Unix timestamp to datetime\n",
    "    df['DT'] = pd.to_datetime(df['TIMESTAMP'], unit='s')\n",
    "\n",
    "    # Extract year, month, day of the week, and hour of the day\n",
    "    df['YEAR'] = df['DT'].dt.year\n",
    "    df['MONTH'] = df['DT'].dt.month\n",
    "    df['WEEK'] = df['DT'].dt.dayofweek\n",
    "    df['HOUR'] = df['DT'].dt.hour\n",
    "    \n",
    "    # extract ride duration for training set\n",
    "    if (train):\n",
    "        df[\"DURATION\"] = df[\"POLYLINE\"].apply(polyline_to_trip_duration)\n",
    "    return df"
   ]
  },
  {
   "cell_type": "code",
   "execution_count": 27,
   "id": "00bc6747",
   "metadata": {},
   "outputs": [],
   "source": [
    "train_set = transform_raw(train_raw, True)\n",
    "duration_col = np.array(train_set['DURATION']).reshape(-1,1)"
   ]
  },
  {
   "cell_type": "code",
   "execution_count": 4,
   "id": "cc500c52",
   "metadata": {},
   "outputs": [
    {
     "data": {
      "text/plain": [
       "(1710990, 9)"
      ]
     },
     "execution_count": 4,
     "metadata": {},
     "output_type": "execute_result"
    }
   ],
   "source": [
    "full_set = pd.concat((train_raw, test_raw))\n",
    "full_set.shape"
   ]
  },
  {
   "cell_type": "code",
   "execution_count": 5,
   "id": "04ddb069",
   "metadata": {},
   "outputs": [],
   "source": [
    "full_set_proc = transform_raw(full_set, False)"
   ]
  },
  {
   "cell_type": "code",
   "execution_count": 6,
   "id": "8a1ec256",
   "metadata": {},
   "outputs": [
    {
     "data": {
      "text/html": [
       "<div>\n",
       "<style scoped>\n",
       "    .dataframe tbody tr th:only-of-type {\n",
       "        vertical-align: middle;\n",
       "    }\n",
       "\n",
       "    .dataframe tbody tr th {\n",
       "        vertical-align: top;\n",
       "    }\n",
       "\n",
       "    .dataframe thead th {\n",
       "        text-align: right;\n",
       "    }\n",
       "</style>\n",
       "<table border=\"1\" class=\"dataframe\">\n",
       "  <thead>\n",
       "    <tr style=\"text-align: right;\">\n",
       "      <th></th>\n",
       "      <th>TRIP_ID</th>\n",
       "      <th>CALL_TYPE</th>\n",
       "      <th>ORIGIN_CALL</th>\n",
       "      <th>ORIGIN_STAND</th>\n",
       "      <th>TAXI_ID</th>\n",
       "      <th>TIMESTAMP</th>\n",
       "      <th>DAY_TYPE</th>\n",
       "      <th>MISSING_DATA</th>\n",
       "      <th>POLYLINE</th>\n",
       "      <th>DT</th>\n",
       "      <th>YEAR</th>\n",
       "      <th>MONTH</th>\n",
       "      <th>WEEK</th>\n",
       "      <th>HOUR</th>\n",
       "    </tr>\n",
       "  </thead>\n",
       "  <tbody>\n",
       "    <tr>\n",
       "      <th>0</th>\n",
       "      <td>1372636858620000589</td>\n",
       "      <td>C</td>\n",
       "      <td>NaN</td>\n",
       "      <td>NaN</td>\n",
       "      <td>20000589</td>\n",
       "      <td>1372636858</td>\n",
       "      <td>A</td>\n",
       "      <td>False</td>\n",
       "      <td>[[-8.618643,41.141412],[-8.618499,41.141376],[...</td>\n",
       "      <td>2013-07-01 00:00:58</td>\n",
       "      <td>2013</td>\n",
       "      <td>7</td>\n",
       "      <td>0</td>\n",
       "      <td>0</td>\n",
       "    </tr>\n",
       "    <tr>\n",
       "      <th>1</th>\n",
       "      <td>1372637303620000596</td>\n",
       "      <td>B</td>\n",
       "      <td>NaN</td>\n",
       "      <td>7.0</td>\n",
       "      <td>20000596</td>\n",
       "      <td>1372637303</td>\n",
       "      <td>A</td>\n",
       "      <td>False</td>\n",
       "      <td>[[-8.639847,41.159826],[-8.640351,41.159871],[...</td>\n",
       "      <td>2013-07-01 00:08:23</td>\n",
       "      <td>2013</td>\n",
       "      <td>7</td>\n",
       "      <td>0</td>\n",
       "      <td>0</td>\n",
       "    </tr>\n",
       "    <tr>\n",
       "      <th>2</th>\n",
       "      <td>1372636951620000320</td>\n",
       "      <td>C</td>\n",
       "      <td>NaN</td>\n",
       "      <td>NaN</td>\n",
       "      <td>20000320</td>\n",
       "      <td>1372636951</td>\n",
       "      <td>A</td>\n",
       "      <td>False</td>\n",
       "      <td>[[-8.612964,41.140359],[-8.613378,41.14035],[-...</td>\n",
       "      <td>2013-07-01 00:02:31</td>\n",
       "      <td>2013</td>\n",
       "      <td>7</td>\n",
       "      <td>0</td>\n",
       "      <td>0</td>\n",
       "    </tr>\n",
       "    <tr>\n",
       "      <th>3</th>\n",
       "      <td>1372636854620000520</td>\n",
       "      <td>C</td>\n",
       "      <td>NaN</td>\n",
       "      <td>NaN</td>\n",
       "      <td>20000520</td>\n",
       "      <td>1372636854</td>\n",
       "      <td>A</td>\n",
       "      <td>False</td>\n",
       "      <td>[[-8.574678,41.151951],[-8.574705,41.151942],[...</td>\n",
       "      <td>2013-07-01 00:00:54</td>\n",
       "      <td>2013</td>\n",
       "      <td>7</td>\n",
       "      <td>0</td>\n",
       "      <td>0</td>\n",
       "    </tr>\n",
       "    <tr>\n",
       "      <th>4</th>\n",
       "      <td>1372637091620000337</td>\n",
       "      <td>C</td>\n",
       "      <td>NaN</td>\n",
       "      <td>NaN</td>\n",
       "      <td>20000337</td>\n",
       "      <td>1372637091</td>\n",
       "      <td>A</td>\n",
       "      <td>False</td>\n",
       "      <td>[[-8.645994,41.18049],[-8.645949,41.180517],[-...</td>\n",
       "      <td>2013-07-01 00:04:51</td>\n",
       "      <td>2013</td>\n",
       "      <td>7</td>\n",
       "      <td>0</td>\n",
       "      <td>0</td>\n",
       "    </tr>\n",
       "    <tr>\n",
       "      <th>...</th>\n",
       "      <td>...</td>\n",
       "      <td>...</td>\n",
       "      <td>...</td>\n",
       "      <td>...</td>\n",
       "      <td>...</td>\n",
       "      <td>...</td>\n",
       "      <td>...</td>\n",
       "      <td>...</td>\n",
       "      <td>...</td>\n",
       "      <td>...</td>\n",
       "      <td>...</td>\n",
       "      <td>...</td>\n",
       "      <td>...</td>\n",
       "      <td>...</td>\n",
       "    </tr>\n",
       "    <tr>\n",
       "      <th>315</th>\n",
       "      <td>T323</td>\n",
       "      <td>A</td>\n",
       "      <td>70885.0</td>\n",
       "      <td>NaN</td>\n",
       "      <td>20000430</td>\n",
       "      <td>1419171485</td>\n",
       "      <td>A</td>\n",
       "      <td>False</td>\n",
       "      <td>NaN</td>\n",
       "      <td>2014-12-21 14:18:05</td>\n",
       "      <td>2014</td>\n",
       "      <td>12</td>\n",
       "      <td>6</td>\n",
       "      <td>14</td>\n",
       "    </tr>\n",
       "    <tr>\n",
       "      <th>316</th>\n",
       "      <td>T324</td>\n",
       "      <td>B</td>\n",
       "      <td>NaN</td>\n",
       "      <td>53.0</td>\n",
       "      <td>20000020</td>\n",
       "      <td>1419170802</td>\n",
       "      <td>A</td>\n",
       "      <td>False</td>\n",
       "      <td>NaN</td>\n",
       "      <td>2014-12-21 14:06:42</td>\n",
       "      <td>2014</td>\n",
       "      <td>12</td>\n",
       "      <td>6</td>\n",
       "      <td>14</td>\n",
       "    </tr>\n",
       "    <tr>\n",
       "      <th>317</th>\n",
       "      <td>T325</td>\n",
       "      <td>C</td>\n",
       "      <td>NaN</td>\n",
       "      <td>NaN</td>\n",
       "      <td>20000207</td>\n",
       "      <td>1419172121</td>\n",
       "      <td>A</td>\n",
       "      <td>False</td>\n",
       "      <td>NaN</td>\n",
       "      <td>2014-12-21 14:28:41</td>\n",
       "      <td>2014</td>\n",
       "      <td>12</td>\n",
       "      <td>6</td>\n",
       "      <td>14</td>\n",
       "    </tr>\n",
       "    <tr>\n",
       "      <th>318</th>\n",
       "      <td>T326</td>\n",
       "      <td>A</td>\n",
       "      <td>76232.0</td>\n",
       "      <td>NaN</td>\n",
       "      <td>20000667</td>\n",
       "      <td>1419171980</td>\n",
       "      <td>A</td>\n",
       "      <td>False</td>\n",
       "      <td>NaN</td>\n",
       "      <td>2014-12-21 14:26:20</td>\n",
       "      <td>2014</td>\n",
       "      <td>12</td>\n",
       "      <td>6</td>\n",
       "      <td>14</td>\n",
       "    </tr>\n",
       "    <tr>\n",
       "      <th>319</th>\n",
       "      <td>T327</td>\n",
       "      <td>A</td>\n",
       "      <td>31208.0</td>\n",
       "      <td>NaN</td>\n",
       "      <td>20000255</td>\n",
       "      <td>1419171420</td>\n",
       "      <td>A</td>\n",
       "      <td>False</td>\n",
       "      <td>NaN</td>\n",
       "      <td>2014-12-21 14:17:00</td>\n",
       "      <td>2014</td>\n",
       "      <td>12</td>\n",
       "      <td>6</td>\n",
       "      <td>14</td>\n",
       "    </tr>\n",
       "  </tbody>\n",
       "</table>\n",
       "<p>1710990 rows × 14 columns</p>\n",
       "</div>"
      ],
      "text/plain": [
       "                 TRIP_ID CALL_TYPE  ORIGIN_CALL  ORIGIN_STAND   TAXI_ID  \\\n",
       "0    1372636858620000589         C          NaN           NaN  20000589   \n",
       "1    1372637303620000596         B          NaN           7.0  20000596   \n",
       "2    1372636951620000320         C          NaN           NaN  20000320   \n",
       "3    1372636854620000520         C          NaN           NaN  20000520   \n",
       "4    1372637091620000337         C          NaN           NaN  20000337   \n",
       "..                   ...       ...          ...           ...       ...   \n",
       "315                 T323         A      70885.0           NaN  20000430   \n",
       "316                 T324         B          NaN          53.0  20000020   \n",
       "317                 T325         C          NaN           NaN  20000207   \n",
       "318                 T326         A      76232.0           NaN  20000667   \n",
       "319                 T327         A      31208.0           NaN  20000255   \n",
       "\n",
       "      TIMESTAMP DAY_TYPE  MISSING_DATA  \\\n",
       "0    1372636858        A         False   \n",
       "1    1372637303        A         False   \n",
       "2    1372636951        A         False   \n",
       "3    1372636854        A         False   \n",
       "4    1372637091        A         False   \n",
       "..          ...      ...           ...   \n",
       "315  1419171485        A         False   \n",
       "316  1419170802        A         False   \n",
       "317  1419172121        A         False   \n",
       "318  1419171980        A         False   \n",
       "319  1419171420        A         False   \n",
       "\n",
       "                                              POLYLINE                  DT  \\\n",
       "0    [[-8.618643,41.141412],[-8.618499,41.141376],[... 2013-07-01 00:00:58   \n",
       "1    [[-8.639847,41.159826],[-8.640351,41.159871],[... 2013-07-01 00:08:23   \n",
       "2    [[-8.612964,41.140359],[-8.613378,41.14035],[-... 2013-07-01 00:02:31   \n",
       "3    [[-8.574678,41.151951],[-8.574705,41.151942],[... 2013-07-01 00:00:54   \n",
       "4    [[-8.645994,41.18049],[-8.645949,41.180517],[-... 2013-07-01 00:04:51   \n",
       "..                                                 ...                 ...   \n",
       "315                                                NaN 2014-12-21 14:18:05   \n",
       "316                                                NaN 2014-12-21 14:06:42   \n",
       "317                                                NaN 2014-12-21 14:28:41   \n",
       "318                                                NaN 2014-12-21 14:26:20   \n",
       "319                                                NaN 2014-12-21 14:17:00   \n",
       "\n",
       "     YEAR  MONTH  WEEK  HOUR  \n",
       "0    2013      7     0     0  \n",
       "1    2013      7     0     0  \n",
       "2    2013      7     0     0  \n",
       "3    2013      7     0     0  \n",
       "4    2013      7     0     0  \n",
       "..    ...    ...   ...   ...  \n",
       "315  2014     12     6    14  \n",
       "316  2014     12     6    14  \n",
       "317  2014     12     6    14  \n",
       "318  2014     12     6    14  \n",
       "319  2014     12     6    14  \n",
       "\n",
       "[1710990 rows x 14 columns]"
      ]
     },
     "execution_count": 6,
     "metadata": {},
     "output_type": "execute_result"
    }
   ],
   "source": [
    "full_set_proc"
   ]
  },
  {
   "cell_type": "markdown",
   "id": "8eb4c118",
   "metadata": {},
   "source": [
    "# Finding Optimal Clusters\n",
    "- ORIGIN_CALL, ORIGIN_STAND used in clustering to create meaningful features"
   ]
  },
  {
   "cell_type": "code",
   "execution_count": 7,
   "id": "009ed2d5",
   "metadata": {},
   "outputs": [],
   "source": [
    "# sample for finding clusters\n",
    "sample_size = int(full_set_proc.shape[0] * 0.1)\n",
    "sample = full_set_proc.sample(sample_size)"
   ]
  },
  {
   "cell_type": "code",
   "execution_count": 8,
   "id": "0fe0bcf0",
   "metadata": {},
   "outputs": [],
   "source": [
    "# feature engineering for clustering\n",
    "def cluster_features(df, call_thresh, stand_thresh):\n",
    "    \"\"\"\n",
    "    feature engineering for clustering\n",
    "    \n",
    "    df: output of transform raw\n",
    "    call_thresh: min_frequency for ORIGIN_CALL\n",
    "    stand_thresh: min_frequency for ORIGIN_STAND\n",
    "    \"\"\"\n",
    "    call_transformer = OneHotEncoder(handle_unknown='ignore', min_frequency=call_thresh)\n",
    "    stand_transformer = OneHotEncoder(handle_unknown='ignore', min_frequency=stand_thresh)\n",
    "    \n",
    "    prepoc = ColumnTransformer(\n",
    "        transformers = [\n",
    "            (\"ohe_call\", call_transformer, [\"ORIGIN_CALL\"]),\n",
    "            (\"ohe_stand\", stand_transformer, [\"ORIGIN_STAND\"])\n",
    "        ],\n",
    "        remainder=\"drop\"\n",
    "    )\n",
    "    \n",
    "    return prepoc.fit_transform(df)"
   ]
  },
  {
   "cell_type": "code",
   "execution_count": 9,
   "id": "af114018",
   "metadata": {},
   "outputs": [],
   "source": [
    "call_thresh = 0.0001\n",
    "stand_thresh = 0.01\n",
    "sample_proc = cluster_features(sample, call_thresh, stand_thresh)"
   ]
  },
  {
   "cell_type": "code",
   "execution_count": 10,
   "id": "94948fe0",
   "metadata": {},
   "outputs": [
    {
     "data": {
      "text/plain": [
       "<171099x121 sparse matrix of type '<class 'numpy.float64'>'\n",
       "\twith 342198 stored elements in Compressed Sparse Row format>"
      ]
     },
     "execution_count": 10,
     "metadata": {},
     "output_type": "execute_result"
    }
   ],
   "source": [
    "sample_proc"
   ]
  },
  {
   "cell_type": "markdown",
   "id": "9dd08e4f",
   "metadata": {},
   "source": [
    "### Elbow Method "
   ]
  },
  {
   "cell_type": "code",
   "execution_count": 11,
   "id": "fb02fbf0",
   "metadata": {},
   "outputs": [],
   "source": [
    "def kmeans(data, k):\n",
    "    \"\"\"\n",
    "    data: output of cluster_features\n",
    "    \"\"\"\n",
    "    # Create the KMeans object and fit the data\n",
    "    kmeans = KMeans(n_clusters=k, random_state=42)\n",
    "    kmeans.fit(data)\n",
    "\n",
    "    # Get the cluster labels and centroids\n",
    "    labels = kmeans.labels_\n",
    "    centroids = kmeans.cluster_centers_\n",
    "    wcss = kmeans.inertia_\n",
    "    \n",
    "    return centroids, wcss"
   ]
  },
  {
   "cell_type": "code",
   "execution_count": 12,
   "id": "54226a72",
   "metadata": {},
   "outputs": [
    {
     "name": "stderr",
     "output_type": "stream",
     "text": [
      "/home/zsiyed/.local/lib/python3.9/site-packages/sklearn/cluster/_kmeans.py:870: FutureWarning: The default value of `n_init` will change from 10 to 'auto' in 1.4. Set the value of `n_init` explicitly to suppress the warning\n",
      "  warnings.warn(\n"
     ]
    }
   ],
   "source": [
    "centroids = []\n",
    "wcss_list = []\n",
    "for i in np.arange(5,35,5):\n",
    "    cen, wc = kmeans(sample_proc, i)\n",
    "    centroids.append(cen)\n",
    "    wcss_list.append(wc)"
   ]
  },
  {
   "cell_type": "markdown",
   "id": "2e886fc7",
   "metadata": {},
   "source": [
    "### 20 Clusters Optimal"
   ]
  },
  {
   "cell_type": "code",
   "execution_count": 13,
   "id": "90312526",
   "metadata": {},
   "outputs": [
    {
     "data": {
      "image/png": "[encoded data removed]",
      "text/plain": [
       "<Figure size 432x288 with 1 Axes>"
      ]
     },
     "metadata": {
      "needs_background": "light"
     },
     "output_type": "display_data"
    }
   ],
   "source": [
    "plt.scatter(np.arange(5,35,5), wcss_list)\n",
    "plt.show()"
   ]
  },
  {
   "cell_type": "markdown",
   "id": "0e4a8b3b",
   "metadata": {},
   "source": [
    "### Adding Cluster to Training Data"
   ]
  },
  {
   "cell_type": "code",
   "execution_count": 14,
   "id": "bc0daf6a",
   "metadata": {},
   "outputs": [],
   "source": [
    "proc = cluster_features(full_set, call_thresh, stand_thresh)"
   ]
  },
  {
   "cell_type": "code",
   "execution_count": 15,
   "id": "6f96fced",
   "metadata": {},
   "outputs": [
    {
     "data": {
      "text/plain": [
       "<1710990x116 sparse matrix of type '<class 'numpy.float64'>'\n",
       "\twith 3421980 stored elements in Compressed Sparse Row format>"
      ]
     },
     "execution_count": 15,
     "metadata": {},
     "output_type": "execute_result"
    }
   ],
   "source": [
    "proc"
   ]
  },
  {
   "cell_type": "code",
   "execution_count": 16,
   "id": "2944d3e8",
   "metadata": {},
   "outputs": [
    {
     "name": "stderr",
     "output_type": "stream",
     "text": [
      "/home/zsiyed/.local/lib/python3.9/site-packages/sklearn/cluster/_kmeans.py:870: FutureWarning: The default value of `n_init` will change from 10 to 'auto' in 1.4. Set the value of `n_init` explicitly to suppress the warning\n",
      "  warnings.warn(\n"
     ]
    }
   ],
   "source": [
    "# Create the KMeans object and fit the data\n",
    "kmeans = KMeans(n_clusters=15)\n",
    "kmeans.fit(proc)\n",
    "\n",
    "# Get the cluster labels and centroids\n",
    "labels = kmeans.labels_"
   ]
  },
  {
   "cell_type": "code",
   "execution_count": 17,
   "id": "7a408989",
   "metadata": {},
   "outputs": [],
   "source": [
    "full_set_labeled = full_set_proc.assign(\n",
    "    CLUSTER=labels\n",
    ")"
   ]
  },
  {
   "cell_type": "code",
   "execution_count": 18,
   "id": "c3098755",
   "metadata": {},
   "outputs": [
    {
     "data": {
      "text/html": [
       "<div>\n",
       "<style scoped>\n",
       "    .dataframe tbody tr th:only-of-type {\n",
       "        vertical-align: middle;\n",
       "    }\n",
       "\n",
       "    .dataframe tbody tr th {\n",
       "        vertical-align: top;\n",
       "    }\n",
       "\n",
       "    .dataframe thead th {\n",
       "        text-align: right;\n",
       "    }\n",
       "</style>\n",
       "<table border=\"1\" class=\"dataframe\">\n",
       "  <thead>\n",
       "    <tr style=\"text-align: right;\">\n",
       "      <th></th>\n",
       "      <th>TRIP_ID</th>\n",
       "      <th>CALL_TYPE</th>\n",
       "      <th>ORIGIN_CALL</th>\n",
       "      <th>ORIGIN_STAND</th>\n",
       "      <th>TAXI_ID</th>\n",
       "      <th>TIMESTAMP</th>\n",
       "      <th>DAY_TYPE</th>\n",
       "      <th>MISSING_DATA</th>\n",
       "      <th>POLYLINE</th>\n",
       "      <th>DT</th>\n",
       "      <th>YEAR</th>\n",
       "      <th>MONTH</th>\n",
       "      <th>WEEK</th>\n",
       "      <th>HOUR</th>\n",
       "      <th>CLUSTER</th>\n",
       "    </tr>\n",
       "  </thead>\n",
       "  <tbody>\n",
       "    <tr>\n",
       "      <th>0</th>\n",
       "      <td>1372636858620000589</td>\n",
       "      <td>C</td>\n",
       "      <td>NaN</td>\n",
       "      <td>NaN</td>\n",
       "      <td>20000589</td>\n",
       "      <td>1372636858</td>\n",
       "      <td>A</td>\n",
       "      <td>False</td>\n",
       "      <td>[[-8.618643,41.141412],[-8.618499,41.141376],[...</td>\n",
       "      <td>2013-07-01 00:00:58</td>\n",
       "      <td>2013</td>\n",
       "      <td>7</td>\n",
       "      <td>0</td>\n",
       "      <td>0</td>\n",
       "      <td>2</td>\n",
       "    </tr>\n",
       "    <tr>\n",
       "      <th>1</th>\n",
       "      <td>1372637303620000596</td>\n",
       "      <td>B</td>\n",
       "      <td>NaN</td>\n",
       "      <td>7.0</td>\n",
       "      <td>20000596</td>\n",
       "      <td>1372637303</td>\n",
       "      <td>A</td>\n",
       "      <td>False</td>\n",
       "      <td>[[-8.639847,41.159826],[-8.640351,41.159871],[...</td>\n",
       "      <td>2013-07-01 00:08:23</td>\n",
       "      <td>2013</td>\n",
       "      <td>7</td>\n",
       "      <td>0</td>\n",
       "      <td>0</td>\n",
       "      <td>14</td>\n",
       "    </tr>\n",
       "    <tr>\n",
       "      <th>2</th>\n",
       "      <td>1372636951620000320</td>\n",
       "      <td>C</td>\n",
       "      <td>NaN</td>\n",
       "      <td>NaN</td>\n",
       "      <td>20000320</td>\n",
       "      <td>1372636951</td>\n",
       "      <td>A</td>\n",
       "      <td>False</td>\n",
       "      <td>[[-8.612964,41.140359],[-8.613378,41.14035],[-...</td>\n",
       "      <td>2013-07-01 00:02:31</td>\n",
       "      <td>2013</td>\n",
       "      <td>7</td>\n",
       "      <td>0</td>\n",
       "      <td>0</td>\n",
       "      <td>2</td>\n",
       "    </tr>\n",
       "    <tr>\n",
       "      <th>3</th>\n",
       "      <td>1372636854620000520</td>\n",
       "      <td>C</td>\n",
       "      <td>NaN</td>\n",
       "      <td>NaN</td>\n",
       "      <td>20000520</td>\n",
       "      <td>1372636854</td>\n",
       "      <td>A</td>\n",
       "      <td>False</td>\n",
       "      <td>[[-8.574678,41.151951],[-8.574705,41.151942],[...</td>\n",
       "      <td>2013-07-01 00:00:54</td>\n",
       "      <td>2013</td>\n",
       "      <td>7</td>\n",
       "      <td>0</td>\n",
       "      <td>0</td>\n",
       "      <td>2</td>\n",
       "    </tr>\n",
       "    <tr>\n",
       "      <th>4</th>\n",
       "      <td>1372637091620000337</td>\n",
       "      <td>C</td>\n",
       "      <td>NaN</td>\n",
       "      <td>NaN</td>\n",
       "      <td>20000337</td>\n",
       "      <td>1372637091</td>\n",
       "      <td>A</td>\n",
       "      <td>False</td>\n",
       "      <td>[[-8.645994,41.18049],[-8.645949,41.180517],[-...</td>\n",
       "      <td>2013-07-01 00:04:51</td>\n",
       "      <td>2013</td>\n",
       "      <td>7</td>\n",
       "      <td>0</td>\n",
       "      <td>0</td>\n",
       "      <td>2</td>\n",
       "    </tr>\n",
       "    <tr>\n",
       "      <th>...</th>\n",
       "      <td>...</td>\n",
       "      <td>...</td>\n",
       "      <td>...</td>\n",
       "      <td>...</td>\n",
       "      <td>...</td>\n",
       "      <td>...</td>\n",
       "      <td>...</td>\n",
       "      <td>...</td>\n",
       "      <td>...</td>\n",
       "      <td>...</td>\n",
       "      <td>...</td>\n",
       "      <td>...</td>\n",
       "      <td>...</td>\n",
       "      <td>...</td>\n",
       "      <td>...</td>\n",
       "    </tr>\n",
       "    <tr>\n",
       "      <th>315</th>\n",
       "      <td>T323</td>\n",
       "      <td>A</td>\n",
       "      <td>70885.0</td>\n",
       "      <td>NaN</td>\n",
       "      <td>20000430</td>\n",
       "      <td>1419171485</td>\n",
       "      <td>A</td>\n",
       "      <td>False</td>\n",
       "      <td>NaN</td>\n",
       "      <td>2014-12-21 14:18:05</td>\n",
       "      <td>2014</td>\n",
       "      <td>12</td>\n",
       "      <td>6</td>\n",
       "      <td>14</td>\n",
       "      <td>0</td>\n",
       "    </tr>\n",
       "    <tr>\n",
       "      <th>316</th>\n",
       "      <td>T324</td>\n",
       "      <td>B</td>\n",
       "      <td>NaN</td>\n",
       "      <td>53.0</td>\n",
       "      <td>20000020</td>\n",
       "      <td>1419170802</td>\n",
       "      <td>A</td>\n",
       "      <td>False</td>\n",
       "      <td>NaN</td>\n",
       "      <td>2014-12-21 14:06:42</td>\n",
       "      <td>2014</td>\n",
       "      <td>12</td>\n",
       "      <td>6</td>\n",
       "      <td>14</td>\n",
       "      <td>10</td>\n",
       "    </tr>\n",
       "    <tr>\n",
       "      <th>317</th>\n",
       "      <td>T325</td>\n",
       "      <td>C</td>\n",
       "      <td>NaN</td>\n",
       "      <td>NaN</td>\n",
       "      <td>20000207</td>\n",
       "      <td>1419172121</td>\n",
       "      <td>A</td>\n",
       "      <td>False</td>\n",
       "      <td>NaN</td>\n",
       "      <td>2014-12-21 14:28:41</td>\n",
       "      <td>2014</td>\n",
       "      <td>12</td>\n",
       "      <td>6</td>\n",
       "      <td>14</td>\n",
       "      <td>2</td>\n",
       "    </tr>\n",
       "    <tr>\n",
       "      <th>318</th>\n",
       "      <td>T326</td>\n",
       "      <td>A</td>\n",
       "      <td>76232.0</td>\n",
       "      <td>NaN</td>\n",
       "      <td>20000667</td>\n",
       "      <td>1419171980</td>\n",
       "      <td>A</td>\n",
       "      <td>False</td>\n",
       "      <td>NaN</td>\n",
       "      <td>2014-12-21 14:26:20</td>\n",
       "      <td>2014</td>\n",
       "      <td>12</td>\n",
       "      <td>6</td>\n",
       "      <td>14</td>\n",
       "      <td>0</td>\n",
       "    </tr>\n",
       "    <tr>\n",
       "      <th>319</th>\n",
       "      <td>T327</td>\n",
       "      <td>A</td>\n",
       "      <td>31208.0</td>\n",
       "      <td>NaN</td>\n",
       "      <td>20000255</td>\n",
       "      <td>1419171420</td>\n",
       "      <td>A</td>\n",
       "      <td>False</td>\n",
       "      <td>NaN</td>\n",
       "      <td>2014-12-21 14:17:00</td>\n",
       "      <td>2014</td>\n",
       "      <td>12</td>\n",
       "      <td>6</td>\n",
       "      <td>14</td>\n",
       "      <td>0</td>\n",
       "    </tr>\n",
       "  </tbody>\n",
       "</table>\n",
       "<p>1710990 rows × 15 columns</p>\n",
       "</div>"
      ],
      "text/plain": [
       "                 TRIP_ID CALL_TYPE  ORIGIN_CALL  ORIGIN_STAND   TAXI_ID  \\\n",
       "0    1372636858620000589         C          NaN           NaN  20000589   \n",
       "1    1372637303620000596         B          NaN           7.0  20000596   \n",
       "2    1372636951620000320         C          NaN           NaN  20000320   \n",
       "3    1372636854620000520         C          NaN           NaN  20000520   \n",
       "4    1372637091620000337         C          NaN           NaN  20000337   \n",
       "..                   ...       ...          ...           ...       ...   \n",
       "315                 T323         A      70885.0           NaN  20000430   \n",
       "316                 T324         B          NaN          53.0  20000020   \n",
       "317                 T325         C          NaN           NaN  20000207   \n",
       "318                 T326         A      76232.0           NaN  20000667   \n",
       "319                 T327         A      31208.0           NaN  20000255   \n",
       "\n",
       "      TIMESTAMP DAY_TYPE  MISSING_DATA  \\\n",
       "0    1372636858        A         False   \n",
       "1    1372637303        A         False   \n",
       "2    1372636951        A         False   \n",
       "3    1372636854        A         False   \n",
       "4    1372637091        A         False   \n",
       "..          ...      ...           ...   \n",
       "315  1419171485        A         False   \n",
       "316  1419170802        A         False   \n",
       "317  1419172121        A         False   \n",
       "318  1419171980        A         False   \n",
       "319  1419171420        A         False   \n",
       "\n",
       "                                              POLYLINE                  DT  \\\n",
       "0    [[-8.618643,41.141412],[-8.618499,41.141376],[... 2013-07-01 00:00:58   \n",
       "1    [[-8.639847,41.159826],[-8.640351,41.159871],[... 2013-07-01 00:08:23   \n",
       "2    [[-8.612964,41.140359],[-8.613378,41.14035],[-... 2013-07-01 00:02:31   \n",
       "3    [[-8.574678,41.151951],[-8.574705,41.151942],[... 2013-07-01 00:00:54   \n",
       "4    [[-8.645994,41.18049],[-8.645949,41.180517],[-... 2013-07-01 00:04:51   \n",
       "..                                                 ...                 ...   \n",
       "315                                                NaN 2014-12-21 14:18:05   \n",
       "316                                                NaN 2014-12-21 14:06:42   \n",
       "317                                                NaN 2014-12-21 14:28:41   \n",
       "318                                                NaN 2014-12-21 14:26:20   \n",
       "319                                                NaN 2014-12-21 14:17:00   \n",
       "\n",
       "     YEAR  MONTH  WEEK  HOUR  CLUSTER  \n",
       "0    2013      7     0     0        2  \n",
       "1    2013      7     0     0       14  \n",
       "2    2013      7     0     0        2  \n",
       "3    2013      7     0     0        2  \n",
       "4    2013      7     0     0        2  \n",
       "..    ...    ...   ...   ...      ...  \n",
       "315  2014     12     6    14        0  \n",
       "316  2014     12     6    14       10  \n",
       "317  2014     12     6    14        2  \n",
       "318  2014     12     6    14        0  \n",
       "319  2014     12     6    14        0  \n",
       "\n",
       "[1710990 rows x 15 columns]"
      ]
     },
     "execution_count": 18,
     "metadata": {},
     "output_type": "execute_result"
    }
   ],
   "source": [
    "full_set_labeled"
   ]
  },
  {
   "cell_type": "markdown",
   "id": "29461226",
   "metadata": {},
   "source": [
    "# One Hot Encoding Full set"
   ]
  },
  {
   "cell_type": "code",
   "execution_count": 67,
   "id": "98f8f061",
   "metadata": {},
   "outputs": [],
   "source": [
    "# OHE origin stand directly\n",
    "stand_thresh2 = 0.005\n",
    "stand_transformer = OneHotEncoder(handle_unknown='ignore', min_frequency=stand_thresh2)\n",
    "\n",
    "stand = ColumnTransformer(\n",
    "    transformers = [\n",
    "        (\"ohe_stand\", stand_transformer, [\"ORIGIN_STAND\"])\n",
    "    ],\n",
    "    remainder=\"drop\"\n",
    ")\n",
    "\n",
    "stand_OHE = stand.fit_transform(full_set_labeled)"
   ]
  },
  {
   "cell_type": "code",
   "execution_count": 68,
   "id": "1f75cffd",
   "metadata": {},
   "outputs": [
    {
     "data": {
      "text/plain": [
       "(1710990, 31)"
      ]
     },
     "execution_count": 68,
     "metadata": {},
     "output_type": "execute_result"
    }
   ],
   "source": [
    "stand_OHE.shape"
   ]
  },
  {
   "cell_type": "code",
   "execution_count": 69,
   "id": "1d89a4d2",
   "metadata": {},
   "outputs": [],
   "source": [
    "OHE = OneHotEncoder(handle_unknown='ignore', sparse = False)    \n",
    "prepoc = ColumnTransformer(\n",
    "    transformers = [\n",
    "        (\"OHE\", OHE, [\"CALL_TYPE\", \"YEAR\", \"MONTH\", \"WEEK\", \"HOUR\", \"CLUSTER\"]),\n",
    "    ],\n",
    "    remainder=\"drop\"\n",
    ")"
   ]
  },
  {
   "cell_type": "code",
   "execution_count": 70,
   "id": "54461b0d",
   "metadata": {},
   "outputs": [
    {
     "name": "stderr",
     "output_type": "stream",
     "text": [
      "/home/zsiyed/.local/lib/python3.9/site-packages/sklearn/preprocessing/_encoders.py:868: FutureWarning: `sparse` was renamed to `sparse_output` in version 1.2 and will be removed in 1.4. `sparse_output` is ignored unless you leave `sparse` to its default value.\n",
      "  warnings.warn(\n"
     ]
    }
   ],
   "source": [
    "OHE_df = prepoc.fit_transform(full_set_labeled)"
   ]
  },
  {
   "cell_type": "code",
   "execution_count": 71,
   "id": "705ff81b",
   "metadata": {},
   "outputs": [
    {
     "data": {
      "text/plain": [
       "(1710990, 63)"
      ]
     },
     "execution_count": 71,
     "metadata": {},
     "output_type": "execute_result"
    }
   ],
   "source": [
    "OHE_df.shape"
   ]
  },
  {
   "cell_type": "code",
   "execution_count": 72,
   "id": "24915e4c",
   "metadata": {},
   "outputs": [
    {
     "data": {
      "text/plain": [
       "(1710990, 94)"
      ]
     },
     "execution_count": 72,
     "metadata": {},
     "output_type": "execute_result"
    }
   ],
   "source": [
    "full_ohe = np.concatenate((stand_OHE.todense(), OHE_df), axis = 1)\n",
    "full_ohe.shape"
   ]
  },
  {
   "cell_type": "code",
   "execution_count": 73,
   "id": "15b9a196",
   "metadata": {},
   "outputs": [
    {
     "name": "stdout",
     "output_type": "stream",
     "text": [
      "(1710670, 95) (320, 94)\n"
     ]
    }
   ],
   "source": [
    "train = np.hstack((full_ohe[:train_raw.shape[0]], duration_col)) \n",
    "test = full_ohe[train_raw.shape[0]:]\n",
    "print(train.shape, test.shape)"
   ]
  },
  {
   "cell_type": "code",
   "execution_count": 74,
   "id": "8d999db9",
   "metadata": {},
   "outputs": [],
   "source": [
    "np.save(\"processed_train_set\", train)\n",
    "np.save(\"processed_test_set\", test)"
   ]
  },
  {
   "cell_type": "code",
   "execution_count": null,
   "id": "50942156",
   "metadata": {},
   "outputs": [],
   "source": []
  }
 ],
 "metadata": {
  "kernelspec": {
   "display_name": "Python 3 (ipykernel)",
   "language": "python",
   "name": "python3"
  },
  "language_info": {
   "codemirror_mode": {
    "name": "ipython",
    "version": 3
   },
   "file_extension": ".py",
   "mimetype": "text/x-python",
   "name": "python",
   "nbconvert_exporter": "python",
   "pygments_lexer": "ipython3",
   "version": "3.9.5"
  }
 },
 "nbformat": 4,
 "nbformat_minor": 5
}
