{
 "cells": [
  {
   "cell_type": "code",
   "execution_count": 1,
   "id": "7924250e",
   "metadata": {},
   "outputs": [],
   "source": [
    "import torch\n",
    "import torch.nn as nn\n",
    "from torch.utils.data import DataLoader\n",
    "import pandas as pd\n",
    "import numpy as np\n",
    "import sklearn \n",
    "import matplotlib.pyplot as plt\n",
    "import datetime as dt\n",
    "from sklearn.preprocessing import OneHotEncoder\n",
    "import math"
   ]
  },
  {
   "cell_type": "code",
   "execution_count": 2,
   "id": "788f46df",
   "metadata": {
    "scrolled": true
   },
   "outputs": [
    {
     "data": {
      "text/plain": [
       "device(type='cuda')"
      ]
     },
     "execution_count": 2,
     "metadata": {},
     "output_type": "execute_result"
    }
   ],
   "source": [
    "device = torch.device(\"cuda\" if torch.cuda.is_available() else \"cpu\")\n",
    "device"
   ]
  },
  {
   "cell_type": "code",
   "execution_count": 3,
   "id": "603bc171",
   "metadata": {},
   "outputs": [
    {
     "data": {
      "text/plain": [
       "True"
      ]
     },
     "execution_count": 3,
     "metadata": {},
     "output_type": "execute_result"
    }
   ],
   "source": [
    "torch.cuda.is_available() "
   ]
  },
  {
   "cell_type": "markdown",
   "id": "83f2a47d",
   "metadata": {},
   "source": [
    "# Dataloader"
   ]
  },
  {
   "cell_type": "code",
   "execution_count": 4,
   "id": "ba36ffad",
   "metadata": {},
   "outputs": [],
   "source": [
    "import torch\n",
    "from torch.utils.data import Dataset, DataLoader, random_split\n",
    "\n",
    "# Custom Dataset class\n",
    "class MyDataset(Dataset):\n",
    "    def __init__(self, data):\n",
    "        self.data = data.float()\n",
    "\n",
    "    def __getitem__(self, index):\n",
    "        return self.data[index].float()\n",
    "\n",
    "    def __len__(self):\n",
    "        return len(self.data)"
   ]
  },
  {
   "cell_type": "code",
   "execution_count": 5,
   "id": "86060645",
   "metadata": {},
   "outputs": [],
   "source": [
    "def train_epoch(train_loader, model, optimizer, loss_function):\n",
    "    losses = []\n",
    "    # get a batch of training data from the train_loader (DataLoader obj)\n",
    "    for i, data in enumerate(train_loader):\n",
    "        x = data[:,:-1].to(device)\n",
    "        t = data[:,-1].unsqueeze(1).to(device)\n",
    "        # make predictions for this batch\n",
    "        y = model(x)\n",
    "        # Compute the loss\n",
    "        loss = loss_function(y, t)\n",
    "        # zero out the gradients so that it will not accumulate through each iteration\n",
    "        optimizer.zero_grad()\n",
    "        # Compute the gradents with the backward call (backprop)\n",
    "        loss.backward()\n",
    "        # Update weight using gradient descent \n",
    "        optimizer.step()\n",
    "        losses.append(loss.item())\n",
    "    return np.mean(losses)\n",
    "\n",
    "def eval_epoch(valid_loader, model, loss_function):\n",
    "    rmses = []\n",
    "    with torch.no_grad(): \n",
    "        for i, data in enumerate(valid_loader):\n",
    "            x = data[:,:-1].to(device)\n",
    "            t = data[:,-1].unsqueeze(1).to(device)\n",
    "            # Compute prediction\n",
    "            y = model(x)\n",
    "            \n",
    "            rmse = math.sqrt(loss_function(y,t))\n",
    "            rmses.append(rmse)\n",
    "            \n",
    "    return np.mean(rmses)"
   ]
  },
  {
   "cell_type": "markdown",
   "id": "36acf538",
   "metadata": {},
   "source": [
    "# Define Model Architectures"
   ]
  },
  {
   "cell_type": "code",
   "execution_count": 42,
   "id": "3d82f0e3",
   "metadata": {},
   "outputs": [],
   "source": [
    "# Define the neural network architecture\n",
    "leaky_relu = nn.LeakyReLU(negative_slope=0.2)\n",
    "class Net(nn.Module):\n",
    "    def __init__(self):\n",
    "        super(Net, self).__init__()\n",
    "        self.selu = nn.ReLU()\n",
    "        self.dropout = nn.Dropout(p=0.5)\n",
    "        self.fc1 = nn.Linear(104, 64)\n",
    "        # self.fc2 = nn.Linear(48, 24)\n",
    "        self.fc3 = nn.Linear(64, 32)\n",
    "        self.fc4 = nn.Linear(32,16)\n",
    "        self.fc5 = nn.Linear(16, 1)\n",
    "\n",
    "    def forward(self, x):\n",
    "        x = self.selu(self.fc1(x))\n",
    "        x = self.dropout(x)\n",
    "        # x = self.dropout(self.relu(self.fc2(x)))\n",
    "        x = self.selu(self.fc3(x))\n",
    "        x = self.dropout(x)\n",
    "        x = self.selu(self.fc4(x))\n",
    "        x = self.dropout(x)\n",
    "        x = self.fc5(x)\n",
    "        return x\n",
    "\n",
    "# Create an instance of the neural network\n",
    "model = Net()\n",
    "model = model.to(device)\n",
    "criterion = nn.MSELoss()"
   ]
  },
  {
   "cell_type": "markdown",
   "id": "3748c396",
   "metadata": {},
   "source": [
    "# Load in Data"
   ]
  },
  {
   "cell_type": "code",
   "execution_count": 43,
   "id": "32a993bd",
   "metadata": {},
   "outputs": [
    {
     "data": {
      "text/plain": [
       "(1710670, 105)"
      ]
     },
     "execution_count": 43,
     "metadata": {},
     "output_type": "execute_result"
    }
   ],
   "source": [
    "df_np = np.load('data/processed_train_set.npy')\n",
    "df_np.shape"
   ]
  },
  {
   "cell_type": "code",
   "execution_count": 44,
   "id": "d723ae38",
   "metadata": {},
   "outputs": [],
   "source": [
    "# load in np array and DRAW SAMPLE\n",
    "num_samples = int(df_np.shape[0]*1)\n",
    "\n",
    "num_rows = df_np.shape[0]\n",
    "sampled_indices = np.random.choice(num_rows, size=num_samples, replace=False)"
   ]
  },
  {
   "cell_type": "code",
   "execution_count": 45,
   "id": "3e99b28f",
   "metadata": {},
   "outputs": [],
   "source": [
    "# convert np to tensor\n",
    "df = torch.tensor(df_np[sampled_indices])"
   ]
  },
  {
   "cell_type": "code",
   "execution_count": 46,
   "id": "222cd055",
   "metadata": {},
   "outputs": [
    {
     "data": {
      "text/plain": [
       "torch.Size([1710670, 105])"
      ]
     },
     "execution_count": 46,
     "metadata": {},
     "output_type": "execute_result"
    }
   ],
   "source": [
    "df.shape"
   ]
  },
  {
   "cell_type": "code",
   "execution_count": 47,
   "id": "00fe0bfa",
   "metadata": {},
   "outputs": [],
   "source": [
    "# Create a sample dataset\n",
    "dataset = MyDataset(df)\n",
    "\n",
    "# Define the sizes of train, validation, and test sets\n",
    "train_size = int(0.8 * len(dataset))\n",
    "val_size = len(dataset)-train_size"
   ]
  },
  {
   "cell_type": "code",
   "execution_count": 48,
   "id": "29def452",
   "metadata": {},
   "outputs": [],
   "source": [
    "# Split the dataset\n",
    "batch_size = 256\n",
    "train_data, val_data = random_split(dataset, [train_size, val_size])\n",
    "\n",
    "# Create DataLoader objects for train, validation, and test sets\n",
    "train_loader = DataLoader(train_data, batch_size=batch_size, shuffle=True)\n",
    "valid_loader = DataLoader(val_data, batch_size=batch_size)\n",
    "# test_loader = DataLoader(test_data, batch_size=32)"
   ]
  },
  {
   "cell_type": "markdown",
   "id": "abddd2a5",
   "metadata": {},
   "source": [
    "# Train Model"
   ]
  },
  {
   "cell_type": "code",
   "execution_count": 49,
   "id": "80db77b4",
   "metadata": {},
   "outputs": [],
   "source": [
    "def train_model(model, model_name, epochs, lr, batch_size):\n",
    "    # Define the optimizer\n",
    "    train_rmses = []\n",
    "    valid_rmses = []\n",
    "    optimizer = torch.optim.Adam(model.parameters(), lr)\n",
    "#     optimizer = torch.optim.Adam(model.parameters())\n",
    "    train_accs, valid_accs = [], []\n",
    "    for epoch in range(epochs):\n",
    "\n",
    "        model.train() # gradient tracking is on\n",
    "\n",
    "        train_loss = train_epoch(train_loader, model, optimizer, criterion)\n",
    "\n",
    "        model.eval() # we don't need gradients on to do reporting\n",
    "\n",
    "        train_rmse = eval_epoch(train_loader, model, criterion)\n",
    "        valid_rmse = eval_epoch(valid_loader, model, criterion)\n",
    "        \n",
    "#         train_rmses.append(train_rmse)\n",
    "#         valid_rmses.append(valid_rmse)\n",
    "\n",
    "        print(f\"Epoch: {epoch+1}, Train Loss: {train_loss:>0.4f}, Train mse: {train_rmse:>0.2f},\\\n",
    "              Validation Accuracy: {valid_rmse:>0.2f} \\n\")\n",
    "    torch.save(model.state_dict(), './{}'.format(model_name))\n"
   ]
  },
  {
   "cell_type": "code",
   "execution_count": 52,
   "id": "b3a98e87",
   "metadata": {},
   "outputs": [
    {
     "name": "stdout",
     "output_type": "stream",
     "text": [
      "Epoch: 1, Train Loss: 513487.6387, Train mse: 624.18,              Validation Accuracy: 618.92 \n",
      "\n",
      "Epoch: 2, Train Loss: 509012.0057, Train mse: 624.34,              Validation Accuracy: 619.84 \n",
      "\n",
      "Epoch: 3, Train Loss: 504232.2777, Train mse: 621.78,              Validation Accuracy: 616.41 \n",
      "\n",
      "Epoch: 4, Train Loss: 501043.2747, Train mse: 620.87,              Validation Accuracy: 615.68 \n",
      "\n",
      "Epoch: 5, Train Loss: 498434.6600, Train mse: 620.67,              Validation Accuracy: 615.70 \n",
      "\n",
      "Epoch: 6, Train Loss: 496418.1310, Train mse: 620.03,              Validation Accuracy: 615.62 \n",
      "\n",
      "Epoch: 7, Train Loss: 494318.9274, Train mse: 619.09,              Validation Accuracy: 614.08 \n",
      "\n",
      "Epoch: 8, Train Loss: 492711.7006, Train mse: 621.03,              Validation Accuracy: 616.38 \n",
      "\n",
      "Epoch: 9, Train Loss: 491548.9129, Train mse: 620.03,              Validation Accuracy: 614.86 \n",
      "\n",
      "Epoch: 10, Train Loss: 490487.9378, Train mse: 618.25,              Validation Accuracy: 613.90 \n",
      "\n",
      "Epoch: 11, Train Loss: 489508.9737, Train mse: 619.91,              Validation Accuracy: 614.80 \n",
      "\n",
      "Epoch: 12, Train Loss: 489432.4030, Train mse: 618.72,              Validation Accuracy: 614.05 \n",
      "\n",
      "Epoch: 13, Train Loss: 488441.7403, Train mse: 619.39,              Validation Accuracy: 614.82 \n",
      "\n",
      "Epoch: 14, Train Loss: 488206.6405, Train mse: 617.64,              Validation Accuracy: 613.09 \n",
      "\n",
      "Epoch: 15, Train Loss: 487005.3171, Train mse: 619.61,              Validation Accuracy: 614.81 \n",
      "\n",
      "Epoch: 16, Train Loss: 487388.8976, Train mse: 618.23,              Validation Accuracy: 613.93 \n",
      "\n",
      "Epoch: 17, Train Loss: 486505.5012, Train mse: 619.87,              Validation Accuracy: 614.65 \n",
      "\n",
      "Epoch: 18, Train Loss: 485837.2014, Train mse: 618.43,              Validation Accuracy: 613.90 \n",
      "\n",
      "Epoch: 19, Train Loss: 486051.7079, Train mse: 618.19,              Validation Accuracy: 613.32 \n",
      "\n",
      "Epoch: 20, Train Loss: 485170.6608, Train mse: 617.40,              Validation Accuracy: 612.96 \n",
      "\n",
      "CPU times: user 9min 5s, sys: 13.7 s, total: 9min 19s\n",
      "Wall time: 8min 49s\n"
     ]
    }
   ],
   "source": [
    "%%time\n",
    "train_model(model = model, model_name = 'main_model', \\\n",
    "epochs = 20, lr=0.001, batch_size = batch_size)"
   ]
  },
  {
   "cell_type": "code",
   "execution_count": 51,
   "id": "3d3a4818",
   "metadata": {},
   "outputs": [],
   "source": [
    "# saved_model = Net()\n",
    "# saved_model.load_state_dict(torch.load('./cse151B_project'))\n",
    "# saved_model"
   ]
  },
  {
   "cell_type": "markdown",
   "id": "cd8f4d3f",
   "metadata": {},
   "source": [
    "# Test Model"
   ]
  },
  {
   "cell_type": "code",
   "execution_count": 53,
   "id": "db24327d",
   "metadata": {},
   "outputs": [
    {
     "data": {
      "text/plain": [
       "(320, 104)"
      ]
     },
     "execution_count": 53,
     "metadata": {},
     "output_type": "execute_result"
    }
   ],
   "source": [
    "df_np_test = np.load('data/processed_test_set.npy')\n",
    "df_np_test.shape"
   ]
  },
  {
   "cell_type": "code",
   "execution_count": 54,
   "id": "e8e12a0c",
   "metadata": {
    "scrolled": true
   },
   "outputs": [
    {
     "data": {
      "text/plain": [
       "torch.Size([320, 104])"
      ]
     },
     "execution_count": 54,
     "metadata": {},
     "output_type": "execute_result"
    }
   ],
   "source": [
    "test_tensor = torch.tensor(df_np_test).to(device)\n",
    "test_tensor.shape"
   ]
  },
  {
   "cell_type": "code",
   "execution_count": 55,
   "id": "fbdd529c",
   "metadata": {},
   "outputs": [
    {
     "data": {
      "text/plain": [
       "Net(\n",
       "  (selu): ReLU()\n",
       "  (dropout): Dropout(p=0.5, inplace=False)\n",
       "  (fc1): Linear(in_features=104, out_features=64, bias=True)\n",
       "  (fc3): Linear(in_features=64, out_features=32, bias=True)\n",
       "  (fc4): Linear(in_features=32, out_features=16, bias=True)\n",
       "  (fc5): Linear(in_features=16, out_features=1, bias=True)\n",
       ")"
      ]
     },
     "execution_count": 55,
     "metadata": {},
     "output_type": "execute_result"
    }
   ],
   "source": [
    "model = model.float()\n",
    "model"
   ]
  },
  {
   "cell_type": "code",
   "execution_count": 56,
   "id": "f706fa7f",
   "metadata": {},
   "outputs": [],
   "source": [
    "pred = []\n",
    "with torch.no_grad(): \n",
    "    for i in range(test_tensor.shape[0]):\n",
    "        x = test_tensor[i].float().to(device)\n",
    "        y = model(x)\n",
    "        pred.append(y.cpu().numpy()[0])         "
   ]
  },
  {
   "cell_type": "code",
   "execution_count": 57,
   "id": "bd8d3bab",
   "metadata": {},
   "outputs": [
    {
     "data": {
      "text/plain": [
       "[743.87317,\n",
       " 653.98926,\n",
       " 743.87317,\n",
       " 664.11597,\n",
       " 677.2739,\n",
       " 693.7875,\n",
       " 743.87317,\n",
       " 693.7875,\n",
       " 732.06445,\n",
       " 743.87317,\n",
       " 603.3226,\n",
       " 768.93933,\n",
       " 768.93933,\n",
       " 768.93933,\n",
       " 768.93933,\n",
       " 768.93933,\n",
       " 768.93933,\n",
       " 768.93933,\n",
       " 743.87317,\n",
       " 768.93933,\n",
       " 743.87317,\n",
       " 693.7875,\n",
       " 765.0043,\n",
       " 743.87317,\n",
       " 635.8312,\n",
       " 631.9723,\n",
       " 743.87317,\n",
       " 743.87317,\n",
       " 631.9232,\n",
       " 743.87317,\n",
       " 743.87317,\n",
       " 653.98926,\n",
       " 768.93933,\n",
       " 768.93933,\n",
       " 768.93933,\n",
       " 768.93933,\n",
       " 813.77075,\n",
       " 616.83325,\n",
       " 743.87317,\n",
       " 665.41895,\n",
       " 649.6824,\n",
       " 768.93933,\n",
       " 768.93933,\n",
       " 732.06445,\n",
       " 631.9723,\n",
       " 646.7499,\n",
       " 768.93933,\n",
       " 768.93933,\n",
       " 542.9862,\n",
       " 603.3226,\n",
       " 604.21,\n",
       " 633.1794,\n",
       " 616.83325,\n",
       " 743.87317,\n",
       " 743.87317,\n",
       " 617.0306,\n",
       " 732.06445,\n",
       " 617.0105,\n",
       " 768.93933,\n",
       " 693.7875,\n",
       " 743.87317,\n",
       " 768.93933,\n",
       " 768.93933,\n",
       " 813.77075,\n",
       " 732.06445,\n",
       " 732.06445,\n",
       " 743.87317,\n",
       " 693.7875,\n",
       " 768.93933,\n",
       " 604.21,\n",
       " 814.95374,\n",
       " 768.93933,\n",
       " 743.87317,\n",
       " 768.93933,\n",
       " 615.1007,\n",
       " 933.3453,\n",
       " 612.88086,\n",
       " 933.3453,\n",
       " 933.3453,\n",
       " 933.3453,\n",
       " 700.7935,\n",
       " 615.1007,\n",
       " 700.7935,\n",
       " 700.7935,\n",
       " 628.9321,\n",
       " 700.7935,\n",
       " 933.3453,\n",
       " 933.3453,\n",
       " 615.1007,\n",
       " 700.7935,\n",
       " 806.56384,\n",
       " 933.3453,\n",
       " 933.3453,\n",
       " 806.56384,\n",
       " 606.34326,\n",
       " 916.26154,\n",
       " 700.7935,\n",
       " 700.7935,\n",
       " 700.7935,\n",
       " 933.3453,\n",
       " 628.9321,\n",
       " 700.4107,\n",
       " 933.3453,\n",
       " 570.1698,\n",
       " 570.1698,\n",
       " 700.7935,\n",
       " 707.39575,\n",
       " 615.1007,\n",
       " 700.4107,\n",
       " 806.56384,\n",
       " 700.7935,\n",
       " 806.56384,\n",
       " 608.9229,\n",
       " 765.8718,\n",
       " 700.7935,\n",
       " 933.3453,\n",
       " 617.6195,\n",
       " 651.3751,\n",
       " 933.3453,\n",
       " 669.0376,\n",
       " 700.7935,\n",
       " 700.7935,\n",
       " 700.7935,\n",
       " 700.7935,\n",
       " 570.1698,\n",
       " 761.3605,\n",
       " 933.3453,\n",
       " 700.7935,\n",
       " 933.3453,\n",
       " 570.1698,\n",
       " 570.1698,\n",
       " 615.1007,\n",
       " 916.26154,\n",
       " 983.75275,\n",
       " 933.3453,\n",
       " 933.3453,\n",
       " 805.281,\n",
       " 617.6195,\n",
       " 700.7935,\n",
       " 700.7935,\n",
       " 933.3453,\n",
       " 570.1698,\n",
       " 700.7935,\n",
       " 827.71124,\n",
       " 700.7935,\n",
       " 700.7935,\n",
       " 615.1007,\n",
       " 933.3453,\n",
       " 700.4107,\n",
       " 615.1007,\n",
       " 700.7935,\n",
       " 981.79456,\n",
       " 947.46155,\n",
       " 890.3136,\n",
       " 947.46155,\n",
       " 774.876,\n",
       " 968.4503,\n",
       " 860.85876,\n",
       " 807.36017,\n",
       " 900.0895,\n",
       " 981.79456,\n",
       " 947.46155,\n",
       " 860.85876,\n",
       " 742.87415,\n",
       " 860.85876,\n",
       " 734.83685,\n",
       " 987.2089,\n",
       " 860.85876,\n",
       " 947.46155,\n",
       " 881.41785,\n",
       " 882.4652,\n",
       " 774.876,\n",
       " 947.46155,\n",
       " 731.09607,\n",
       " 788.60376,\n",
       " 947.46155,\n",
       " 917.7393,\n",
       " 860.85876,\n",
       " 860.85876,\n",
       " 860.85876,\n",
       " 813.0861,\n",
       " 801.00903,\n",
       " 860.85876,\n",
       " 947.46155,\n",
       " 801.8439,\n",
       " 947.46155,\n",
       " 981.79456,\n",
       " 750.1009,\n",
       " 801.00903,\n",
       " 987.2089,\n",
       " 890.3136,\n",
       " 632.3994,\n",
       " 860.85876,\n",
       " 947.46155,\n",
       " 968.4503,\n",
       " 947.46155,\n",
       " 947.46155,\n",
       " 632.3994,\n",
       " 987.2089,\n",
       " 813.0861,\n",
       " 931.8551,\n",
       " 860.85876,\n",
       " 774.876,\n",
       " 947.46155,\n",
       " 947.46155,\n",
       " 774.876,\n",
       " 881.41785,\n",
       " 860.85876,\n",
       " 860.85876,\n",
       " 947.46155,\n",
       " 807.36017,\n",
       " 801.00903,\n",
       " 947.46155,\n",
       " 776.53,\n",
       " 762.6177,\n",
       " 860.85876,\n",
       " 707.6136,\n",
       " 774.876,\n",
       " 770.6782,\n",
       " 900.0895,\n",
       " 987.2089,\n",
       " 947.46155,\n",
       " 963.5563,\n",
       " 947.46155,\n",
       " 917.7393,\n",
       " 774.876,\n",
       " 947.46155,\n",
       " 981.79456,\n",
       " 580.7757,\n",
       " 591.1151,\n",
       " 580.7757,\n",
       " 591.1151,\n",
       " 591.1151,\n",
       " 591.1151,\n",
       " 591.1151,\n",
       " 591.1151,\n",
       " 591.1151,\n",
       " 591.1151,\n",
       " 591.1151,\n",
       " 538.7155,\n",
       " 591.1151,\n",
       " 591.1151,\n",
       " 538.7155,\n",
       " 634.0532,\n",
       " 591.1151,\n",
       " 591.1151,\n",
       " 580.7757,\n",
       " 591.1151,\n",
       " 591.1151,\n",
       " 541.0607,\n",
       " 585.36945,\n",
       " 591.1151,\n",
       " 719.48047,\n",
       " 591.1151,\n",
       " 541.0607,\n",
       " 591.1151,\n",
       " 591.1151,\n",
       " 591.1151,\n",
       " 591.1151,\n",
       " 591.1151,\n",
       " 591.1151,\n",
       " 591.1151,\n",
       " 591.1151,\n",
       " 591.1151,\n",
       " 591.1151,\n",
       " 541.0607,\n",
       " 591.1151,\n",
       " 591.1151,\n",
       " 591.1151,\n",
       " 591.1151,\n",
       " 591.1151,\n",
       " 591.1151,\n",
       " 591.1151,\n",
       " 538.7155,\n",
       " 591.1151,\n",
       " 538.7155,\n",
       " 541.0607,\n",
       " 591.1151,\n",
       " 591.1151,\n",
       " 591.1151,\n",
       " 583.7303,\n",
       " 591.1151,\n",
       " 591.1151,\n",
       " 541.0607,\n",
       " 591.1151,\n",
       " 634.0532,\n",
       " 591.1151,\n",
       " 591.1151,\n",
       " 591.1151,\n",
       " 591.1151,\n",
       " 591.56055,\n",
       " 715.7646,\n",
       " 634.8373,\n",
       " 718.346,\n",
       " 634.8373,\n",
       " 570.43634,\n",
       " 634.8373,\n",
       " 628.09485,\n",
       " 718.346,\n",
       " 718.346,\n",
       " 795.65826,\n",
       " 691.2714,\n",
       " 634.8373,\n",
       " 795.65826,\n",
       " 634.8373,\n",
       " 634.8373,\n",
       " 634.8373,\n",
       " 634.8373,\n",
       " 718.346,\n",
       " 634.8373,\n",
       " 591.56055,\n",
       " 634.8373,\n",
       " 646.3069,\n",
       " 691.2714,\n",
       " 718.346,\n",
       " 634.8373,\n",
       " 628.09485,\n",
       " 718.346,\n",
       " 634.8373,\n",
       " 634.8373]"
      ]
     },
     "execution_count": 57,
     "metadata": {},
     "output_type": "execute_result"
    }
   ],
   "source": [
    "pred"
   ]
  },
  {
   "cell_type": "code",
   "execution_count": 58,
   "id": "1f5487a9",
   "metadata": {},
   "outputs": [
    {
     "data": {
      "text/html": [
       "<div>\n",
       "<style scoped>\n",
       "    .dataframe tbody tr th:only-of-type {\n",
       "        vertical-align: middle;\n",
       "    }\n",
       "\n",
       "    .dataframe tbody tr th {\n",
       "        vertical-align: top;\n",
       "    }\n",
       "\n",
       "    .dataframe thead th {\n",
       "        text-align: right;\n",
       "    }\n",
       "</style>\n",
       "<table border=\"1\" class=\"dataframe\">\n",
       "  <thead>\n",
       "    <tr style=\"text-align: right;\">\n",
       "      <th></th>\n",
       "      <th>TRIP_ID</th>\n",
       "      <th>TRAVEL_TIME</th>\n",
       "    </tr>\n",
       "  </thead>\n",
       "  <tbody>\n",
       "    <tr>\n",
       "      <th>0</th>\n",
       "      <td>T1</td>\n",
       "      <td>743.873169</td>\n",
       "    </tr>\n",
       "    <tr>\n",
       "      <th>1</th>\n",
       "      <td>T2</td>\n",
       "      <td>653.989258</td>\n",
       "    </tr>\n",
       "    <tr>\n",
       "      <th>2</th>\n",
       "      <td>T3</td>\n",
       "      <td>743.873169</td>\n",
       "    </tr>\n",
       "    <tr>\n",
       "      <th>3</th>\n",
       "      <td>T4</td>\n",
       "      <td>664.115967</td>\n",
       "    </tr>\n",
       "    <tr>\n",
       "      <th>4</th>\n",
       "      <td>T5</td>\n",
       "      <td>677.273926</td>\n",
       "    </tr>\n",
       "    <tr>\n",
       "      <th>...</th>\n",
       "      <td>...</td>\n",
       "      <td>...</td>\n",
       "    </tr>\n",
       "    <tr>\n",
       "      <th>315</th>\n",
       "      <td>T323</td>\n",
       "      <td>634.837280</td>\n",
       "    </tr>\n",
       "    <tr>\n",
       "      <th>316</th>\n",
       "      <td>T324</td>\n",
       "      <td>628.094849</td>\n",
       "    </tr>\n",
       "    <tr>\n",
       "      <th>317</th>\n",
       "      <td>T325</td>\n",
       "      <td>718.346008</td>\n",
       "    </tr>\n",
       "    <tr>\n",
       "      <th>318</th>\n",
       "      <td>T326</td>\n",
       "      <td>634.837280</td>\n",
       "    </tr>\n",
       "    <tr>\n",
       "      <th>319</th>\n",
       "      <td>T327</td>\n",
       "      <td>634.837280</td>\n",
       "    </tr>\n",
       "  </tbody>\n",
       "</table>\n",
       "<p>320 rows × 2 columns</p>\n",
       "</div>"
      ],
      "text/plain": [
       "    TRIP_ID  TRAVEL_TIME\n",
       "0        T1   743.873169\n",
       "1        T2   653.989258\n",
       "2        T3   743.873169\n",
       "3        T4   664.115967\n",
       "4        T5   677.273926\n",
       "..      ...          ...\n",
       "315    T323   634.837280\n",
       "316    T324   628.094849\n",
       "317    T325   718.346008\n",
       "318    T326   634.837280\n",
       "319    T327   634.837280\n",
       "\n",
       "[320 rows x 2 columns]"
      ]
     },
     "execution_count": 58,
     "metadata": {},
     "output_type": "execute_result"
    }
   ],
   "source": [
    "test_df = pd.read_csv('data/test_public.csv')\n",
    "test_data = {'TRIP_ID': test_df['TRIP_ID'],\n",
    "    'TRAVEL_TIME': pred}\n",
    "output = pd.DataFrame(data = test_data)\n",
    "output"
   ]
  },
  {
   "cell_type": "code",
   "execution_count": 60,
   "id": "8ef3c428",
   "metadata": {},
   "outputs": [],
   "source": [
    "output.to_csv('data/nathan_test_june5_3_2.csv', index=False)\n"
   ]
  },
  {
   "cell_type": "code",
   "execution_count": null,
   "id": "5917014e",
   "metadata": {},
   "outputs": [],
   "source": []
  }
 ],
 "metadata": {
  "kernelspec": {
   "display_name": "Python 3 (ipykernel)",
   "language": "python",
   "name": "python3"
  },
  "language_info": {
   "codemirror_mode": {
    "name": "ipython",
    "version": 3
   },
   "file_extension": ".py",
   "mimetype": "text/x-python",
   "name": "python",
   "nbconvert_exporter": "python",
   "pygments_lexer": "ipython3",
   "version": "3.9.5"
  }
 },
 "nbformat": 4,
 "nbformat_minor": 5
}
