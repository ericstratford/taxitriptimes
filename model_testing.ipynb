{
 "cells": [
  {
   "cell_type": "code",
   "execution_count": 1,
   "id": "7924250e",
   "metadata": {},
   "outputs": [
    {
     "data": {
      "text/plain": [
       "<torch._C.Generator at 0x7f8168182950>"
      ]
     },
     "execution_count": 1,
     "metadata": {},
     "output_type": "execute_result"
    }
   ],
   "source": [
    "import torch\n",
    "import torch.nn as nn\n",
    "from torch.utils.data import DataLoader\n",
    "import pandas as pd\n",
    "import numpy as np\n",
    "import sklearn \n",
    "import matplotlib.pyplot as plt\n",
    "import datetime as dt\n",
    "from sklearn.preprocessing import OneHotEncoder\n",
    "import math\n",
    "torch.manual_seed(0)"
   ]
  },
  {
   "cell_type": "code",
   "execution_count": 2,
   "id": "788f46df",
   "metadata": {
    "scrolled": true
   },
   "outputs": [
    {
     "data": {
      "text/plain": [
       "device(type='cuda')"
      ]
     },
     "execution_count": 2,
     "metadata": {},
     "output_type": "execute_result"
    }
   ],
   "source": [
    "device = torch.device(\"cuda\" if torch.cuda.is_available() else \"cpu\")\n",
    "device"
   ]
  },
  {
   "cell_type": "code",
   "execution_count": 3,
   "id": "603bc171",
   "metadata": {},
   "outputs": [
    {
     "data": {
      "text/plain": [
       "True"
      ]
     },
     "execution_count": 3,
     "metadata": {},
     "output_type": "execute_result"
    }
   ],
   "source": [
    "torch.cuda.is_available() "
   ]
  },
  {
   "cell_type": "markdown",
   "id": "83f2a47d",
   "metadata": {},
   "source": [
    "# Dataloader"
   ]
  },
  {
   "cell_type": "code",
   "execution_count": 4,
   "id": "ba36ffad",
   "metadata": {},
   "outputs": [],
   "source": [
    "import torch\n",
    "from torch.utils.data import Dataset, DataLoader, random_split\n",
    "\n",
    "# Custom Dataset class\n",
    "class MyDataset(Dataset):\n",
    "    def __init__(self, data):\n",
    "        self.data = data.float()\n",
    "\n",
    "    def __getitem__(self, index):\n",
    "        return self.data[index].float()\n",
    "\n",
    "    def __len__(self):\n",
    "        return len(self.data)"
   ]
  },
  {
   "cell_type": "code",
   "execution_count": 5,
   "id": "86060645",
   "metadata": {},
   "outputs": [],
   "source": [
    "def train_epoch(train_loader, model, optimizer, loss_function):\n",
    "    losses = []\n",
    "    # get a batch of training data from the train_loader (DataLoader obj)\n",
    "    for i, data in enumerate(train_loader):\n",
    "        x = data[:,:-1].to(device)\n",
    "        t = data[:,-1].unsqueeze(1).to(device)\n",
    "        # make predictions for this batch\n",
    "        y = model(x)\n",
    "        # Compute the loss\n",
    "        loss = loss_function(y, t)\n",
    "        # zero out the gradients so that it will not accumulate through each iteration\n",
    "        optimizer.zero_grad()\n",
    "        # Compute the gradents with the backward call (backprop)\n",
    "        loss.backward()\n",
    "        # Update weight using gradient descent \n",
    "        optimizer.step()\n",
    "        losses.append(loss.item())\n",
    "    return np.mean(losses)\n",
    "\n",
    "def eval_epoch(valid_loader, model, loss_function):\n",
    "    rmses = []\n",
    "    with torch.no_grad(): \n",
    "        for i, data in enumerate(valid_loader):\n",
    "            x = data[:,:-1].to(device)\n",
    "            t = data[:,-1].unsqueeze(1).to(device)\n",
    "            # Compute prediction\n",
    "            y = model(x)\n",
    "            \n",
    "            rmse = math.sqrt(loss_function(y,t))\n",
    "            rmses.append(rmse)\n",
    "            \n",
    "    return np.mean(rmses)"
   ]
  },
  {
   "cell_type": "markdown",
   "id": "36acf538",
   "metadata": {},
   "source": [
    "# Define Model Architectures"
   ]
  },
  {
   "cell_type": "code",
   "execution_count": 6,
   "id": "3d82f0e3",
   "metadata": {},
   "outputs": [],
   "source": [
    "# Define the neural network architecture\n",
    "class Net(nn.Module):\n",
    "    def __init__(self):\n",
    "        super(Net, self).__init__()\n",
    "        self.selu = nn.ReLU()\n",
    "        self.dropout = nn.Dropout(p=0.5)\n",
    "        self.fc1 = nn.Linear(104, 64)\n",
    "        # self.fc2 = nn.Linear(48, 24)\n",
    "        self.fc3 = nn.Linear(64, 32)\n",
    "        self.fc4 = nn.Linear(32,16)\n",
    "        self.fc5 = nn.Linear(16, 1)\n",
    "\n",
    "    def forward(self, x):\n",
    "        x = self.selu(self.fc1(x))\n",
    "        x = self.dropout(x)\n",
    "        # x = self.dropout(self.relu(self.fc2(x)))\n",
    "        x = self.selu(self.fc3(x))\n",
    "        x = self.dropout(x)\n",
    "        x = self.selu(self.fc4(x))\n",
    "        x = self.dropout(x)\n",
    "        x = self.fc5(x)\n",
    "        return x\n",
    "\n",
    "# Create an instance of the neural network\n",
    "model = Net()\n",
    "model = model.to(device)\n",
    "criterion = nn.MSELoss()"
   ]
  },
  {
   "cell_type": "markdown",
   "id": "3748c396",
   "metadata": {},
   "source": [
    "# Load in Data"
   ]
  },
  {
   "cell_type": "code",
   "execution_count": 7,
   "id": "32a993bd",
   "metadata": {},
   "outputs": [
    {
     "data": {
      "text/plain": [
       "(1710670, 105)"
      ]
     },
     "execution_count": 7,
     "metadata": {},
     "output_type": "execute_result"
    }
   ],
   "source": [
    "df_np = np.load('data/processed_train_set.npy')\n",
    "df_np.shape"
   ]
  },
  {
   "cell_type": "code",
   "execution_count": 8,
   "id": "d723ae38",
   "metadata": {},
   "outputs": [],
   "source": [
    "# load in np array and DRAW SAMPLE\n",
    "num_samples = int(df_np.shape[0]*1)\n",
    "\n",
    "num_rows = df_np.shape[0]\n",
    "sampled_indices = np.random.choice(num_rows, size=num_samples, replace=False)"
   ]
  },
  {
   "cell_type": "code",
   "execution_count": 9,
   "id": "3e99b28f",
   "metadata": {},
   "outputs": [],
   "source": [
    "# convert np to tensor\n",
    "df = torch.tensor(df_np[sampled_indices])"
   ]
  },
  {
   "cell_type": "code",
   "execution_count": 10,
   "id": "222cd055",
   "metadata": {},
   "outputs": [
    {
     "data": {
      "text/plain": [
       "torch.Size([1710670, 105])"
      ]
     },
     "execution_count": 10,
     "metadata": {},
     "output_type": "execute_result"
    }
   ],
   "source": [
    "df.shape"
   ]
  },
  {
   "cell_type": "code",
   "execution_count": 11,
   "id": "00fe0bfa",
   "metadata": {},
   "outputs": [],
   "source": [
    "# Create a sample dataset\n",
    "dataset = MyDataset(df)\n",
    "\n",
    "# Define the sizes of train, validation, and test sets\n",
    "train_size = int(0.8 * len(dataset))\n",
    "val_size = len(dataset)-train_size"
   ]
  },
  {
   "cell_type": "code",
   "execution_count": 12,
   "id": "29def452",
   "metadata": {},
   "outputs": [],
   "source": [
    "# Split the dataset\n",
    "batch_size = 256\n",
    "train_data, val_data = random_split(dataset, [train_size, val_size])\n",
    "\n",
    "# Create DataLoader objects for train, validation, and test sets\n",
    "train_loader = DataLoader(train_data, batch_size=batch_size, shuffle=True)\n",
    "valid_loader = DataLoader(val_data, batch_size=batch_size)\n",
    "# test_loader = DataLoader(test_data, batch_size=32)"
   ]
  },
  {
   "cell_type": "markdown",
   "id": "abddd2a5",
   "metadata": {},
   "source": [
    "# Train Model"
   ]
  },
  {
   "cell_type": "code",
   "execution_count": 13,
   "id": "80db77b4",
   "metadata": {},
   "outputs": [],
   "source": [
    "def train_model(model, model_name, epochs, lr, batch_size):\n",
    "    # Define the optimizer\n",
    "    train_rmses = []\n",
    "    valid_rmses = []\n",
    "    optimizer = torch.optim.Adam(model.parameters(), lr)\n",
    "#     optimizer = torch.optim.Adam(model.parameters())\n",
    "    train_accs, valid_accs = [], []\n",
    "    for epoch in range(epochs):\n",
    "\n",
    "        model.train() # gradient tracking is on\n",
    "\n",
    "        train_loss = train_epoch(train_loader, model, optimizer, criterion)\n",
    "\n",
    "        model.eval() # we don't need gradients on to do reporting\n",
    "\n",
    "        train_rmse = eval_epoch(train_loader, model, criterion)\n",
    "        valid_rmse = eval_epoch(valid_loader, model, criterion)\n",
    "        \n",
    "#         train_rmses.append(train_rmse)\n",
    "#         valid_rmses.append(valid_rmse)\n",
    "\n",
    "        print(f\"Epoch: {epoch+1}, Train Loss: {train_loss:>0.4f}, Train mse: {train_rmse:>0.2f},\\\n",
    "              Validation Accuracy: {valid_rmse:>0.2f} \\n\")\n",
    "    torch.save(model.state_dict(), './{}'.format(model_name))\n"
   ]
  },
  {
   "cell_type": "code",
   "execution_count": 14,
   "id": "b3a98e87",
   "metadata": {},
   "outputs": [
    {
     "name": "stdout",
     "output_type": "stream",
     "text": [
      "Epoch: 1, Train Loss: 526412.2720, Train mse: 625.81,              Validation Accuracy: 624.48 \n",
      "\n",
      "Epoch: 2, Train Loss: 511947.3422, Train mse: 623.75,              Validation Accuracy: 622.15 \n",
      "\n",
      "Epoch: 3, Train Loss: 508520.5465, Train mse: 623.22,              Validation Accuracy: 622.86 \n",
      "\n",
      "Epoch: 4, Train Loss: 503477.8185, Train mse: 620.97,              Validation Accuracy: 620.28 \n",
      "\n",
      "Epoch: 5, Train Loss: 499021.0595, Train mse: 619.80,              Validation Accuracy: 618.66 \n",
      "\n",
      "Epoch: 6, Train Loss: 496479.9544, Train mse: 619.91,              Validation Accuracy: 619.21 \n",
      "\n",
      "Epoch: 7, Train Loss: 493808.2192, Train mse: 618.93,              Validation Accuracy: 617.92 \n",
      "\n",
      "Epoch: 8, Train Loss: 491088.7089, Train mse: 619.56,              Validation Accuracy: 619.30 \n",
      "\n",
      "Epoch: 9, Train Loss: 489625.2760, Train mse: 618.31,              Validation Accuracy: 617.87 \n",
      "\n",
      "Epoch: 10, Train Loss: 487941.9507, Train mse: 619.15,              Validation Accuracy: 617.90 \n",
      "\n",
      "Epoch: 11, Train Loss: 487187.2363, Train mse: 617.13,              Validation Accuracy: 616.41 \n",
      "\n",
      "Epoch: 12, Train Loss: 486170.6213, Train mse: 619.57,              Validation Accuracy: 618.83 \n",
      "\n",
      "Epoch: 13, Train Loss: 486044.8438, Train mse: 618.05,              Validation Accuracy: 617.56 \n",
      "\n",
      "Epoch: 14, Train Loss: 485285.6957, Train mse: 617.46,              Validation Accuracy: 616.48 \n",
      "\n",
      "Epoch: 15, Train Loss: 484870.7362, Train mse: 617.52,              Validation Accuracy: 617.07 \n",
      "\n",
      "Epoch: 16, Train Loss: 484735.6995, Train mse: 616.64,              Validation Accuracy: 616.25 \n",
      "\n",
      "Epoch: 17, Train Loss: 483801.7128, Train mse: 617.42,              Validation Accuracy: 616.55 \n",
      "\n",
      "Epoch: 18, Train Loss: 483119.4716, Train mse: 617.50,              Validation Accuracy: 617.07 \n",
      "\n",
      "Epoch: 19, Train Loss: 483196.1675, Train mse: 617.50,              Validation Accuracy: 616.71 \n",
      "\n",
      "Epoch: 20, Train Loss: 482657.8698, Train mse: 617.33,              Validation Accuracy: 616.53 \n",
      "\n",
      "CPU times: user 8min 32s, sys: 14.9 s, total: 8min 47s\n",
      "Wall time: 8min 3s\n"
     ]
    }
   ],
   "source": [
    "%%time\n",
    "train_model(model = model, model_name = 'main_model', \\\n",
    "epochs = 20, lr=0.001, batch_size = batch_size)"
   ]
  },
  {
   "cell_type": "code",
   "execution_count": 15,
   "id": "3d3a4818",
   "metadata": {},
   "outputs": [],
   "source": [
    "# saved_model = Net()\n",
    "# saved_model.load_state_dict(torch.load('./cse151B_project'))\n",
    "# saved_model"
   ]
  },
  {
   "cell_type": "markdown",
   "id": "cd8f4d3f",
   "metadata": {},
   "source": [
    "# Test Model"
   ]
  },
  {
   "cell_type": "code",
   "execution_count": 15,
   "id": "db24327d",
   "metadata": {},
   "outputs": [
    {
     "data": {
      "text/plain": [
       "(320, 104)"
      ]
     },
     "execution_count": 15,
     "metadata": {},
     "output_type": "execute_result"
    }
   ],
   "source": [
    "df_np_test = np.load('data/processed_test_set.npy')\n",
    "df_np_test.shape"
   ]
  },
  {
   "cell_type": "code",
   "execution_count": 16,
   "id": "e8e12a0c",
   "metadata": {
    "scrolled": true
   },
   "outputs": [
    {
     "data": {
      "text/plain": [
       "torch.Size([320, 104])"
      ]
     },
     "execution_count": 16,
     "metadata": {},
     "output_type": "execute_result"
    }
   ],
   "source": [
    "test_tensor = torch.tensor(df_np_test).to(device)\n",
    "test_tensor.shape"
   ]
  },
  {
   "cell_type": "code",
   "execution_count": 17,
   "id": "fbdd529c",
   "metadata": {},
   "outputs": [
    {
     "data": {
      "text/plain": [
       "Net(\n",
       "  (selu): ReLU()\n",
       "  (dropout): Dropout(p=0.5, inplace=False)\n",
       "  (fc1): Linear(in_features=104, out_features=64, bias=True)\n",
       "  (fc3): Linear(in_features=64, out_features=32, bias=True)\n",
       "  (fc4): Linear(in_features=32, out_features=16, bias=True)\n",
       "  (fc5): Linear(in_features=16, out_features=1, bias=True)\n",
       ")"
      ]
     },
     "execution_count": 17,
     "metadata": {},
     "output_type": "execute_result"
    }
   ],
   "source": [
    "model = model.float()\n",
    "model"
   ]
  },
  {
   "cell_type": "code",
   "execution_count": 18,
   "id": "f706fa7f",
   "metadata": {},
   "outputs": [],
   "source": [
    "pred = []\n",
    "with torch.no_grad(): \n",
    "    for i in range(test_tensor.shape[0]):\n",
    "        x = test_tensor[i].float().to(device)\n",
    "        y = model(x)\n",
    "        pred.append(y.cpu().numpy()[0])         "
   ]
  },
  {
   "cell_type": "code",
   "execution_count": 19,
   "id": "bd8d3bab",
   "metadata": {},
   "outputs": [
    {
     "data": {
      "text/plain": [
       "[754.574,\n",
       " 676.2228,\n",
       " 754.574,\n",
       " 669.6948,\n",
       " 696.5055,\n",
       " 695.2477,\n",
       " 754.574,\n",
       " 695.2477,\n",
       " 739.2016,\n",
       " 754.574,\n",
       " 613.3611,\n",
       " 786.6452,\n",
       " 786.6452,\n",
       " 786.6452,\n",
       " 786.6452,\n",
       " 786.6452,\n",
       " 786.6452,\n",
       " 786.6452,\n",
       " 754.574,\n",
       " 786.6452,\n",
       " 754.574,\n",
       " 695.2477,\n",
       " 769.6172,\n",
       " 754.574,\n",
       " 630.18616,\n",
       " 638.19617,\n",
       " 754.574,\n",
       " 754.574,\n",
       " 639.3683,\n",
       " 754.574,\n",
       " 754.574,\n",
       " 676.2228,\n",
       " 786.6452,\n",
       " 786.6452,\n",
       " 786.6452,\n",
       " 786.6452,\n",
       " 792.55304,\n",
       " 608.1158,\n",
       " 754.574,\n",
       " 657.70703,\n",
       " 644.154,\n",
       " 786.6452,\n",
       " 786.6452,\n",
       " 739.2016,\n",
       " 638.19617,\n",
       " 634.75714,\n",
       " 786.6452,\n",
       " 786.6452,\n",
       " 559.09174,\n",
       " 613.3611,\n",
       " 604.95844,\n",
       " 634.0281,\n",
       " 608.1158,\n",
       " 754.574,\n",
       " 754.574,\n",
       " 620.349,\n",
       " 739.2016,\n",
       " 626.8517,\n",
       " 786.6452,\n",
       " 695.2477,\n",
       " 754.574,\n",
       " 786.6452,\n",
       " 786.6452,\n",
       " 792.55304,\n",
       " 739.2016,\n",
       " 739.2016,\n",
       " 754.574,\n",
       " 695.2477,\n",
       " 786.6452,\n",
       " 604.95844,\n",
       " 781.88385,\n",
       " 786.6452,\n",
       " 754.574,\n",
       " 786.6452,\n",
       " 606.4421,\n",
       " 925.8481,\n",
       " 615.4166,\n",
       " 925.8481,\n",
       " 925.8481,\n",
       " 925.8481,\n",
       " 692.501,\n",
       " 606.4421,\n",
       " 692.501,\n",
       " 692.501,\n",
       " 637.2751,\n",
       " 692.501,\n",
       " 925.8481,\n",
       " 925.8481,\n",
       " 606.4421,\n",
       " 692.501,\n",
       " 792.74365,\n",
       " 925.8481,\n",
       " 925.8481,\n",
       " 792.74365,\n",
       " 604.1838,\n",
       " 906.24603,\n",
       " 692.501,\n",
       " 692.501,\n",
       " 692.501,\n",
       " 925.8481,\n",
       " 637.2751,\n",
       " 726.9224,\n",
       " 925.8481,\n",
       " 576.6978,\n",
       " 576.6978,\n",
       " 692.501,\n",
       " 699.536,\n",
       " 606.4421,\n",
       " 726.9224,\n",
       " 792.74365,\n",
       " 692.501,\n",
       " 792.74365,\n",
       " 601.81006,\n",
       " 719.59094,\n",
       " 692.501,\n",
       " 925.8481,\n",
       " 613.4249,\n",
       " 653.9647,\n",
       " 925.8481,\n",
       " 662.38904,\n",
       " 692.501,\n",
       " 692.501,\n",
       " 692.501,\n",
       " 692.501,\n",
       " 576.6978,\n",
       " 755.6477,\n",
       " 925.8481,\n",
       " 692.501,\n",
       " 925.8481,\n",
       " 576.6978,\n",
       " 576.6978,\n",
       " 606.4421,\n",
       " 906.24603,\n",
       " 934.4328,\n",
       " 925.8481,\n",
       " 925.8481,\n",
       " 806.69293,\n",
       " 613.4249,\n",
       " 692.501,\n",
       " 692.501,\n",
       " 925.8481,\n",
       " 576.6978,\n",
       " 692.501,\n",
       " 819.6293,\n",
       " 692.501,\n",
       " 692.501,\n",
       " 606.4421,\n",
       " 925.8481,\n",
       " 726.9224,\n",
       " 606.4421,\n",
       " 692.501,\n",
       " 936.93854,\n",
       " 907.3884,\n",
       " 868.3317,\n",
       " 907.3884,\n",
       " 763.0516,\n",
       " 950.7215,\n",
       " 834.4192,\n",
       " 807.65765,\n",
       " 892.32544,\n",
       " 936.93854,\n",
       " 907.3884,\n",
       " 834.4192,\n",
       " 739.2684,\n",
       " 834.4192,\n",
       " 725.7443,\n",
       " 922.72253,\n",
       " 834.4192,\n",
       " 907.3884,\n",
       " 866.40295,\n",
       " 846.33496,\n",
       " 763.0516,\n",
       " 907.3884,\n",
       " 714.16437,\n",
       " 783.2823,\n",
       " 907.3884,\n",
       " 863.6712,\n",
       " 834.4192,\n",
       " 834.4192,\n",
       " 834.4192,\n",
       " 803.6622,\n",
       " 749.10504,\n",
       " 834.4192,\n",
       " 907.3884,\n",
       " 758.17737,\n",
       " 907.3884,\n",
       " 936.93854,\n",
       " 737.0663,\n",
       " 749.10504,\n",
       " 922.72253,\n",
       " 868.3317,\n",
       " 604.93207,\n",
       " 834.4192,\n",
       " 907.3884,\n",
       " 950.7215,\n",
       " 907.3884,\n",
       " 907.3884,\n",
       " 604.93207,\n",
       " 922.72253,\n",
       " 803.6622,\n",
       " 917.6353,\n",
       " 834.4192,\n",
       " 763.0516,\n",
       " 907.3884,\n",
       " 907.3884,\n",
       " 763.0516,\n",
       " 866.40295,\n",
       " 834.4192,\n",
       " 834.4192,\n",
       " 907.3884,\n",
       " 807.65765,\n",
       " 749.10504,\n",
       " 907.3884,\n",
       " 761.45953,\n",
       " 742.6014,\n",
       " 834.4192,\n",
       " 680.01636,\n",
       " 763.0516,\n",
       " 779.37714,\n",
       " 892.32544,\n",
       " 922.72253,\n",
       " 907.3884,\n",
       " 919.457,\n",
       " 907.3884,\n",
       " 863.6712,\n",
       " 763.0516,\n",
       " 907.3884,\n",
       " 936.93854,\n",
       " 623.6334,\n",
       " 580.6334,\n",
       " 623.6334,\n",
       " 580.6334,\n",
       " 580.6334,\n",
       " 580.6334,\n",
       " 580.6334,\n",
       " 580.6334,\n",
       " 580.6334,\n",
       " 580.6334,\n",
       " 580.6334,\n",
       " 548.702,\n",
       " 580.6334,\n",
       " 580.6334,\n",
       " 548.702,\n",
       " 626.23846,\n",
       " 580.6334,\n",
       " 580.6334,\n",
       " 623.6334,\n",
       " 580.6334,\n",
       " 580.6334,\n",
       " 548.702,\n",
       " 601.304,\n",
       " 580.6334,\n",
       " 707.36017,\n",
       " 580.6334,\n",
       " 548.702,\n",
       " 580.6334,\n",
       " 580.6334,\n",
       " 580.6334,\n",
       " 580.6334,\n",
       " 580.6334,\n",
       " 580.6334,\n",
       " 580.6334,\n",
       " 580.6334,\n",
       " 580.6334,\n",
       " 580.6334,\n",
       " 548.702,\n",
       " 580.6334,\n",
       " 580.6334,\n",
       " 580.6334,\n",
       " 580.6334,\n",
       " 580.6334,\n",
       " 580.6334,\n",
       " 580.6334,\n",
       " 548.702,\n",
       " 580.6334,\n",
       " 548.702,\n",
       " 548.702,\n",
       " 580.6334,\n",
       " 580.6334,\n",
       " 580.6334,\n",
       " 575.67926,\n",
       " 580.6334,\n",
       " 580.6334,\n",
       " 548.702,\n",
       " 580.6334,\n",
       " 626.23846,\n",
       " 580.6334,\n",
       " 580.6334,\n",
       " 580.6334,\n",
       " 580.6334,\n",
       " 595.08264,\n",
       " 715.8833,\n",
       " 624.82166,\n",
       " 711.1292,\n",
       " 624.82166,\n",
       " 582.88837,\n",
       " 624.82166,\n",
       " 638.426,\n",
       " 711.1292,\n",
       " 711.1292,\n",
       " 764.6243,\n",
       " 682.1678,\n",
       " 624.82166,\n",
       " 764.6243,\n",
       " 624.82166,\n",
       " 624.82166,\n",
       " 624.82166,\n",
       " 624.82166,\n",
       " 711.1292,\n",
       " 624.82166,\n",
       " 595.08264,\n",
       " 624.82166,\n",
       " 637.01807,\n",
       " 682.1678,\n",
       " 711.1292,\n",
       " 624.82166,\n",
       " 638.426,\n",
       " 711.1292,\n",
       " 624.82166,\n",
       " 624.82166]"
      ]
     },
     "execution_count": 19,
     "metadata": {},
     "output_type": "execute_result"
    }
   ],
   "source": [
    "pred"
   ]
  },
  {
   "cell_type": "code",
   "execution_count": 20,
   "id": "1f5487a9",
   "metadata": {},
   "outputs": [
    {
     "data": {
      "text/html": [
       "<div>\n",
       "<style scoped>\n",
       "    .dataframe tbody tr th:only-of-type {\n",
       "        vertical-align: middle;\n",
       "    }\n",
       "\n",
       "    .dataframe tbody tr th {\n",
       "        vertical-align: top;\n",
       "    }\n",
       "\n",
       "    .dataframe thead th {\n",
       "        text-align: right;\n",
       "    }\n",
       "</style>\n",
       "<table border=\"1\" class=\"dataframe\">\n",
       "  <thead>\n",
       "    <tr style=\"text-align: right;\">\n",
       "      <th></th>\n",
       "      <th>TRIP_ID</th>\n",
       "      <th>TRAVEL_TIME</th>\n",
       "    </tr>\n",
       "  </thead>\n",
       "  <tbody>\n",
       "    <tr>\n",
       "      <th>0</th>\n",
       "      <td>T1</td>\n",
       "      <td>754.573975</td>\n",
       "    </tr>\n",
       "    <tr>\n",
       "      <th>1</th>\n",
       "      <td>T2</td>\n",
       "      <td>676.222778</td>\n",
       "    </tr>\n",
       "    <tr>\n",
       "      <th>2</th>\n",
       "      <td>T3</td>\n",
       "      <td>754.573975</td>\n",
       "    </tr>\n",
       "    <tr>\n",
       "      <th>3</th>\n",
       "      <td>T4</td>\n",
       "      <td>669.694824</td>\n",
       "    </tr>\n",
       "    <tr>\n",
       "      <th>4</th>\n",
       "      <td>T5</td>\n",
       "      <td>696.505493</td>\n",
       "    </tr>\n",
       "    <tr>\n",
       "      <th>...</th>\n",
       "      <td>...</td>\n",
       "      <td>...</td>\n",
       "    </tr>\n",
       "    <tr>\n",
       "      <th>315</th>\n",
       "      <td>T323</td>\n",
       "      <td>624.821655</td>\n",
       "    </tr>\n",
       "    <tr>\n",
       "      <th>316</th>\n",
       "      <td>T324</td>\n",
       "      <td>638.426025</td>\n",
       "    </tr>\n",
       "    <tr>\n",
       "      <th>317</th>\n",
       "      <td>T325</td>\n",
       "      <td>711.129211</td>\n",
       "    </tr>\n",
       "    <tr>\n",
       "      <th>318</th>\n",
       "      <td>T326</td>\n",
       "      <td>624.821655</td>\n",
       "    </tr>\n",
       "    <tr>\n",
       "      <th>319</th>\n",
       "      <td>T327</td>\n",
       "      <td>624.821655</td>\n",
       "    </tr>\n",
       "  </tbody>\n",
       "</table>\n",
       "<p>320 rows × 2 columns</p>\n",
       "</div>"
      ],
      "text/plain": [
       "    TRIP_ID  TRAVEL_TIME\n",
       "0        T1   754.573975\n",
       "1        T2   676.222778\n",
       "2        T3   754.573975\n",
       "3        T4   669.694824\n",
       "4        T5   696.505493\n",
       "..      ...          ...\n",
       "315    T323   624.821655\n",
       "316    T324   638.426025\n",
       "317    T325   711.129211\n",
       "318    T326   624.821655\n",
       "319    T327   624.821655\n",
       "\n",
       "[320 rows x 2 columns]"
      ]
     },
     "execution_count": 20,
     "metadata": {},
     "output_type": "execute_result"
    }
   ],
   "source": [
    "test_df = pd.read_csv('data/test_public.csv')\n",
    "test_data = {'TRIP_ID': test_df['TRIP_ID'],\n",
    "    'TRAVEL_TIME': pred}\n",
    "output = pd.DataFrame(data = test_data)\n",
    "output"
   ]
  },
  {
   "cell_type": "code",
   "execution_count": 57,
   "id": "8ef3c428",
   "metadata": {},
   "outputs": [],
   "source": [
    "output.to_csv('data/nathan_test_june7.csv', index=False)\n"
   ]
  },
  {
   "cell_type": "code",
   "execution_count": 56,
   "id": "5917014e",
   "metadata": {},
   "outputs": [],
   "source": [
    "torch.save(model.state_dict(), \"data/model_weights.pt\")"
   ]
  },
  {
   "cell_type": "code",
   "execution_count": null,
   "id": "3a1ca945",
   "metadata": {},
   "outputs": [],
   "source": []
  }
 ],
 "metadata": {
  "kernelspec": {
   "display_name": "Python 3 (ipykernel)",
   "language": "python",
   "name": "python3"
  },
  "language_info": {
   "codemirror_mode": {
    "name": "ipython",
    "version": 3
   },
   "file_extension": ".py",
   "mimetype": "text/x-python",
   "name": "python",
   "nbconvert_exporter": "python",
   "pygments_lexer": "ipython3",
   "version": "3.9.5"
  }
 },
 "nbformat": 4,
 "nbformat_minor": 5
}
