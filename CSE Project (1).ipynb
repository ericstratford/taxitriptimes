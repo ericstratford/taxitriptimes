{
 "cells": [
  {
   "cell_type": "code",
   "execution_count": 2,
   "id": "6a11a286",
   "metadata": {},
   "outputs": [
    {
     "data": {
      "text/plain": [
       "'\\nCSE 151B Project Notebook\\n'"
      ]
     },
     "execution_count": 2,
     "metadata": {},
     "output_type": "execute_result"
    }
   ],
   "source": [
    "\"\"\"\n",
    "CSE 151B Project Notebook\n",
    "\"\"\""
   ]
  },
  {
   "cell_type": "code",
   "execution_count": 3,
   "id": "b4fdf9c7",
   "metadata": {},
   "outputs": [],
   "source": [
    "%matplotlib inline\n",
    "import pandas as pd\n",
    "import numpy as np\n",
    "import re\n",
    "\n",
    "import matplotlib.pyplot as plt\n",
    "\n",
    "import torch\n",
    "import torchvision\n",
    "import torchvision.transforms as transforms\n",
    "import torchvision.utils\n",
    "from torchvision import datasets\n",
    "from torchvision.transforms import ToTensor \n",
    "\n",
    "import os\n",
    "os.environ['KMP_DUPLICATE_LIB_OK']='True'\n",
    "\n",
    "from sklearn.model_selection import train_test_split\n",
    "from sklearn.preprocessing import StandardScaler\n",
    "from sklearn.preprocessing import MinMaxScaler\n",
    "from sklearn.compose import ColumnTransformer\n",
    "from sklearn.preprocessing import OneHotEncoder\n",
    "from sklearn.neural_network import MLPRegressor\n",
    "from sklearn.metrics import mean_squared_error\n",
    "\n",
    "import time"
   ]
  },
  {
   "cell_type": "code",
   "execution_count": 4,
   "id": "bdb0e293",
   "metadata": {},
   "outputs": [],
   "source": [
    "def distance(p1, p2):\n",
    "    if isinstance(p1[0], str):\n",
    "        return np.sqrt((float(p2[0])-float(p1[0]))**2+(float(p2[1])-float(p1[1])**2))\n",
    "    else:\n",
    "        return np.sqrt((p2[0]-p1[0])**2+(p2[1]-p1[1])**2)\n",
    "\n",
    "def normalize_data(data):\n",
    "    scaler = MinMaxScaler()\n",
    "    normalized_data = scaler.fit_transform(data)\n",
    "    return normalized_data\n",
    "\n",
    "def convert_string_to_list(string):\n",
    "    return eval(string)"
   ]
  },
  {
   "cell_type": "code",
   "execution_count": 16,
   "id": "6fadc0b3",
   "metadata": {},
   "outputs": [],
   "source": [
    "ogdata = pd.read_csv(\"train.csv\")\n",
    "ogdata.head(1);"
   ]
  },
  {
   "cell_type": "code",
   "execution_count": 42,
   "id": "061f284f",
   "metadata": {},
   "outputs": [],
   "source": [
    "# data[\"Count\"] = data['POLYLINE'].apply(len)\n",
    "data = ogdata.copy()\n",
    "odata = data.copy()\n",
    "data = data[data['MISSING_DATA']==False]\n",
    "data[\"Count\"] = data['POLYLINE'].apply(lambda x: max(x.count(\"[\") - 1, 0))\n",
    "data[\"Travel Time (s)\"] = data['Count']*15\n",
    "data[\"Travel Time (m)\"] = data['Travel Time (s)']/60\n",
    "data['Time'] = pd.to_datetime(data['TIMESTAMP'], unit='s')\n",
    "data['Year'] = data['Time'].dt.year\n",
    "data['Month'] = data['Time'].dt.month\n",
    "data['Day of Month'] = data['Time'].dt.day\n",
    "data['Day of Week'] = data['Time'].dt.day_name()\n",
    "data['Hour'] = data['Time'].dt.hour"
   ]
  },
  {
   "cell_type": "code",
   "execution_count": 43,
   "id": "dd4ed942",
   "metadata": {},
   "outputs": [],
   "source": [
    "features = data[['CALL_TYPE', 'ORIGIN_STAND', 'TAXI_ID', 'DAY_TYPE', 'Year', 'Month', 'Day of Month', 'Day of Week', 'Hour']]\n",
    "target = data['Travel Time (s)']\n",
    "test_size = 0.2\n",
    "seed = 69\n",
    "x_train, x_test, y_train, y_test = train_test_split(features, target, test_size=test_size, random_state=seed)"
   ]
  },
  {
   "cell_type": "code",
   "execution_count": 44,
   "id": "70678702",
   "metadata": {
    "scrolled": true
   },
   "outputs": [],
   "source": [
    "# Transform and preprocess\n",
    "\n",
    "cat_features = ['Hour', 'Day of Week', 'Month', 'TAXI_ID', 'Day of Month', 'Year', 'CALL_TYPE']\n",
    "\n",
    "# Preprocess with one-hot-encoding\n",
    "preprocessor = ColumnTransformer(\n",
    "    transformers=[\n",
    "        ('cat', OneHotEncoder(), cat_features)\n",
    "    ])\n",
    "\n",
    "x_train = preprocessor.fit_transform(x_train)\n",
    "\n",
    "# Transform the test data\n",
    "x_test = preprocessor.transform(x_test)"
   ]
  },
  {
   "cell_type": "code",
   "execution_count": 57,
   "id": "b3b3ccd0",
   "metadata": {
    "scrolled": false
   },
   "outputs": [
    {
     "name": "stderr",
     "output_type": "stream",
     "text": [
      "/opt/conda/lib/python3.9/site-packages/sklearn/neural_network/_multilayer_perceptron.py:614: ConvergenceWarning: Stochastic Optimizer: Maximum iterations (10) reached and the optimization hasn't converged yet.\n",
      "  warnings.warn(\n"
     ]
    },
    {
     "name": "stdout",
     "output_type": "stream",
     "text": [
      "RMSE: 1008.575803381701\n",
      "Training Time: 137.22490811347961\n"
     ]
    }
   ],
   "source": [
    "# Create and train the MLP model\n",
    "mlp = MLPRegressor(hidden_layer_sizes=(5, 5)\n",
    "                    , activation='relu'\n",
    "                    , solver='adam'\n",
    "                    , random_state=42\n",
    "                    , max_iter=10\n",
    "                    , batch_size=128\n",
    "                    , learning_rate='constant'\n",
    "                    , learning_rate_init=0.000001\n",
    "                    , momentum=0.9\n",
    "                  )\n",
    "\n",
    "# Start time\n",
    "start_time = time.time()\n",
    "\n",
    "mlp.fit(x_train, y_train)\n",
    "\n",
    "# Make predictions\n",
    "y_pred = mlp.predict(x_test)\n",
    "\n",
    "# Calculate the root mean squared error\n",
    "rmse = np.sqrt(mean_squared_error(y_test, y_pred))\n",
    "print(\"RMSE:\", rmse)\n",
    "    \n",
    "# Get Total Training Time\n",
    "training_time = time.time() - start_time\n",
    "print(\"Training Time:\", training_time)"
   ]
  },
  {
   "cell_type": "code",
   "execution_count": 58,
   "id": "a27b1876",
   "metadata": {},
   "outputs": [],
   "source": [
    "lossn6 = mlp.loss_curve_"
   ]
  },
  {
   "cell_type": "code",
   "execution_count": 56,
   "id": "8615b172",
   "metadata": {},
   "outputs": [],
   "source": [
    "lossn5 = mlp.loss_curve_"
   ]
  },
  {
   "cell_type": "code",
   "execution_count": 54,
   "id": "2d476d6c",
   "metadata": {},
   "outputs": [],
   "source": [
    "lossn4 = mlp.loss_curve_"
   ]
  },
  {
   "cell_type": "code",
   "execution_count": 52,
   "id": "23e65d23",
   "metadata": {},
   "outputs": [],
   "source": [
    "lossn3 = mlp.loss_curve_"
   ]
  },
  {
   "cell_type": "code",
   "execution_count": 64,
   "id": "f0cddea5",
   "metadata": {},
   "outputs": [
    {
     "data": {
      "text/html": [
       "<div>\n",
       "<style scoped>\n",
       "    .dataframe tbody tr th:only-of-type {\n",
       "        vertical-align: middle;\n",
       "    }\n",
       "\n",
       "    .dataframe tbody tr th {\n",
       "        vertical-align: top;\n",
       "    }\n",
       "\n",
       "    .dataframe thead th {\n",
       "        text-align: right;\n",
       "    }\n",
       "</style>\n",
       "<table border=\"1\" class=\"dataframe\">\n",
       "  <thead>\n",
       "    <tr style=\"text-align: right;\">\n",
       "      <th></th>\n",
       "      <th>Epoch</th>\n",
       "      <th>10E-3</th>\n",
       "      <th>10E-4</th>\n",
       "      <th>10E-5</th>\n",
       "      <th>10E-6</th>\n",
       "    </tr>\n",
       "  </thead>\n",
       "  <tbody>\n",
       "    <tr>\n",
       "      <th>0</th>\n",
       "      <td>1</td>\n",
       "      <td>503.512959</td>\n",
       "      <td>691.273270</td>\n",
       "      <td>707.212133</td>\n",
       "      <td>707.442753</td>\n",
       "    </tr>\n",
       "    <tr>\n",
       "      <th>1</th>\n",
       "      <td>2</td>\n",
       "      <td>471.045049</td>\n",
       "      <td>584.274835</td>\n",
       "      <td>706.622338</td>\n",
       "      <td>707.391712</td>\n",
       "    </tr>\n",
       "    <tr>\n",
       "      <th>2</th>\n",
       "      <td>3</td>\n",
       "      <td>469.756595</td>\n",
       "      <td>485.215589</td>\n",
       "      <td>705.705103</td>\n",
       "      <td>707.338735</td>\n",
       "    </tr>\n",
       "    <tr>\n",
       "      <th>3</th>\n",
       "      <td>4</td>\n",
       "      <td>469.043038</td>\n",
       "      <td>479.480007</td>\n",
       "      <td>704.355460</td>\n",
       "      <td>707.288450</td>\n",
       "    </tr>\n",
       "    <tr>\n",
       "      <th>4</th>\n",
       "      <td>5</td>\n",
       "      <td>468.529513</td>\n",
       "      <td>477.845719</td>\n",
       "      <td>702.494687</td>\n",
       "      <td>707.243226</td>\n",
       "    </tr>\n",
       "    <tr>\n",
       "      <th>5</th>\n",
       "      <td>6</td>\n",
       "      <td>468.106112</td>\n",
       "      <td>476.546056</td>\n",
       "      <td>700.050719</td>\n",
       "      <td>707.200900</td>\n",
       "    </tr>\n",
       "    <tr>\n",
       "      <th>6</th>\n",
       "      <td>7</td>\n",
       "      <td>467.752656</td>\n",
       "      <td>475.457908</td>\n",
       "      <td>696.948355</td>\n",
       "      <td>707.157776</td>\n",
       "    </tr>\n",
       "    <tr>\n",
       "      <th>7</th>\n",
       "      <td>8</td>\n",
       "      <td>467.445982</td>\n",
       "      <td>474.547435</td>\n",
       "      <td>693.118721</td>\n",
       "      <td>707.112560</td>\n",
       "    </tr>\n",
       "    <tr>\n",
       "      <th>8</th>\n",
       "      <td>9</td>\n",
       "      <td>467.194426</td>\n",
       "      <td>473.781009</td>\n",
       "      <td>688.498649</td>\n",
       "      <td>707.065096</td>\n",
       "    </tr>\n",
       "    <tr>\n",
       "      <th>9</th>\n",
       "      <td>10</td>\n",
       "      <td>466.988272</td>\n",
       "      <td>473.136325</td>\n",
       "      <td>683.030056</td>\n",
       "      <td>707.015454</td>\n",
       "    </tr>\n",
       "  </tbody>\n",
       "</table>\n",
       "</div>"
      ],
      "text/plain": [
       "   Epoch       10E-3       10E-4       10E-5       10E-6\n",
       "0      1  503.512959  691.273270  707.212133  707.442753\n",
       "1      2  471.045049  584.274835  706.622338  707.391712\n",
       "2      3  469.756595  485.215589  705.705103  707.338735\n",
       "3      4  469.043038  479.480007  704.355460  707.288450\n",
       "4      5  468.529513  477.845719  702.494687  707.243226\n",
       "5      6  468.106112  476.546056  700.050719  707.200900\n",
       "6      7  467.752656  475.457908  696.948355  707.157776\n",
       "7      8  467.445982  474.547435  693.118721  707.112560\n",
       "8      9  467.194426  473.781009  688.498649  707.065096\n",
       "9     10  466.988272  473.136325  683.030056  707.015454"
      ]
     },
     "execution_count": 64,
     "metadata": {},
     "output_type": "execute_result"
    }
   ],
   "source": [
    "loss_df = pd.DataFrame({\"Epoch\":range(1,11)})\n",
    "loss_df['10E-3'] = lossn3\n",
    "loss_df['10E-4'] = lossn4\n",
    "loss_df['10E-5'] = lossn5\n",
    "loss_df['10E-6'] = lossn6\n",
    "loss_df['10E-3'] = loss_df['10E-3'].apply(np.sqrt)\n",
    "loss_df['10E-4'] = loss_df['10E-4'].apply(np.sqrt)\n",
    "loss_df['10E-5'] = loss_df['10E-5'].apply(np.sqrt)\n",
    "loss_df['10E-6'] = loss_df['10E-6'].apply(np.sqrt)\n",
    "loss_df"
   ]
  },
  {
   "cell_type": "code",
   "execution_count": 66,
   "id": "3db5ac62",
   "metadata": {},
   "outputs": [
    {
     "data": {
      "image/png": "[encoded data removed]",
      "text/plain": [
       "<Figure size 432x288 with 1 Axes>"
      ]
     },
     "metadata": {
      "needs_background": "light"
     },
     "output_type": "display_data"
    }
   ],
   "source": [
    "loss_df.plot(x='Epoch', y=['10E-3', '10E-4', '10E-5', '10E-6']);"
   ]
  },
  {
   "cell_type": "code",
   "execution_count": 36,
   "id": "a0e94c9b",
   "metadata": {},
   "outputs": [],
   "source": [
    "import pickle\n",
    "# save the model to disk\n",
    "filename = 'mlp1_model.sav'\n",
    "pickle.dump(mlp, open(filename, 'wb')) \n",
    "\n",
    "# load the model from disk\n",
    "loaded_model = pickle.load(open(filename, 'rb'))"
   ]
  },
  {
   "cell_type": "code",
   "execution_count": 37,
   "id": "cd4420fc",
   "metadata": {},
   "outputs": [
    {
     "data": {
      "text/plain": [
       "MLPRegressor(hidden_layer_sizes=(5, 5), max_iter=10, random_state=42)"
      ]
     },
     "execution_count": 37,
     "metadata": {},
     "output_type": "execute_result"
    }
   ],
   "source": [
    "loaded_model"
   ]
  },
  {
   "cell_type": "code",
   "execution_count": 34,
   "id": "bc5a4348",
   "metadata": {},
   "outputs": [
    {
     "data": {
      "text/html": [
       "<div>\n",
       "<style scoped>\n",
       "    .dataframe tbody tr th:only-of-type {\n",
       "        vertical-align: middle;\n",
       "    }\n",
       "\n",
       "    .dataframe tbody tr th {\n",
       "        vertical-align: top;\n",
       "    }\n",
       "\n",
       "    .dataframe thead th {\n",
       "        text-align: right;\n",
       "    }\n",
       "</style>\n",
       "<table border=\"1\" class=\"dataframe\">\n",
       "  <thead>\n",
       "    <tr style=\"text-align: right;\">\n",
       "      <th></th>\n",
       "      <th>x_test</th>\n",
       "      <th>y_test</th>\n",
       "      <th>y_pred</th>\n",
       "    </tr>\n",
       "  </thead>\n",
       "  <tbody>\n",
       "    <tr>\n",
       "      <th>59534</th>\n",
       "      <td>(0, 1)\\t1.0\\n  (0, 26)\\t1.0\\n  (0, 37)\\t1.0\\...</td>\n",
       "      <td>255</td>\n",
       "      <td>581.292645</td>\n",
       "    </tr>\n",
       "    <tr>\n",
       "      <th>1189909</th>\n",
       "      <td>(0, 6)\\t1.0\\n  (0, 27)\\t1.0\\n  (0, 33)\\t1.0\\...</td>\n",
       "      <td>15</td>\n",
       "      <td>421.719010</td>\n",
       "    </tr>\n",
       "    <tr>\n",
       "      <th>505151</th>\n",
       "      <td>(0, 3)\\t1.0\\n  (0, 24)\\t1.0\\n  (0, 40)\\t1.0\\...</td>\n",
       "      <td>555</td>\n",
       "      <td>697.702752</td>\n",
       "    </tr>\n",
       "    <tr>\n",
       "      <th>1069703</th>\n",
       "      <td>(0, 17)\\t1.0\\n  (0, 29)\\t1.0\\n  (0, 32)\\t1.0...</td>\n",
       "      <td>1800</td>\n",
       "      <td>949.161035</td>\n",
       "    </tr>\n",
       "    <tr>\n",
       "      <th>945082</th>\n",
       "      <td>(0, 9)\\t1.0\\n  (0, 29)\\t1.0\\n  (0, 31)\\t1.0\\...</td>\n",
       "      <td>585</td>\n",
       "      <td>732.552445</td>\n",
       "    </tr>\n",
       "  </tbody>\n",
       "</table>\n",
       "</div>"
      ],
      "text/plain": [
       "                                                    x_test  y_test      y_pred\n",
       "59534      (0, 1)\\t1.0\\n  (0, 26)\\t1.0\\n  (0, 37)\\t1.0\\...     255  581.292645\n",
       "1189909    (0, 6)\\t1.0\\n  (0, 27)\\t1.0\\n  (0, 33)\\t1.0\\...      15  421.719010\n",
       "505151     (0, 3)\\t1.0\\n  (0, 24)\\t1.0\\n  (0, 40)\\t1.0\\...     555  697.702752\n",
       "1069703    (0, 17)\\t1.0\\n  (0, 29)\\t1.0\\n  (0, 32)\\t1.0...    1800  949.161035\n",
       "945082     (0, 9)\\t1.0\\n  (0, 29)\\t1.0\\n  (0, 31)\\t1.0\\...     585  732.552445"
      ]
     },
     "execution_count": 34,
     "metadata": {},
     "output_type": "execute_result"
    }
   ],
   "source": [
    "out_df = pd.DataFrame({\"x_test\": x_test, \"y_test\": y_test, \"y_pred\": y_pred})\n",
    "out_df.shape"
   ]
  },
  {
   "cell_type": "code",
   "execution_count": 18,
   "id": "26a71209",
   "metadata": {},
   "outputs": [],
   "source": [
    "validation_orig = pd.read_csv(\"test_public.csv\")\n",
    "validation = validation_orig.copy()"
   ]
  },
  {
   "cell_type": "code",
   "execution_count": 26,
   "id": "19ffa081",
   "metadata": {},
   "outputs": [],
   "source": [
    "def transformdf(df):\n",
    "    data = df.copy()\n",
    "    data = data[data['MISSING_DATA']==False]\n",
    "    data['Time'] = pd.to_datetime(data['TIMESTAMP'], unit='s')\n",
    "    data['Year'] = data['Time'].dt.year\n",
    "    data['Month'] = data['Time'].dt.month\n",
    "    data['Day of Month'] = data['Time'].dt.day\n",
    "    data['Day of Week'] = data['Time'].dt.day_name()\n",
    "    data['Hour'] = data['Time'].dt.hour\n",
    "    return data"
   ]
  },
  {
   "cell_type": "code",
   "execution_count": 28,
   "id": "cd9735de",
   "metadata": {},
   "outputs": [],
   "source": [
    "validation = transformdf(validation)"
   ]
  },
  {
   "cell_type": "code",
   "execution_count": 34,
   "id": "507df2f2",
   "metadata": {},
   "outputs": [
    {
     "data": {
      "text/plain": [
       "Index(['TRIP_ID', 'CALL_TYPE', 'ORIGIN_CALL', 'ORIGIN_STAND', 'TAXI_ID',\n",
       "       'TIMESTAMP', 'DAY_TYPE', 'MISSING_DATA', 'Time', 'Year', 'Month',\n",
       "       'Day of Month', 'Day of Week', 'Hour'],\n",
       "      dtype='object')"
      ]
     },
     "execution_count": 34,
     "metadata": {},
     "output_type": "execute_result"
    }
   ],
   "source": [
    "validation.columns"
   ]
  },
  {
   "cell_type": "code",
   "execution_count": 58,
   "id": "b017ea88",
   "metadata": {},
   "outputs": [],
   "source": [
    "cat_features = ['Hour', 'Day of Week', 'Month', 'TAXI_ID', 'Day of Month', 'Year', 'CALL_TYPE']\n",
    "preprocessor = ColumnTransformer(\n",
    "    transformers=[\n",
    "        ('cat', OneHotEncoder(), cat_features)\n",
    "    ])\n",
    "x_train = preprocessor.fit_transform(x_train)\n",
    "\n",
    "val_features = validation[['CALL_TYPE', 'ORIGIN_STAND', 'TAXI_ID', 'DAY_TYPE', 'Year', 'Month', 'Day of Month', 'Day of Week', 'Hour']]\n",
    "val_set = preprocessor.transform(val_features)\n",
    "predictions = mlp.predict(val_set)"
   ]
  },
  {
   "cell_type": "code",
   "execution_count": 66,
   "id": "3811848b",
   "metadata": {},
   "outputs": [
    {
     "name": "stderr",
     "output_type": "stream",
     "text": [
      "/tmp/ipykernel_3839/212301459.py:3: SettingWithCopyWarning: \n",
      "A value is trying to be set on a copy of a slice from a DataFrame.\n",
      "Try using .loc[row_indexer,col_indexer] = value instead\n",
      "\n",
      "See the caveats in the documentation: https://pandas.pydata.org/pandas-docs/stable/user_guide/indexing.html#returning-a-view-versus-a-copy\n",
      "  val_out['TRIP_ID'] = val_out['TRIP_ID'].astype(str)\n"
     ]
    }
   ],
   "source": [
    "validation[\"TRAVEL_TIME\"] = predictions\n",
    "val_out = validation[['TRIP_ID', 'TRAVEL_TIME']]\n",
    "val_out['TRIP_ID'] = val_out['TRIP_ID'].astype(str)"
   ]
  },
  {
   "cell_type": "code",
   "execution_count": 68,
   "id": "b72dfc47",
   "metadata": {},
   "outputs": [],
   "source": [
    "val_csv = val_out.to_csv('val_pred.csv', index= False)"
   ]
  }
 ],
 "metadata": {
  "kernelspec": {
   "display_name": "Python 3 (ipykernel)",
   "language": "python",
   "name": "python3"
  },
  "language_info": {
   "codemirror_mode": {
    "name": "ipython",
    "version": 3
   },
   "file_extension": ".py",
   "mimetype": "text/x-python",
   "name": "python",
   "nbconvert_exporter": "python",
   "pygments_lexer": "ipython3",
   "version": "3.9.5"
  }
 },
 "nbformat": 4,
 "nbformat_minor": 5
}
