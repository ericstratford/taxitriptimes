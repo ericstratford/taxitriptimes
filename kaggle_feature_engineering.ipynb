{
 "cells": [
  {
   "cell_type": "code",
   "execution_count": 31,
   "id": "acf48a10",
   "metadata": {},
   "outputs": [],
   "source": [
    "import pandas as pd\n",
    "import numpy as np\n",
    "import sklearn \n",
    "import matplotlib.pyplot as plt\n",
    "from sklearn.preprocessing import OneHotEncoder\n",
    "from sklearn.compose import ColumnTransformer\n",
    "import math\n",
    "import os\n",
    "from sklearn.cluster import KMeans\n",
    "from sklearn.metrics import silhouette_score\n",
    "import pickle"
   ]
  },
  {
   "cell_type": "markdown",
   "id": "d900bce7",
   "metadata": {},
   "source": [
    "# Prepocessing\n",
    "- Adding trip duration and datetime to datasets"
   ]
  },
  {
   "cell_type": "code",
   "execution_count": 3,
   "id": "08252f97",
   "metadata": {},
   "outputs": [],
   "source": [
    "trn_fp = os.path.join(\"data\", \"train.csv\")\n",
    "train_raw = pd.read_csv(trn_fp)\n",
    "tt_fp = os.path.join(\"data\", \"test_public.csv\")\n",
    "test_raw = pd.read_csv(tt_fp)"
   ]
  },
  {
   "cell_type": "code",
   "execution_count": 13,
   "id": "bb1d6e38",
   "metadata": {},
   "outputs": [],
   "source": [
    "def transform_raw(df, train):\n",
    "    \"\"\"\n",
    "    adds polyline and datetime info to dataset\n",
    "    \n",
    "    df: raw df\n",
    "    train: boolean on whether or not passed in df is train or test\n",
    "    \"\"\"\n",
    "    def polyline_to_trip_duration(polyline):\n",
    "        return max(polyline.count(\"[\") - 2, 0) * 15\n",
    "    \n",
    "    df = df.copy()\n",
    "    # Convert Unix timestamp to datetime\n",
    "    df['DT'] = pd.to_datetime(df['TIMESTAMP'], unit='s')\n",
    "\n",
    "    # Extract year, month, day of the week, and hour of the day\n",
    "    df['YEAR'] = df['DT'].dt.year\n",
    "    df['MONTH'] = df['DT'].dt.month\n",
    "    df['WEEK'] = df['DT'].dt.dayofweek\n",
    "    df['HOUR'] = df['DT'].dt.hour\n",
    "    \n",
    "    # extract ride duration for training set\n",
    "    if (train):\n",
    "        df[\"DURATION\"] = df[\"POLYLINE\"].apply(polyline_to_trip_duration)\n",
    "    return df"
   ]
  },
  {
   "cell_type": "code",
   "execution_count": 8,
   "id": "04ddb069",
   "metadata": {},
   "outputs": [],
   "source": [
    "train_proc = transform_raw(train_raw, True)\n",
    "test_proc = transform_raw(test_raw, False)"
   ]
  },
  {
   "cell_type": "markdown",
   "id": "8eb4c118",
   "metadata": {},
   "source": [
    "# Finding Optimal Clusters\n",
    "- ORIGIN_CALL, ORIGIN_STAND used in clustering to create meaningful features"
   ]
  },
  {
   "cell_type": "code",
   "execution_count": 9,
   "id": "009ed2d5",
   "metadata": {},
   "outputs": [],
   "source": [
    "# sample for finding clusters\n",
    "sample_size = int(train_proc.shape[0] * 0.1)\n",
    "sample = train_proc.sample(sample_size)"
   ]
  },
  {
   "cell_type": "code",
   "execution_count": 14,
   "id": "0fe0bcf0",
   "metadata": {},
   "outputs": [],
   "source": [
    "# feature engineering for clustering\n",
    "def cluster_features(df, call_thresh, stand_thresh):\n",
    "    \"\"\"\n",
    "    feature engineering for clustering\n",
    "    \n",
    "    df: output of transform raw\n",
    "    call_thresh: min_frequency for ORIGIN_CALL\n",
    "    stand_thresh: min_frequency for ORIGIN_STAND\n",
    "    \"\"\"\n",
    "    call_transformer = OneHotEncoder(handle_unknown='ignore', min_frequency=call_thresh)\n",
    "    stand_transformer = OneHotEncoder(handle_unknown='ignore', min_frequency=stand_thresh)\n",
    "    \n",
    "    prepoc = ColumnTransformer(\n",
    "        transformers = [\n",
    "            (\"ohe_call\", call_transformer, [\"ORIGIN_CALL\"]),\n",
    "            (\"ohe_stand\", stand_transformer, [\"ORIGIN_STAND\"])\n",
    "        ],\n",
    "        remainder=\"drop\"\n",
    "    )\n",
    "    \n",
    "    return prepoc.fit_transform(df)"
   ]
  },
  {
   "cell_type": "code",
   "execution_count": 17,
   "id": "af114018",
   "metadata": {},
   "outputs": [],
   "source": [
    "call_thresh = 0.0001\n",
    "stand_thresh = 0.01\n",
    "sample_proc = cluster_features(sample, call_thresh, stand_thresh)"
   ]
  },
  {
   "cell_type": "code",
   "execution_count": 18,
   "id": "94948fe0",
   "metadata": {},
   "outputs": [
    {
     "data": {
      "text/plain": [
       "<171067x121 sparse matrix of type '<class 'numpy.float64'>'\n",
       "\twith 342134 stored elements in Compressed Sparse Row format>"
      ]
     },
     "execution_count": 18,
     "metadata": {},
     "output_type": "execute_result"
    }
   ],
   "source": [
    "sample_proc"
   ]
  },
  {
   "cell_type": "markdown",
   "id": "9dd08e4f",
   "metadata": {},
   "source": [
    "### Elbow Method "
   ]
  },
  {
   "cell_type": "code",
   "execution_count": 22,
   "id": "fb02fbf0",
   "metadata": {},
   "outputs": [],
   "source": [
    "def kmeans(data, k):\n",
    "    \"\"\"\n",
    "    data: output of cluster_features\n",
    "    \"\"\"\n",
    "    # Create the KMeans object and fit the data\n",
    "    kmeans = KMeans(n_clusters=k, random_state=42)\n",
    "    kmeans.fit(data)\n",
    "\n",
    "    # Get the cluster labels and centroids\n",
    "    labels = kmeans.labels_\n",
    "    centroids = kmeans.cluster_centers_\n",
    "    wcss = kmeans.inertia_\n",
    "    \n",
    "    return centroids, wcss"
   ]
  },
  {
   "cell_type": "code",
   "execution_count": 23,
   "id": "54226a72",
   "metadata": {},
   "outputs": [
    {
     "name": "stderr",
     "output_type": "stream",
     "text": [
      "/home/ncheung/.local/lib/python3.9/site-packages/sklearn/cluster/_kmeans.py:870: FutureWarning: The default value of `n_init` will change from 10 to 'auto' in 1.4. Set the value of `n_init` explicitly to suppress the warning\n",
      "  warnings.warn(\n"
     ]
    }
   ],
   "source": [
    "centroids = []\n",
    "wcss_list = []\n",
    "for i in np.arange(5,50,5):\n",
    "    cen, wc = kmeans(sample_proc, i)\n",
    "    centroids.append(cen)\n",
    "    wcss_list.append(wc)"
   ]
  },
  {
   "cell_type": "markdown",
   "id": "2e886fc7",
   "metadata": {},
   "source": [
    "### 20 Clusters Optimal"
   ]
  },
  {
   "cell_type": "code",
   "execution_count": 25,
   "id": "90312526",
   "metadata": {},
   "outputs": [
    {
     "data": {
      "image/png": "[encoded data removed]",
      "text/plain": [
       "<Figure size 432x288 with 1 Axes>"
      ]
     },
     "metadata": {
      "needs_background": "light"
     },
     "output_type": "display_data"
    }
   ],
   "source": [
    "plt.scatter(np.arange(5,50,5), wcss_list)\n",
    "plt.show()"
   ]
  },
  {
   "cell_type": "markdown",
   "id": "0e4a8b3b",
   "metadata": {},
   "source": [
    "### Adding Cluster to Training Data"
   ]
  },
  {
   "cell_type": "code",
   "execution_count": 26,
   "id": "bc0daf6a",
   "metadata": {},
   "outputs": [],
   "source": [
    "proc = cluster_features(train_raw, call_thresh, stand_thresh)"
   ]
  },
  {
   "cell_type": "code",
   "execution_count": 27,
   "id": "2944d3e8",
   "metadata": {},
   "outputs": [
    {
     "name": "stderr",
     "output_type": "stream",
     "text": [
      "/home/ncheung/.local/lib/python3.9/site-packages/sklearn/cluster/_kmeans.py:870: FutureWarning: The default value of `n_init` will change from 10 to 'auto' in 1.4. Set the value of `n_init` explicitly to suppress the warning\n",
      "  warnings.warn(\n"
     ]
    }
   ],
   "source": [
    "# Create the KMeans object and fit the data\n",
    "kmeans = KMeans(n_clusters=20)\n",
    "kmeans.fit(proc)\n",
    "\n",
    "# Get the cluster labels and centroids\n",
    "labels = kmeans.labels_"
   ]
  },
  {
   "cell_type": "code",
   "execution_count": 28,
   "id": "7a408989",
   "metadata": {},
   "outputs": [],
   "source": [
    "train_labeled = train_proc.assign(\n",
    "    CLUSTER=labels\n",
    ")"
   ]
  },
  {
   "cell_type": "code",
   "execution_count": 29,
   "id": "c3098755",
   "metadata": {},
   "outputs": [
    {
     "data": {
      "text/html": [
       "<div>\n",
       "<style scoped>\n",
       "    .dataframe tbody tr th:only-of-type {\n",
       "        vertical-align: middle;\n",
       "    }\n",
       "\n",
       "    .dataframe tbody tr th {\n",
       "        vertical-align: top;\n",
       "    }\n",
       "\n",
       "    .dataframe thead th {\n",
       "        text-align: right;\n",
       "    }\n",
       "</style>\n",
       "<table border=\"1\" class=\"dataframe\">\n",
       "  <thead>\n",
       "    <tr style=\"text-align: right;\">\n",
       "      <th></th>\n",
       "      <th>TRIP_ID</th>\n",
       "      <th>CALL_TYPE</th>\n",
       "      <th>ORIGIN_CALL</th>\n",
       "      <th>ORIGIN_STAND</th>\n",
       "      <th>TAXI_ID</th>\n",
       "      <th>TIMESTAMP</th>\n",
       "      <th>DAY_TYPE</th>\n",
       "      <th>MISSING_DATA</th>\n",
       "      <th>POLYLINE</th>\n",
       "      <th>DT</th>\n",
       "      <th>YEAR</th>\n",
       "      <th>MONTH</th>\n",
       "      <th>WEEK</th>\n",
       "      <th>HOUR</th>\n",
       "      <th>DURATION</th>\n",
       "      <th>CLUSTER</th>\n",
       "    </tr>\n",
       "  </thead>\n",
       "  <tbody>\n",
       "    <tr>\n",
       "      <th>0</th>\n",
       "      <td>1372636858620000589</td>\n",
       "      <td>C</td>\n",
       "      <td>NaN</td>\n",
       "      <td>NaN</td>\n",
       "      <td>20000589</td>\n",
       "      <td>1372636858</td>\n",
       "      <td>A</td>\n",
       "      <td>False</td>\n",
       "      <td>[[-8.618643,41.141412],[-8.618499,41.141376],[...</td>\n",
       "      <td>2013-07-01 00:00:58</td>\n",
       "      <td>2013</td>\n",
       "      <td>7</td>\n",
       "      <td>0</td>\n",
       "      <td>0</td>\n",
       "      <td>330</td>\n",
       "      <td>2</td>\n",
       "    </tr>\n",
       "    <tr>\n",
       "      <th>1</th>\n",
       "      <td>1372637303620000596</td>\n",
       "      <td>B</td>\n",
       "      <td>NaN</td>\n",
       "      <td>7.0</td>\n",
       "      <td>20000596</td>\n",
       "      <td>1372637303</td>\n",
       "      <td>A</td>\n",
       "      <td>False</td>\n",
       "      <td>[[-8.639847,41.159826],[-8.640351,41.159871],[...</td>\n",
       "      <td>2013-07-01 00:08:23</td>\n",
       "      <td>2013</td>\n",
       "      <td>7</td>\n",
       "      <td>0</td>\n",
       "      <td>0</td>\n",
       "      <td>270</td>\n",
       "      <td>16</td>\n",
       "    </tr>\n",
       "    <tr>\n",
       "      <th>2</th>\n",
       "      <td>1372636951620000320</td>\n",
       "      <td>C</td>\n",
       "      <td>NaN</td>\n",
       "      <td>NaN</td>\n",
       "      <td>20000320</td>\n",
       "      <td>1372636951</td>\n",
       "      <td>A</td>\n",
       "      <td>False</td>\n",
       "      <td>[[-8.612964,41.140359],[-8.613378,41.14035],[-...</td>\n",
       "      <td>2013-07-01 00:02:31</td>\n",
       "      <td>2013</td>\n",
       "      <td>7</td>\n",
       "      <td>0</td>\n",
       "      <td>0</td>\n",
       "      <td>960</td>\n",
       "      <td>2</td>\n",
       "    </tr>\n",
       "    <tr>\n",
       "      <th>3</th>\n",
       "      <td>1372636854620000520</td>\n",
       "      <td>C</td>\n",
       "      <td>NaN</td>\n",
       "      <td>NaN</td>\n",
       "      <td>20000520</td>\n",
       "      <td>1372636854</td>\n",
       "      <td>A</td>\n",
       "      <td>False</td>\n",
       "      <td>[[-8.574678,41.151951],[-8.574705,41.151942],[...</td>\n",
       "      <td>2013-07-01 00:00:54</td>\n",
       "      <td>2013</td>\n",
       "      <td>7</td>\n",
       "      <td>0</td>\n",
       "      <td>0</td>\n",
       "      <td>630</td>\n",
       "      <td>2</td>\n",
       "    </tr>\n",
       "    <tr>\n",
       "      <th>4</th>\n",
       "      <td>1372637091620000337</td>\n",
       "      <td>C</td>\n",
       "      <td>NaN</td>\n",
       "      <td>NaN</td>\n",
       "      <td>20000337</td>\n",
       "      <td>1372637091</td>\n",
       "      <td>A</td>\n",
       "      <td>False</td>\n",
       "      <td>[[-8.645994,41.18049],[-8.645949,41.180517],[-...</td>\n",
       "      <td>2013-07-01 00:04:51</td>\n",
       "      <td>2013</td>\n",
       "      <td>7</td>\n",
       "      <td>0</td>\n",
       "      <td>0</td>\n",
       "      <td>420</td>\n",
       "      <td>2</td>\n",
       "    </tr>\n",
       "  </tbody>\n",
       "</table>\n",
       "</div>"
      ],
      "text/plain": [
       "               TRIP_ID CALL_TYPE  ORIGIN_CALL  ORIGIN_STAND   TAXI_ID  \\\n",
       "0  1372636858620000589         C          NaN           NaN  20000589   \n",
       "1  1372637303620000596         B          NaN           7.0  20000596   \n",
       "2  1372636951620000320         C          NaN           NaN  20000320   \n",
       "3  1372636854620000520         C          NaN           NaN  20000520   \n",
       "4  1372637091620000337         C          NaN           NaN  20000337   \n",
       "\n",
       "    TIMESTAMP DAY_TYPE  MISSING_DATA  \\\n",
       "0  1372636858        A         False   \n",
       "1  1372637303        A         False   \n",
       "2  1372636951        A         False   \n",
       "3  1372636854        A         False   \n",
       "4  1372637091        A         False   \n",
       "\n",
       "                                            POLYLINE                  DT  \\\n",
       "0  [[-8.618643,41.141412],[-8.618499,41.141376],[... 2013-07-01 00:00:58   \n",
       "1  [[-8.639847,41.159826],[-8.640351,41.159871],[... 2013-07-01 00:08:23   \n",
       "2  [[-8.612964,41.140359],[-8.613378,41.14035],[-... 2013-07-01 00:02:31   \n",
       "3  [[-8.574678,41.151951],[-8.574705,41.151942],[... 2013-07-01 00:00:54   \n",
       "4  [[-8.645994,41.18049],[-8.645949,41.180517],[-... 2013-07-01 00:04:51   \n",
       "\n",
       "   YEAR  MONTH  WEEK  HOUR  DURATION  CLUSTER  \n",
       "0  2013      7     0     0       330        2  \n",
       "1  2013      7     0     0       270       16  \n",
       "2  2013      7     0     0       960        2  \n",
       "3  2013      7     0     0       630        2  \n",
       "4  2013      7     0     0       420        2  "
      ]
     },
     "execution_count": 29,
     "metadata": {},
     "output_type": "execute_result"
    }
   ],
   "source": [
    "train_labeled.head()"
   ]
  },
  {
   "cell_type": "markdown",
   "id": "bfc4e833",
   "metadata": {},
   "source": [
    "### Save KMeans model "
   ]
  },
  {
   "cell_type": "code",
   "execution_count": 34,
   "id": "b7854978",
   "metadata": {},
   "outputs": [],
   "source": [
    "kmeans_fp = os.path.join(\"data\", \"kmeans\")\n",
    "pickle.dump(kmeans, open(kmeans_fp, 'wb')) "
   ]
  }
 ],
 "metadata": {
  "kernelspec": {
   "display_name": "Python 3 (ipykernel)",
   "language": "python",
   "name": "python3"
  },
  "language_info": {
   "codemirror_mode": {
    "name": "ipython",
    "version": 3
   },
   "file_extension": ".py",
   "mimetype": "text/x-python",
   "name": "python",
   "nbconvert_exporter": "python",
   "pygments_lexer": "ipython3",
   "version": "3.9.5"
  }
 },
 "nbformat": 4,
 "nbformat_minor": 5
}
