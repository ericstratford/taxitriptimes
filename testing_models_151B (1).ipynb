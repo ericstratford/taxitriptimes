{
 "cells": [
  {
   "cell_type": "code",
   "execution_count": 1,
   "id": "7924250e",
   "metadata": {},
   "outputs": [],
   "source": [
    "import torch\n",
    "import torch.nn as nn\n",
    "from torch.utils.data import DataLoader\n",
    "import pandas as pd\n",
    "import numpy as np\n",
    "import sklearn \n",
    "import matplotlib.pyplot as plt\n",
    "import datetime as dt\n",
    "from sklearn.preprocessing import OneHotEncoder\n",
    "import math"
   ]
  },
  {
   "cell_type": "code",
   "execution_count": 2,
   "id": "788f46df",
   "metadata": {
    "scrolled": true
   },
   "outputs": [
    {
     "data": {
      "text/plain": [
       "device(type='cuda')"
      ]
     },
     "execution_count": 2,
     "metadata": {},
     "output_type": "execute_result"
    }
   ],
   "source": [
    "device = torch.device(\"cuda\" if torch.cuda.is_available() else \"cpu\")\n",
    "device"
   ]
  },
  {
   "cell_type": "markdown",
   "id": "83f2a47d",
   "metadata": {},
   "source": [
    "# Dataloader"
   ]
  },
  {
   "cell_type": "code",
   "execution_count": 3,
   "id": "ba36ffad",
   "metadata": {},
   "outputs": [],
   "source": [
    "import torch\n",
    "from torch.utils.data import Dataset, DataLoader, random_split\n",
    "\n",
    "# Custom Dataset class\n",
    "class MyDataset(Dataset):\n",
    "    def __init__(self, data):\n",
    "        self.data = data.float()\n",
    "\n",
    "    def __getitem__(self, index):\n",
    "        return self.data[index].float()\n",
    "\n",
    "    def __len__(self):\n",
    "        return len(self.data)"
   ]
  },
  {
   "cell_type": "code",
   "execution_count": 4,
   "id": "86060645",
   "metadata": {},
   "outputs": [],
   "source": [
    "def train_epoch(train_loader, model, optimizer, loss_function):\n",
    "    losses = []\n",
    "    # get a batch of training data from the train_loader (DataLoader obj)\n",
    "    for i, data in enumerate(train_loader):\n",
    "        x = data[:,:-1].to(device)\n",
    "        t = data[:,-1].to(device)\n",
    "        # make predictions for this batch\n",
    "        y = model(x)\n",
    "        # Compute the loss\n",
    "        loss = loss_function(y, t)\n",
    "        # zero out the gradients so that it will not accumulate through each iteration\n",
    "        optimizer.zero_grad()\n",
    "        # Compute the gradents with the backward call (backprop)\n",
    "        loss.backward()\n",
    "        # Update weight using gradient descent \n",
    "        optimizer.step()\n",
    "        losses.append(loss.item())\n",
    "    return np.mean(losses)\n",
    "\n",
    "def eval_epoch(valid_loader, model, loss_function):\n",
    "    rmses = []\n",
    "    with torch.no_grad(): \n",
    "        for i, data in enumerate(valid_loader):\n",
    "            x = data[:,:-1].to(device)\n",
    "            t = data[:,-1].to(device)\n",
    "            # Compute prediction\n",
    "            y = model(x).squeeze()\n",
    "            \n",
    "            rmse = math.sqrt(loss_function(y,t))\n",
    "            rmses.append(rmse)\n",
    "            \n",
    "    return np.mean(rmses)"
   ]
  },
  {
   "cell_type": "markdown",
   "id": "36acf538",
   "metadata": {},
   "source": [
    "# Define Model Architectures"
   ]
  },
  {
   "cell_type": "code",
   "execution_count": 120,
   "id": "3d82f0e3",
   "metadata": {},
   "outputs": [],
   "source": [
    "# Define the neural network architecture\n",
    "leaky_relu = nn.LeakyReLU(negative_slope=0.2)\n",
    "class Net(nn.Module):\n",
    "    def __init__(self):\n",
    "        super(Net, self).__init__()\n",
    "        self.relu = nn.ReLU()\n",
    "        self.dropout = nn.Dropout(p=0.5)\n",
    "        self.fc1 = nn.Linear(94, 48)\n",
    "        self.fc2 = nn.Linear(48, 24)\n",
    "        self.fc3 = nn.Linear(24, 12)\n",
    "        self.fc4 = nn.Linear(12,8)\n",
    "        self.fc5 = nn.Linear(8, 1)  \n",
    "\n",
    "    def forward(self, x):\n",
    "        x = self.dropout(self.relu(self.fc1(x)))\n",
    "        x = self.dropout(self.relu(self.fc2(x)))\n",
    "        x = self.dropout(self.relu(self.fc3(x)))     \n",
    "        x = self.dropout(self.relu(self.fc4(x)))   \n",
    "        x = self.fc5(x)\n",
    "        return x\n",
    "\n",
    "# Create an instance of the neural network\n",
    "model = Net()\n",
    "model = model.to(device)\n",
    "criterion = nn.MSELoss()"
   ]
  },
  {
   "cell_type": "markdown",
   "id": "3748c396",
   "metadata": {},
   "source": [
    "# Load in Data"
   ]
  },
  {
   "cell_type": "code",
   "execution_count": 42,
   "id": "32a993bd",
   "metadata": {},
   "outputs": [
    {
     "data": {
      "text/plain": [
       "(1710670, 95)"
      ]
     },
     "execution_count": 42,
     "metadata": {},
     "output_type": "execute_result"
    }
   ],
   "source": [
    "df_np = np.load('processed_train_set.npy')\n",
    "df_np.shape"
   ]
  },
  {
   "cell_type": "code",
   "execution_count": 113,
   "id": "d723ae38",
   "metadata": {},
   "outputs": [],
   "source": [
    "# load in np array and DRAW SAMPLE\n",
    "num_samples = int(df_np.shape[0]*1)\n",
    "\n",
    "num_rows = df_np.shape[0]\n",
    "sampled_indices = np.random.choice(num_rows, size=num_samples, replace=False)"
   ]
  },
  {
   "cell_type": "code",
   "execution_count": 114,
   "id": "3e99b28f",
   "metadata": {},
   "outputs": [],
   "source": [
    "# convert np to tensor\n",
    "df = torch.tensor(df_np[sampled_indices])"
   ]
  },
  {
   "cell_type": "code",
   "execution_count": 115,
   "id": "222cd055",
   "metadata": {},
   "outputs": [
    {
     "data": {
      "text/plain": [
       "torch.Size([1710670, 95])"
      ]
     },
     "execution_count": 115,
     "metadata": {},
     "output_type": "execute_result"
    }
   ],
   "source": [
    "df.shape"
   ]
  },
  {
   "cell_type": "code",
   "execution_count": 116,
   "id": "00fe0bfa",
   "metadata": {},
   "outputs": [],
   "source": [
    "# Create a sample dataset\n",
    "dataset = MyDataset(df)\n",
    "\n",
    "# Define the sizes of train, validation, and test sets\n",
    "train_size = int(0.8 * len(dataset))\n",
    "val_size = len(dataset)-train_size"
   ]
  },
  {
   "cell_type": "code",
   "execution_count": 117,
   "id": "29def452",
   "metadata": {},
   "outputs": [],
   "source": [
    "# Split the dataset\n",
    "batch_size = 32\n",
    "train_data, val_data = random_split(dataset, [train_size, val_size])\n",
    "\n",
    "# Create DataLoader objects for train, validation, and test sets\n",
    "train_loader = DataLoader(train_data, batch_size=batch_size, shuffle=True)\n",
    "valid_loader = DataLoader(val_data, batch_size=batch_size)\n",
    "# test_loader = DataLoader(test_data, batch_size=32)"
   ]
  },
  {
   "cell_type": "markdown",
   "id": "abddd2a5",
   "metadata": {},
   "source": [
    "# Train Model"
   ]
  },
  {
   "cell_type": "code",
   "execution_count": 118,
   "id": "80db77b4",
   "metadata": {},
   "outputs": [],
   "source": [
    "def train_model(model, model_name, epochs, lr, batch_size):\n",
    "    # Define the optimizer\n",
    "    train_rmses = []\n",
    "    valid_rmses = []\n",
    "    optimizer = torch.optim.Adam(model.parameters(), lr)\n",
    "#     optimizer = torch.optim.Adam(model.parameters())\n",
    "    train_accs, valid_accs = [], []\n",
    "    for epoch in range(epochs):\n",
    "\n",
    "        model.train() # gradient tracking is on\n",
    "\n",
    "        train_loss = train_epoch(train_loader, model, optimizer, criterion)\n",
    "\n",
    "        model.eval() # we don't need gradients on to do reporting\n",
    "\n",
    "        train_rmse = eval_epoch(train_loader, model, criterion)\n",
    "        valid_rmse = eval_epoch(valid_loader, model, criterion)\n",
    "        \n",
    "#         train_rmses.append(train_rmse)\n",
    "#         valid_rmses.append(valid_rmse)\n",
    "\n",
    "        print(f\"Epoch: {epoch+1}, Train Loss: {train_loss:>0.4f}, Train mse: {train_rmse:>0.2f},\\\n",
    "              Validation Accuracy: {valid_rmse:>0.2f} \\n\")\n",
    "    torch.save(model.state_dict(), './{}'.format(model_name))\n"
   ]
  },
  {
   "cell_type": "code",
   "execution_count": null,
   "id": "b3a98e87",
   "metadata": {},
   "outputs": [
    {
     "name": "stdout",
     "output_type": "stream",
     "text": [
      "Epoch: 1, Train Loss: 854925.8955, Train mse: 594.25,              Validation Accuracy: 597.34 \n",
      "\n",
      "Epoch: 2, Train Loss: 632334.5362, Train mse: 586.84,              Validation Accuracy: 590.28 \n",
      "\n",
      "Epoch: 3, Train Loss: 620457.4213, Train mse: 580.15,              Validation Accuracy: 583.09 \n",
      "\n",
      "Epoch: 4, Train Loss: 611028.0100, Train mse: 578.28,              Validation Accuracy: 581.33 \n",
      "\n"
     ]
    }
   ],
   "source": [
    "%%time\n",
    "train_model(model = model, model_name = 'main_model', \\\n",
    "epochs = 10, lr=0.00001, batch_size = batch_size)"
   ]
  },
  {
   "cell_type": "code",
   "execution_count": null,
   "id": "09524407",
   "metadata": {},
   "outputs": [],
   "source": []
  },
  {
   "cell_type": "code",
   "execution_count": null,
   "id": "f8bc4416",
   "metadata": {},
   "outputs": [],
   "source": []
  },
  {
   "cell_type": "code",
   "execution_count": 14,
   "id": "3d3a4818",
   "metadata": {},
   "outputs": [],
   "source": [
    "# saved_model = Net()\n",
    "# saved_model.load_state_dict(torch.load('./cse151B_project'))\n",
    "# saved_model"
   ]
  },
  {
   "cell_type": "markdown",
   "id": "cd8f4d3f",
   "metadata": {},
   "source": [
    "# Test Model (unfinished cuz eric poopoo code)"
   ]
  },
  {
   "cell_type": "code",
   "execution_count": 60,
   "id": "db24327d",
   "metadata": {},
   "outputs": [
    {
     "data": {
      "text/plain": [
       "(320, 94)"
      ]
     },
     "execution_count": 60,
     "metadata": {},
     "output_type": "execute_result"
    }
   ],
   "source": [
    "df_np_test = np.load('processed_test_set.npy')\n",
    "df_np_test.shape"
   ]
  },
  {
   "cell_type": "code",
   "execution_count": 63,
   "id": "e8e12a0c",
   "metadata": {
    "scrolled": true
   },
   "outputs": [
    {
     "data": {
      "text/plain": [
       "torch.Size([320, 94])"
      ]
     },
     "execution_count": 63,
     "metadata": {},
     "output_type": "execute_result"
    }
   ],
   "source": [
    "test_tensor = torch.tensor(df_np_test).to(device)\n",
    "test_tensor.shape"
   ]
  },
  {
   "cell_type": "code",
   "execution_count": 108,
   "id": "fbdd529c",
   "metadata": {},
   "outputs": [
    {
     "data": {
      "text/plain": [
       "Net(\n",
       "  (relu): ReLU()\n",
       "  (dropout): Dropout(p=0.5, inplace=False)\n",
       "  (fc1): Linear(in_features=94, out_features=48, bias=True)\n",
       "  (fc2): Linear(in_features=48, out_features=24, bias=True)\n",
       "  (fc3): Linear(in_features=24, out_features=12, bias=True)\n",
       "  (fc4): Linear(in_features=12, out_features=8, bias=True)\n",
       "  (fc5): Linear(in_features=8, out_features=1, bias=True)\n",
       ")"
      ]
     },
     "execution_count": 108,
     "metadata": {},
     "output_type": "execute_result"
    }
   ],
   "source": [
    "model = model.float()\n",
    "model"
   ]
  },
  {
   "cell_type": "code",
   "execution_count": 109,
   "id": "f706fa7f",
   "metadata": {},
   "outputs": [],
   "source": [
    "pred = []\n",
    "with torch.no_grad(): \n",
    "    for i in range(test_tensor.shape[0]):\n",
    "        x = test_tensor[i].float().to(device)\n",
    "        y = model(x)\n",
    "        pred.append(y.cpu().numpy()[0])         "
   ]
  },
  {
   "cell_type": "code",
   "execution_count": 110,
   "id": "bd8d3bab",
   "metadata": {},
   "outputs": [
    {
     "data": {
      "text/plain": [
       "[509.66367,\n",
       " 126.07917,\n",
       " 650.4463,\n",
       " 326.46585,\n",
       " 264.091,\n",
       " 777.4181,\n",
       " 515.1021,\n",
       " 275.74536,\n",
       " 132.11153,\n",
       " 99.48521,\n",
       " 418.01385,\n",
       " 386.6475,\n",
       " 830.4042,\n",
       " 570.2158,\n",
       " 333.39163,\n",
       " 435.7697,\n",
       " 329.5581,\n",
       " 197.06033,\n",
       " 767.50574,\n",
       " 781.3656,\n",
       " 492.44464,\n",
       " 722.042,\n",
       " 402.14267,\n",
       " 326.30707,\n",
       " 964.071,\n",
       " 135.48036,\n",
       " 422.2431,\n",
       " 245.78647,\n",
       " 685.8021,\n",
       " 291.94916,\n",
       " 328.96393,\n",
       " 400.2779,\n",
       " 453.23367,\n",
       " 248.80649,\n",
       " 289.76868,\n",
       " 100.79281,\n",
       " 555.4779,\n",
       " 718.70074,\n",
       " 369.48846,\n",
       " 592.1417,\n",
       " 870.1964,\n",
       " 835.3273,\n",
       " 332.4567,\n",
       " 670.6193,\n",
       " 1184.2426,\n",
       " 296.03204,\n",
       " 403.53625,\n",
       " 475.12546,\n",
       " 921.0192,\n",
       " 444.74695,\n",
       " 811.74536,\n",
       " 991.39166,\n",
       " 223.79556,\n",
       " 1245.1158,\n",
       " 321.01807,\n",
       " 365.1096,\n",
       " 136.68274,\n",
       " 735.2136,\n",
       " 394.27075,\n",
       " 459.00232,\n",
       " 495.26562,\n",
       " 974.18225,\n",
       " 668.09753,\n",
       " 592.87744,\n",
       " 358.51028,\n",
       " 431.99054,\n",
       " 480.58844,\n",
       " 629.00024,\n",
       " 248.0975,\n",
       " 337.9201,\n",
       " 245.9079,\n",
       " 679.3573,\n",
       " 101.97326,\n",
       " 1023.60596,\n",
       " 278.4078,\n",
       " 1514.015,\n",
       " 230.07062,\n",
       " 1425.5544,\n",
       " 299.24612,\n",
       " 400.22882,\n",
       " 1015.5572,\n",
       " 299.90576,\n",
       " 829.5895,\n",
       " 763.23206,\n",
       " 256.97028,\n",
       " 462.01776,\n",
       " 488.19785,\n",
       " 577.6102,\n",
       " 807.8784,\n",
       " 239.03764,\n",
       " 311.82547,\n",
       " 787.2916,\n",
       " 760.2752,\n",
       " 623.3989,\n",
       " 506.18884,\n",
       " 925.5193,\n",
       " 486.06732,\n",
       " 962.79803,\n",
       " 349.9442,\n",
       " 521.401,\n",
       " 904.435,\n",
       " 670.7297,\n",
       " 697.1248,\n",
       " 641.73517,\n",
       " 768.11487,\n",
       " 438.02838,\n",
       " 401.08618,\n",
       " 525.92096,\n",
       " 371.81638,\n",
       " 366.1447,\n",
       " 384.9545,\n",
       " 467.4977,\n",
       " 899.67566,\n",
       " 1159.9325,\n",
       " 642.77155,\n",
       " 791.2703,\n",
       " 401.54138,\n",
       " 455.50394,\n",
       " 440.81082,\n",
       " 401.93088,\n",
       " 295.73898,\n",
       " 314.18918,\n",
       " 449.5688,\n",
       " 498.76495,\n",
       " 400.1813,\n",
       " 359.91992,\n",
       " 541.0093,\n",
       " 722.9244,\n",
       " 331.04266,\n",
       " 575.9032,\n",
       " 602.1703,\n",
       " 166.4736,\n",
       " 80.047386,\n",
       " 342.22025,\n",
       " 291.69846,\n",
       " 386.5476,\n",
       " 702.71387,\n",
       " 296.9988,\n",
       " 459.70215,\n",
       " 1052.4667,\n",
       " 86.68081,\n",
       " 196.49493,\n",
       " 443.6623,\n",
       " 617.25433,\n",
       " 213.33066,\n",
       " 694.0178,\n",
       " 289.5903,\n",
       " 523.8822,\n",
       " 1448.729,\n",
       " 221.58269,\n",
       " 305.58078,\n",
       " 413.33295,\n",
       " 319.115,\n",
       " 627.1736,\n",
       " 279.55164,\n",
       " 489.98615,\n",
       " 896.7939,\n",
       " 710.22534,\n",
       " 348.0042,\n",
       " 270.1447,\n",
       " 984.6306,\n",
       " 421.21802,\n",
       " 422.89423,\n",
       " 106.99987,\n",
       " 298.7337,\n",
       " 385.25513,\n",
       " 1062.5604,\n",
       " 362.50647,\n",
       " 205.67076,\n",
       " 379.55557,\n",
       " 485.49554,\n",
       " 1405.5426,\n",
       " 462.03323,\n",
       " 538.1167,\n",
       " 271.29477,\n",
       " 389.8187,\n",
       " 59.560238,\n",
       " 207.9659,\n",
       " 720.07324,\n",
       " 193.77429,\n",
       " 392.1615,\n",
       " 836.20074,\n",
       " 884.91675,\n",
       " 866.8452,\n",
       " 159.5957,\n",
       " 661.473,\n",
       " 306.01642,\n",
       " 499.48425,\n",
       " 575.0533,\n",
       " 398.91156,\n",
       " 622.3966,\n",
       " 909.90784,\n",
       " 408.52954,\n",
       " 121.196045,\n",
       " 463.8699,\n",
       " 368.8873,\n",
       " 154.56596,\n",
       " 861.1017,\n",
       " 625.41406,\n",
       " 590.20874,\n",
       " 797.7379,\n",
       " 494.07748,\n",
       " 817.9319,\n",
       " 454.63,\n",
       " 647.208,\n",
       " 187.44733,\n",
       " 265.53638,\n",
       " 834.46564,\n",
       " 611.3611,\n",
       " 301.1512,\n",
       " 694.81146,\n",
       " 775.5644,\n",
       " 919.0426,\n",
       " 52.18944,\n",
       " 632.17993,\n",
       " 764.34314,\n",
       " 813.5919,\n",
       " 305.1445,\n",
       " 259.78784,\n",
       " 631.58704,\n",
       " 759.92554,\n",
       " 181.69296,\n",
       " 492.63983,\n",
       " 0.6109558,\n",
       " 589.14813,\n",
       " 381.04617,\n",
       " 0.6109558,\n",
       " 155.07875,\n",
       " 529.115,\n",
       " 810.6107,\n",
       " 1264.8082,\n",
       " 544.9793,\n",
       " 1402.0565,\n",
       " 179.48396,\n",
       " 494.46387,\n",
       " 211.22554,\n",
       " 193.76892,\n",
       " 593.93945,\n",
       " 315.9663,\n",
       " 997.624,\n",
       " 651.4883,\n",
       " 189.4975,\n",
       " 160.88315,\n",
       " 491.92532,\n",
       " 280.11407,\n",
       " 269.74414,\n",
       " 908.24774,\n",
       " 105.26505,\n",
       " 1741.1227,\n",
       " 271.72052,\n",
       " 190.69156,\n",
       " 1293.8964,\n",
       " 750.01965,\n",
       " 256.80258,\n",
       " 301.28052,\n",
       " 659.8728,\n",
       " 551.07025,\n",
       " 700.83386,\n",
       " 305.672,\n",
       " 169.11967,\n",
       " 462.21936,\n",
       " 425.67108,\n",
       " 556.9045,\n",
       " 305.62982,\n",
       " 757.01025,\n",
       " 976.089,\n",
       " 1200.6222,\n",
       " 1272.0712,\n",
       " 344.64792,\n",
       " 693.76666,\n",
       " 1671.3374,\n",
       " 365.78485,\n",
       " 333.8161,\n",
       " 557.33325,\n",
       " 382.06458,\n",
       " 434.1988,\n",
       " 348.25006,\n",
       " 374.32977,\n",
       " 214.41856,\n",
       " 423.09253,\n",
       " 687.95685,\n",
       " 546.1623,\n",
       " 826.02106,\n",
       " 151.31473,\n",
       " 1080.0898,\n",
       " 642.8782,\n",
       " 198.1008,\n",
       " 911.4202,\n",
       " 1805.7013,\n",
       " 919.1925,\n",
       " 217.55733,\n",
       " 750.1632,\n",
       " 287.7508,\n",
       " 1267.6025,\n",
       " 438.91888,\n",
       " 502.85437,\n",
       " 561.7643,\n",
       " 332.19513,\n",
       " 1039.0052,\n",
       " 344.37885,\n",
       " 588.2398,\n",
       " 399.21674,\n",
       " 1320.0885,\n",
       " 253.51532,\n",
       " 235.73874,\n",
       " 514.13434,\n",
       " 713.62354,\n",
       " 598.26776,\n",
       " 232.13092,\n",
       " 252.57457,\n",
       " 524.3004,\n",
       " 109.19349,\n",
       " 248.84583,\n",
       " 291.19034,\n",
       " 485.7107,\n",
       " 297.73602,\n",
       " 81.05811,\n",
       " 502.3147,\n",
       " 749.32556,\n",
       " 346.61993]"
      ]
     },
     "execution_count": 110,
     "metadata": {},
     "output_type": "execute_result"
    }
   ],
   "source": [
    "pred"
   ]
  },
  {
   "cell_type": "code",
   "execution_count": 111,
   "id": "1f5487a9",
   "metadata": {},
   "outputs": [
    {
     "data": {
      "text/html": [
       "<div>\n",
       "<style scoped>\n",
       "    .dataframe tbody tr th:only-of-type {\n",
       "        vertical-align: middle;\n",
       "    }\n",
       "\n",
       "    .dataframe tbody tr th {\n",
       "        vertical-align: top;\n",
       "    }\n",
       "\n",
       "    .dataframe thead th {\n",
       "        text-align: right;\n",
       "    }\n",
       "</style>\n",
       "<table border=\"1\" class=\"dataframe\">\n",
       "  <thead>\n",
       "    <tr style=\"text-align: right;\">\n",
       "      <th></th>\n",
       "      <th>TRIP_ID</th>\n",
       "      <th>TRAVEL_TIME</th>\n",
       "    </tr>\n",
       "  </thead>\n",
       "  <tbody>\n",
       "    <tr>\n",
       "      <th>0</th>\n",
       "      <td>T1</td>\n",
       "      <td>509.663666</td>\n",
       "    </tr>\n",
       "    <tr>\n",
       "      <th>1</th>\n",
       "      <td>T2</td>\n",
       "      <td>126.079170</td>\n",
       "    </tr>\n",
       "    <tr>\n",
       "      <th>2</th>\n",
       "      <td>T3</td>\n",
       "      <td>650.446289</td>\n",
       "    </tr>\n",
       "    <tr>\n",
       "      <th>3</th>\n",
       "      <td>T4</td>\n",
       "      <td>326.465851</td>\n",
       "    </tr>\n",
       "    <tr>\n",
       "      <th>4</th>\n",
       "      <td>T5</td>\n",
       "      <td>264.091003</td>\n",
       "    </tr>\n",
       "    <tr>\n",
       "      <th>...</th>\n",
       "      <td>...</td>\n",
       "      <td>...</td>\n",
       "    </tr>\n",
       "    <tr>\n",
       "      <th>315</th>\n",
       "      <td>T323</td>\n",
       "      <td>297.736023</td>\n",
       "    </tr>\n",
       "    <tr>\n",
       "      <th>316</th>\n",
       "      <td>T324</td>\n",
       "      <td>81.058113</td>\n",
       "    </tr>\n",
       "    <tr>\n",
       "      <th>317</th>\n",
       "      <td>T325</td>\n",
       "      <td>502.314697</td>\n",
       "    </tr>\n",
       "    <tr>\n",
       "      <th>318</th>\n",
       "      <td>T326</td>\n",
       "      <td>749.325562</td>\n",
       "    </tr>\n",
       "    <tr>\n",
       "      <th>319</th>\n",
       "      <td>T327</td>\n",
       "      <td>346.619934</td>\n",
       "    </tr>\n",
       "  </tbody>\n",
       "</table>\n",
       "<p>320 rows × 2 columns</p>\n",
       "</div>"
      ],
      "text/plain": [
       "    TRIP_ID  TRAVEL_TIME\n",
       "0        T1   509.663666\n",
       "1        T2   126.079170\n",
       "2        T3   650.446289\n",
       "3        T4   326.465851\n",
       "4        T5   264.091003\n",
       "..      ...          ...\n",
       "315    T323   297.736023\n",
       "316    T324    81.058113\n",
       "317    T325   502.314697\n",
       "318    T326   749.325562\n",
       "319    T327   346.619934\n",
       "\n",
       "[320 rows x 2 columns]"
      ]
     },
     "execution_count": 111,
     "metadata": {},
     "output_type": "execute_result"
    }
   ],
   "source": [
    "test_df = pd.read_csv('test_public.csv')\n",
    "test_data = {'TRIP_ID': test_df['TRIP_ID'],\n",
    "    'TRAVEL_TIME': pred}\n",
    "output = pd.DataFrame(data = test_data)\n",
    "output"
   ]
  },
  {
   "cell_type": "code",
   "execution_count": 112,
   "id": "8ef3c428",
   "metadata": {},
   "outputs": [],
   "source": [
    "output.to_csv('zeds_test_june5_3.csv', index=False)\n"
   ]
  },
  {
   "cell_type": "code",
   "execution_count": null,
   "id": "5917014e",
   "metadata": {},
   "outputs": [],
   "source": []
  }
 ],
 "metadata": {
  "kernelspec": {
   "display_name": "Python 3 (ipykernel)",
   "language": "python",
   "name": "python3"
  },
  "language_info": {
   "codemirror_mode": {
    "name": "ipython",
    "version": 3
   },
   "file_extension": ".py",
   "mimetype": "text/x-python",
   "name": "python",
   "nbconvert_exporter": "python",
   "pygments_lexer": "ipython3",
   "version": "3.9.5"
  }
 },
 "nbformat": 4,
 "nbformat_minor": 5
}
